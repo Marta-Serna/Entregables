{
 "cells": [
  {
   "cell_type": "markdown",
   "metadata": {},
   "source": [
    "## Ejercicio Time Series Forecast\n",
    "Para este ejercicio vamos a predecir cuál será la demanda de pasajeros de una aerolinea, para poder anticiparse a las contrataciones de personal, mantenimiento de las aeronaves y gestión de inventario y comidas.\n",
    "\n",
    "Para ello, se pide:\n",
    "1. Carga datos (AirPassengers.csv) y representa la serie. ¿Hay seasonality? ¿Cada cuanto?\n",
    "2. Crea en una gráfica la variable original + su media obtenida mediante una rolling window con el valor de seasonality obtenido en el apartado anterior. Tienes que usar la función rolling() del DataFrame.\n",
    "3. Comprueba de manera estadística si la serie es o no stationary.\n",
    "4. Aplica una transformación logarítmica sobre los datos para mejorar el proceso de transformación de tu time series a stationary. Acuérdate después del forecast de invertir la transformación.\n",
    "5. Divide en train y test. Guarda 20 muestras para test.\n",
    "6. Crea tu primer modelo ARIMA. Habrá varias combinaciones en función de sus hiperparámetros... Mide el MAE y RMSE del modelo en predicción. Ten en cuenta el parámetro \"m\" de la función ARIMA, mediante el cual se establece el seasonality.\n",
    "7. Representa en una gráfica los datos de test y tus predicciones.\n",
    "8. Prueba un decission tree y un random forest, a ver qué performance presentan."
   ]
  },
  {
   "cell_type": "code",
   "execution_count": 1,
   "metadata": {},
   "outputs": [],
   "source": [
    "import pandas as pd\n",
    "import numpy as np\n",
    "import matplotlib.pyplot as plt\n",
    "import warnings \n",
    "# warnings.filterwarnings(\"ignore\")"
   ]
  },
  {
   "cell_type": "markdown",
   "metadata": {},
   "source": [
    "## 1. Carga datos (AirPassengers.csv) y representa la serie. ¿Hay seasonality? ¿Cada cuanto?\n"
   ]
  },
  {
   "cell_type": "code",
   "execution_count": 2,
   "metadata": {},
   "outputs": [
    {
     "data": {
      "text/html": [
       "<div>\n",
       "<style scoped>\n",
       "    .dataframe tbody tr th:only-of-type {\n",
       "        vertical-align: middle;\n",
       "    }\n",
       "\n",
       "    .dataframe tbody tr th {\n",
       "        vertical-align: top;\n",
       "    }\n",
       "\n",
       "    .dataframe thead th {\n",
       "        text-align: right;\n",
       "    }\n",
       "</style>\n",
       "<table border=\"1\" class=\"dataframe\">\n",
       "  <thead>\n",
       "    <tr style=\"text-align: right;\">\n",
       "      <th></th>\n",
       "      <th>date</th>\n",
       "      <th>value</th>\n",
       "    </tr>\n",
       "  </thead>\n",
       "  <tbody>\n",
       "    <tr>\n",
       "      <th>0</th>\n",
       "      <td>1949-01-01</td>\n",
       "      <td>112</td>\n",
       "    </tr>\n",
       "    <tr>\n",
       "      <th>1</th>\n",
       "      <td>1949-02-01</td>\n",
       "      <td>118</td>\n",
       "    </tr>\n",
       "    <tr>\n",
       "      <th>2</th>\n",
       "      <td>1949-03-01</td>\n",
       "      <td>132</td>\n",
       "    </tr>\n",
       "    <tr>\n",
       "      <th>3</th>\n",
       "      <td>1949-04-01</td>\n",
       "      <td>129</td>\n",
       "    </tr>\n",
       "    <tr>\n",
       "      <th>4</th>\n",
       "      <td>1949-05-01</td>\n",
       "      <td>121</td>\n",
       "    </tr>\n",
       "    <tr>\n",
       "      <th>...</th>\n",
       "      <td>...</td>\n",
       "      <td>...</td>\n",
       "    </tr>\n",
       "    <tr>\n",
       "      <th>139</th>\n",
       "      <td>1960-08-01</td>\n",
       "      <td>606</td>\n",
       "    </tr>\n",
       "    <tr>\n",
       "      <th>140</th>\n",
       "      <td>1960-09-01</td>\n",
       "      <td>508</td>\n",
       "    </tr>\n",
       "    <tr>\n",
       "      <th>141</th>\n",
       "      <td>1960-10-01</td>\n",
       "      <td>461</td>\n",
       "    </tr>\n",
       "    <tr>\n",
       "      <th>142</th>\n",
       "      <td>1960-11-01</td>\n",
       "      <td>390</td>\n",
       "    </tr>\n",
       "    <tr>\n",
       "      <th>143</th>\n",
       "      <td>1960-12-01</td>\n",
       "      <td>432</td>\n",
       "    </tr>\n",
       "  </tbody>\n",
       "</table>\n",
       "<p>144 rows × 2 columns</p>\n",
       "</div>"
      ],
      "text/plain": [
       "           date  value\n",
       "0    1949-01-01    112\n",
       "1    1949-02-01    118\n",
       "2    1949-03-01    132\n",
       "3    1949-04-01    129\n",
       "4    1949-05-01    121\n",
       "..          ...    ...\n",
       "139  1960-08-01    606\n",
       "140  1960-09-01    508\n",
       "141  1960-10-01    461\n",
       "142  1960-11-01    390\n",
       "143  1960-12-01    432\n",
       "\n",
       "[144 rows x 2 columns]"
      ]
     },
     "execution_count": 2,
     "metadata": {},
     "output_type": "execute_result"
    }
   ],
   "source": [
    "df = pd.read_csv(\"data\\AirPassengers.csv\")\n",
    "df"
   ]
  },
  {
   "cell_type": "code",
   "execution_count": 3,
   "metadata": {},
   "outputs": [
    {
     "name": "stdout",
     "output_type": "stream",
     "text": [
      "<class 'pandas.core.frame.DataFrame'>\n",
      "RangeIndex: 144 entries, 0 to 143\n",
      "Data columns (total 2 columns):\n",
      " #   Column  Non-Null Count  Dtype \n",
      "---  ------  --------------  ----- \n",
      " 0   date    144 non-null    object\n",
      " 1   value   144 non-null    int64 \n",
      "dtypes: int64(1), object(1)\n",
      "memory usage: 2.4+ KB\n"
     ]
    }
   ],
   "source": [
    "df.info()"
   ]
  },
  {
   "cell_type": "code",
   "execution_count": 4,
   "metadata": {},
   "outputs": [
    {
     "data": {
      "text/html": [
       "<div>\n",
       "<style scoped>\n",
       "    .dataframe tbody tr th:only-of-type {\n",
       "        vertical-align: middle;\n",
       "    }\n",
       "\n",
       "    .dataframe tbody tr th {\n",
       "        vertical-align: top;\n",
       "    }\n",
       "\n",
       "    .dataframe thead th {\n",
       "        text-align: right;\n",
       "    }\n",
       "</style>\n",
       "<table border=\"1\" class=\"dataframe\">\n",
       "  <thead>\n",
       "    <tr style=\"text-align: right;\">\n",
       "      <th></th>\n",
       "      <th>date</th>\n",
       "      <th>value</th>\n",
       "    </tr>\n",
       "  </thead>\n",
       "  <tbody>\n",
       "    <tr>\n",
       "      <th>0</th>\n",
       "      <td>1949-01-01</td>\n",
       "      <td>112</td>\n",
       "    </tr>\n",
       "    <tr>\n",
       "      <th>1</th>\n",
       "      <td>1949-02-01</td>\n",
       "      <td>118</td>\n",
       "    </tr>\n",
       "    <tr>\n",
       "      <th>2</th>\n",
       "      <td>1949-03-01</td>\n",
       "      <td>132</td>\n",
       "    </tr>\n",
       "    <tr>\n",
       "      <th>3</th>\n",
       "      <td>1949-04-01</td>\n",
       "      <td>129</td>\n",
       "    </tr>\n",
       "    <tr>\n",
       "      <th>4</th>\n",
       "      <td>1949-05-01</td>\n",
       "      <td>121</td>\n",
       "    </tr>\n",
       "  </tbody>\n",
       "</table>\n",
       "</div>"
      ],
      "text/plain": [
       "         date  value\n",
       "0  1949-01-01    112\n",
       "1  1949-02-01    118\n",
       "2  1949-03-01    132\n",
       "3  1949-04-01    129\n",
       "4  1949-05-01    121"
      ]
     },
     "execution_count": 4,
     "metadata": {},
     "output_type": "execute_result"
    }
   ],
   "source": [
    "df.head()"
   ]
  },
  {
   "cell_type": "code",
   "execution_count": 5,
   "metadata": {},
   "outputs": [
    {
     "data": {
      "image/png": "[encoded data removed]",
      "text/plain": [
       "<Figure size 640x480 with 1 Axes>"
      ]
     },
     "metadata": {},
     "output_type": "display_data"
    }
   ],
   "source": [
    "from pandas.plotting import autocorrelation_plot\n",
    "\n",
    "autocorrelation_plot(df[\"value\"].values);"
   ]
  },
  {
   "cell_type": "markdown",
   "metadata": {},
   "source": [
    "## 2. Crea en una gráfica la variable original + su media obtenida mediante una rolling window con el valor de seasonality obtenido en el apartado anterior. Tienes que usar la función rolling() del DataFrame."
   ]
  },
  {
   "cell_type": "code",
   "execution_count": 77,
   "metadata": {},
   "outputs": [
    {
     "data": {
      "text/html": [
       "<div>\n",
       "<style scoped>\n",
       "    .dataframe tbody tr th:only-of-type {\n",
       "        vertical-align: middle;\n",
       "    }\n",
       "\n",
       "    .dataframe tbody tr th {\n",
       "        vertical-align: top;\n",
       "    }\n",
       "\n",
       "    .dataframe thead th {\n",
       "        text-align: right;\n",
       "    }\n",
       "</style>\n",
       "<table border=\"1\" class=\"dataframe\">\n",
       "  <thead>\n",
       "    <tr style=\"text-align: right;\">\n",
       "      <th></th>\n",
       "      <th>value</th>\n",
       "    </tr>\n",
       "    <tr>\n",
       "      <th>date</th>\n",
       "      <th></th>\n",
       "    </tr>\n",
       "  </thead>\n",
       "  <tbody>\n",
       "    <tr>\n",
       "      <th>1949-01-01</th>\n",
       "      <td>112</td>\n",
       "    </tr>\n",
       "    <tr>\n",
       "      <th>1949-02-01</th>\n",
       "      <td>118</td>\n",
       "    </tr>\n",
       "    <tr>\n",
       "      <th>1949-03-01</th>\n",
       "      <td>132</td>\n",
       "    </tr>\n",
       "    <tr>\n",
       "      <th>1949-04-01</th>\n",
       "      <td>129</td>\n",
       "    </tr>\n",
       "    <tr>\n",
       "      <th>1949-05-01</th>\n",
       "      <td>121</td>\n",
       "    </tr>\n",
       "    <tr>\n",
       "      <th>...</th>\n",
       "      <td>...</td>\n",
       "    </tr>\n",
       "    <tr>\n",
       "      <th>1960-08-01</th>\n",
       "      <td>606</td>\n",
       "    </tr>\n",
       "    <tr>\n",
       "      <th>1960-09-01</th>\n",
       "      <td>508</td>\n",
       "    </tr>\n",
       "    <tr>\n",
       "      <th>1960-10-01</th>\n",
       "      <td>461</td>\n",
       "    </tr>\n",
       "    <tr>\n",
       "      <th>1960-11-01</th>\n",
       "      <td>390</td>\n",
       "    </tr>\n",
       "    <tr>\n",
       "      <th>1960-12-01</th>\n",
       "      <td>432</td>\n",
       "    </tr>\n",
       "  </tbody>\n",
       "</table>\n",
       "<p>144 rows × 1 columns</p>\n",
       "</div>"
      ],
      "text/plain": [
       "            value\n",
       "date             \n",
       "1949-01-01    112\n",
       "1949-02-01    118\n",
       "1949-03-01    132\n",
       "1949-04-01    129\n",
       "1949-05-01    121\n",
       "...           ...\n",
       "1960-08-01    606\n",
       "1960-09-01    508\n",
       "1960-10-01    461\n",
       "1960-11-01    390\n",
       "1960-12-01    432\n",
       "\n",
       "[144 rows x 1 columns]"
      ]
     },
     "execution_count": 77,
     "metadata": {},
     "output_type": "execute_result"
    }
   ],
   "source": [
    "df"
   ]
  },
  {
   "cell_type": "code",
   "execution_count": 9,
   "metadata": {},
   "outputs": [
    {
     "data": {
      "text/plain": [
       "0      112.000000\n",
       "1      115.000000\n",
       "2      120.666667\n",
       "3      122.750000\n",
       "4      122.400000\n",
       "          ...    \n",
       "139    326.090000\n",
       "140    329.340000\n",
       "141    331.770000\n",
       "142    333.370000\n",
       "143    335.270000\n",
       "Name: value, Length: 144, dtype: float64"
      ]
     },
     "execution_count": 9,
     "metadata": {},
     "output_type": "execute_result"
    }
   ],
   "source": [
    "df_ma = df[\"value\"].rolling(100, min_periods=1).mean() \n",
    "df_ma"
   ]
  },
  {
   "cell_type": "code",
   "execution_count": 10,
   "metadata": {},
   "outputs": [
    {
     "data": {
      "text/plain": [
       "[<matplotlib.lines.Line2D at 0x2d39ae1afe0>]"
      ]
     },
     "execution_count": 10,
     "metadata": {},
     "output_type": "execute_result"
    },
    {
     "data": {
      "image/png": "[encoded data removed]",
      "text/plain": [
       "<Figure size 640x480 with 1 Axes>"
      ]
     },
     "metadata": {},
     "output_type": "display_data"
    }
   ],
   "source": [
    "plt.plot(df[\"value\"])\n",
    "plt.plot(df_ma,color='red')"
   ]
  },
  {
   "cell_type": "markdown",
   "metadata": {},
   "source": [
    "## 3. Comprueba de manera estadística si la serie es o no stationary."
   ]
  },
  {
   "cell_type": "code",
   "execution_count": 6,
   "metadata": {},
   "outputs": [],
   "source": [
    "from statsmodels.tsa.stattools import adfuller"
   ]
  },
  {
   "cell_type": "code",
   "execution_count": 7,
   "metadata": {},
   "outputs": [
    {
     "data": {
      "text/plain": [
       "0.991880243437641"
      ]
     },
     "execution_count": 7,
     "metadata": {},
     "output_type": "execute_result"
    }
   ],
   "source": [
    "result = adfuller(df['value'].values)\n",
    "result[1]"
   ]
  },
  {
   "cell_type": "markdown",
   "metadata": {},
   "source": [
    "## 4. Aplica una transformación logarítmica"
   ]
  },
  {
   "cell_type": "code",
   "execution_count": null,
   "metadata": {},
   "outputs": [],
   "source": [
    "# hacemos transformación logarítmica cuando la gráfica está muy escorada hacia la izq o la dcha\n",
    "df_log = np.log(df)\n",
    "df_log"
   ]
  },
  {
   "cell_type": "code",
   "execution_count": 92,
   "metadata": {},
   "outputs": [
    {
     "data": {
      "text/plain": [
       "<AxesSubplot:xlabel='date'>"
      ]
     },
     "execution_count": 92,
     "metadata": {},
     "output_type": "execute_result"
    },
    {
     "data": {
      "image/png": "[encoded data removed]",
      "text/plain": [
       "<Figure size 432x288 with 1 Axes>"
      ]
     },
     "metadata": {
      "needs_background": "light"
     },
     "output_type": "display_data"
    }
   ],
   "source": [
    "plt.plot(df_log)"
   ]
  },
  {
   "cell_type": "markdown",
   "metadata": {},
   "source": [
    "## 5. Divide en train y test. Guarda 20 muestras para test."
   ]
  },
  {
   "cell_type": "code",
   "execution_count": 22,
   "metadata": {},
   "outputs": [
    {
     "name": "stdout",
     "output_type": "stream",
     "text": [
      "(124,)\n",
      "(20,)\n"
     ]
    }
   ],
   "source": [
    "# shapes de train y test\n"
   ]
  },
  {
   "cell_type": "code",
   "execution_count": null,
   "metadata": {},
   "outputs": [],
   "source": [
    "from sklearn.model_selection import train_test_split\n",
    "\n",
    "train, test = train_test_split(df, test_size=20, random_state=42)\n",
    "\n",
    "train.shape\n",
    "test.shape"
   ]
  },
  {
   "cell_type": "markdown",
   "metadata": {},
   "source": [
    "## 6. Crea tu primer modelo ARIMA"
   ]
  },
  {
   "cell_type": "code",
   "execution_count": 17,
   "metadata": {},
   "outputs": [
    {
     "name": "stdout",
     "output_type": "stream",
     "text": [
      "Collecting pmdarima\n",
      "  Downloading pmdarima-2.0.4-cp310-cp310-win_amd64.whl.metadata (8.0 kB)\n",
      "Requirement already satisfied: joblib>=0.11 in c:\\users\\usuario\\.conda\\envs\\ml-env\\lib\\site-packages (from pmdarima) (1.4.2)\n",
      "Collecting Cython!=0.29.18,!=0.29.31,>=0.29 (from pmdarima)\n",
      "  Downloading Cython-3.0.10-cp310-cp310-win_amd64.whl.metadata (3.2 kB)\n",
      "Requirement already satisfied: numpy>=1.21.2 in c:\\users\\usuario\\.conda\\envs\\ml-env\\lib\\site-packages (from pmdarima) (1.26.4)\n",
      "Requirement already satisfied: pandas>=0.19 in c:\\users\\usuario\\.conda\\envs\\ml-env\\lib\\site-packages (from pmdarima) (2.2.2)\n",
      "Requirement already satisfied: scikit-learn>=0.22 in c:\\users\\usuario\\.conda\\envs\\ml-env\\lib\\site-packages (from pmdarima) (1.4.2)\n",
      "Requirement already satisfied: scipy>=1.3.2 in c:\\users\\usuario\\.conda\\envs\\ml-env\\lib\\site-packages (from pmdarima) (1.13.0)\n",
      "Requirement already satisfied: statsmodels>=0.13.2 in c:\\users\\usuario\\.conda\\envs\\ml-env\\lib\\site-packages (from pmdarima) (0.14.2)\n",
      "Requirement already satisfied: urllib3 in c:\\users\\usuario\\.conda\\envs\\ml-env\\lib\\site-packages (from pmdarima) (2.2.1)\n",
      "Requirement already satisfied: setuptools!=50.0.0,>=38.6.0 in c:\\users\\usuario\\.conda\\envs\\ml-env\\lib\\site-packages (from pmdarima) (69.5.1)\n",
      "Requirement already satisfied: packaging>=17.1 in c:\\users\\usuario\\.conda\\envs\\ml-env\\lib\\site-packages (from pmdarima) (24.0)\n",
      "Requirement already satisfied: python-dateutil>=2.8.2 in c:\\users\\usuario\\.conda\\envs\\ml-env\\lib\\site-packages (from pandas>=0.19->pmdarima) (2.9.0.post0)\n",
      "Requirement already satisfied: pytz>=2020.1 in c:\\users\\usuario\\.conda\\envs\\ml-env\\lib\\site-packages (from pandas>=0.19->pmdarima) (2024.1)\n",
      "Requirement already satisfied: tzdata>=2022.7 in c:\\users\\usuario\\.conda\\envs\\ml-env\\lib\\site-packages (from pandas>=0.19->pmdarima) (2024.1)\n",
      "Requirement already satisfied: threadpoolctl>=2.0.0 in c:\\users\\usuario\\.conda\\envs\\ml-env\\lib\\site-packages (from scikit-learn>=0.22->pmdarima) (3.5.0)\n",
      "Requirement already satisfied: patsy>=0.5.6 in c:\\users\\usuario\\.conda\\envs\\ml-env\\lib\\site-packages (from statsmodels>=0.13.2->pmdarima) (0.5.6)\n",
      "Requirement already satisfied: six in c:\\users\\usuario\\.conda\\envs\\ml-env\\lib\\site-packages (from patsy>=0.5.6->statsmodels>=0.13.2->pmdarima) (1.16.0)\n",
      "Downloading pmdarima-2.0.4-cp310-cp310-win_amd64.whl (613 kB)\n",
      "   ---------------------------------------- 0.0/613.3 kB ? eta -:--:--\n",
      "    --------------------------------------- 10.2/613.3 kB ? eta -:--:--\n",
      "   - ------------------------------------- 20.5/613.3 kB 217.9 kB/s eta 0:00:03\n",
      "   -- ------------------------------------ 41.0/613.3 kB 281.8 kB/s eta 0:00:03\n",
      "   ------ ------------------------------- 102.4/613.3 kB 492.8 kB/s eta 0:00:02\n",
      "   ---------- --------------------------- 163.8/613.3 kB 614.4 kB/s eta 0:00:01\n",
      "   --------------- ---------------------- 245.8/613.3 kB 754.9 kB/s eta 0:00:01\n",
      "   ------------------- ------------------ 317.4/613.3 kB 787.7 kB/s eta 0:00:01\n",
      "   ------------------------ ------------- 399.4/613.3 kB 859.0 kB/s eta 0:00:01\n",
      "   --------------------------- ---------- 450.6/613.3 kB 880.6 kB/s eta 0:00:01\n",
      "   ------------------------------- ------ 512.0/613.3 kB 892.8 kB/s eta 0:00:01\n",
      "   ----------------------------------- -- 573.4/613.3 kB 901.1 kB/s eta 0:00:01\n",
      "   -------------------------------------- 613.3/613.3 kB 897.4 kB/s eta 0:00:00\n",
      "Downloading Cython-3.0.10-cp310-cp310-win_amd64.whl (2.8 MB)\n",
      "   ---------------------------------------- 0.0/2.8 MB ? eta -:--:--\n",
      "   - -------------------------------------- 0.1/2.8 MB 2.3 MB/s eta 0:00:02\n",
      "   -- ------------------------------------- 0.2/2.8 MB 1.6 MB/s eta 0:00:02\n",
      "   --- ------------------------------------ 0.3/2.8 MB 1.6 MB/s eta 0:00:02\n",
      "   ---- ----------------------------------- 0.3/2.8 MB 1.5 MB/s eta 0:00:02\n",
      "   ------ --------------------------------- 0.4/2.8 MB 1.4 MB/s eta 0:00:02\n",
      "   ------- -------------------------------- 0.6/2.8 MB 1.4 MB/s eta 0:00:02\n",
      "   --------- ------------------------------ 0.7/2.8 MB 1.5 MB/s eta 0:00:02\n",
      "   ----------- ---------------------------- 0.8/2.8 MB 1.5 MB/s eta 0:00:02\n",
      "   ----------- ---------------------------- 0.8/2.8 MB 1.4 MB/s eta 0:00:02\n",
      "   ------------ --------------------------- 0.8/2.8 MB 1.3 MB/s eta 0:00:02\n",
      "   ------------- -------------------------- 0.9/2.8 MB 1.4 MB/s eta 0:00:02\n",
      "   -------------- ------------------------- 1.0/2.8 MB 1.4 MB/s eta 0:00:02\n",
      "   --------------- ------------------------ 1.1/2.8 MB 1.4 MB/s eta 0:00:02\n",
      "   ----------------- ---------------------- 1.2/2.8 MB 1.4 MB/s eta 0:00:02\n",
      "   ------------------ --------------------- 1.3/2.8 MB 1.4 MB/s eta 0:00:02\n",
      "   ------------------- -------------------- 1.4/2.8 MB 1.4 MB/s eta 0:00:02\n",
      "   -------------------- ------------------- 1.5/2.8 MB 1.4 MB/s eta 0:00:01\n",
      "   ---------------------- ----------------- 1.6/2.8 MB 1.4 MB/s eta 0:00:01\n",
      "   ----------------------- ---------------- 1.6/2.8 MB 1.4 MB/s eta 0:00:01\n",
      "   ------------------------ --------------- 1.7/2.8 MB 1.4 MB/s eta 0:00:01\n",
      "   -------------------------- ------------- 1.8/2.8 MB 1.4 MB/s eta 0:00:01\n",
      "   --------------------------- ------------ 1.9/2.8 MB 1.5 MB/s eta 0:00:01\n",
      "   ----------------------------- ---------- 2.0/2.8 MB 1.5 MB/s eta 0:00:01\n",
      "   ------------------------------ --------- 2.1/2.8 MB 1.4 MB/s eta 0:00:01\n",
      "   ------------------------------- -------- 2.2/2.8 MB 1.5 MB/s eta 0:00:01\n",
      "   --------------------------------- ------ 2.4/2.8 MB 1.5 MB/s eta 0:00:01\n",
      "   ----------------------------------- ---- 2.5/2.8 MB 1.5 MB/s eta 0:00:01\n",
      "   ------------------------------------- -- 2.6/2.8 MB 1.5 MB/s eta 0:00:01\n",
      "   -------------------------------------- - 2.7/2.8 MB 1.5 MB/s eta 0:00:01\n",
      "   ---------------------------------------  2.8/2.8 MB 1.5 MB/s eta 0:00:01\n",
      "   ---------------------------------------- 2.8/2.8 MB 1.5 MB/s eta 0:00:00\n",
      "Installing collected packages: Cython, pmdarima\n",
      "Successfully installed Cython-3.0.10 pmdarima-2.0.4\n",
      "Note: you may need to restart the kernel to use updated packages.\n"
     ]
    }
   ],
   "source": [
    "pip install pmdarima"
   ]
  },
  {
   "cell_type": "code",
   "execution_count": 18,
   "metadata": {},
   "outputs": [],
   "source": [
    "from pmdarima.arima import auto_arima\n",
    "from sklearn.metrics import mean_absolute_error, mean_absolute_percentage_error"
   ]
  },
  {
   "cell_type": "code",
   "execution_count": null,
   "metadata": {},
   "outputs": [],
   "source": [
    "# módelo con art_p=1, start_q=1, max_d=3, max_p=5, max_q=5 y stationary=False\n",
    "\n",
    "model = auto_arima(train,\n",
    "                   start_p=1,\n",
    "                    start_q=1,\n",
    "                    max_d=3,\n",
    "                    max_p=5,\n",
    "                    max_q=5,\n",
    "                    stationary=False,\n",
    "                    trace=True,\n",
    "                    stepwise=True)\n",
    "\n",
    "print(model.aic())"
   ]
  },
  {
   "cell_type": "code",
   "execution_count": 84,
   "metadata": {},
   "outputs": [
    {
     "data": {
      "text/plain": [
       "array([396.80138345, 395.79112516, 369.52313598, 387.27007933,\n",
       "       364.88245741, 381.961082  , 378.29898929, 376.23006892,\n",
       "       389.42713079, 372.28691084, 389.13738288, 375.00996104,\n",
       "       381.30256629, 382.37160442, 374.22919603, 387.11052311,\n",
       "       373.41134741, 385.05707763, 378.37808096, 378.93797036])"
      ]
     },
     "execution_count": 84,
     "metadata": {},
     "output_type": "execute_result"
    }
   ],
   "source": [
    "# predice 20 valores\n",
    "model = ARIMA(order=(0,1,1))\n",
    "model.fit(train)\n",
    "predictions = model.predict(20)\n",
    "predictions\n"
   ]
  },
  {
   "cell_type": "code",
   "execution_count": 31,
   "metadata": {},
   "outputs": [
    {
     "data": {
      "text/plain": [
       "array([6.04025471, 6.15697899, 6.30627529, 6.32614947, 6.13772705,\n",
       "       6.00881319, 5.89164421, 6.00388707, 6.03308622, 5.96870756,\n",
       "       6.03787092, 6.13339804, 6.15697899, 6.28226675, 6.43294009,\n",
       "       6.40687999, 6.23048145, 6.13339804, 5.96614674, 6.06842559])"
      ]
     },
     "execution_count": 31,
     "metadata": {},
     "output_type": "execute_result"
    }
   ],
   "source": [
    "# test.values\n",
    "test.values"
   ]
  },
  {
   "cell_type": "code",
   "execution_count": 66,
   "metadata": {},
   "outputs": [
    {
     "name": "stdout",
     "output_type": "stream",
     "text": [
      "MAE 0.12657252410066783\n",
      "MAPE 0.020640169700076615\n"
     ]
    }
   ],
   "source": [
    "# MAE test\n",
    "# MAPE test\n",
    "from sklearn.metrics import mean_squared_error, mean_absolute_error\n",
    "\n",
    "\n",
    "mse = mean_squared_error(test, predictions)\n",
    "print(\"mean_squared_error:\", mse)\n",
    "\n",
    "# Calcular el MAE\n",
    "mae = mean_absolute_error(test, predictions)\n",
    "print(\"MAE:\", mae)\n",
    "\n",
    "# Calcular el MAPE (MAPE se calcula manualmente)\n",
    "mape = np.mean(np.abs((test - predictions) / test)) * 100\n",
    "print(\"MAPE:\", mape)"
   ]
  },
  {
   "cell_type": "code",
   "execution_count": 95,
   "metadata": {},
   "outputs": [
    {
     "data": {
      "text/plain": [
       "ARIMA(order=(2, 0, 0), scoring_args={}, seasonal_order=(0, 1, 1, 12),\n",
       "      suppress_warnings=True)"
      ]
     },
     "execution_count": 95,
     "metadata": {},
     "output_type": "execute_result"
    }
   ],
   "source": [
    "# reentrena el módelo incluyendo el argumento m=12"
   ]
  },
  {
   "cell_type": "code",
   "execution_count": 96,
   "metadata": {},
   "outputs": [
    {
     "name": "stdout",
     "output_type": "stream",
     "text": [
      "MAE 0.02702695363004102\n",
      "MAPE 0.004412233526458519\n"
     ]
    }
   ],
   "source": [
    "# vuelve a predecir 20 valores y obtén MAE test y MAPE test\n",
    "\n",
    "# compara con los valores previos"
   ]
  },
  {
   "cell_type": "markdown",
   "metadata": {},
   "source": [
    "## 7. Representa en una gráfica los datos de test y tus predicciones."
   ]
  },
  {
   "cell_type": "code",
   "execution_count": 97,
   "metadata": {},
   "outputs": [
    {
     "data": {
      "image/png": "[encoded data removed]",
      "text/plain": [
       "<Figure size 432x288 with 1 Axes>"
      ]
     },
     "metadata": {
      "needs_background": "light"
     },
     "output_type": "display_data"
    }
   ],
   "source": []
  },
  {
   "cell_type": "markdown",
   "metadata": {},
   "source": [
    "## 8. Prueba otros modelos, a ver qué performance presentan."
   ]
  },
  {
   "cell_type": "code",
   "execution_count": 98,
   "metadata": {},
   "outputs": [
    {
     "data": {
      "text/html": [
       "<div>\n",
       "<style scoped>\n",
       "    .dataframe tbody tr th:only-of-type {\n",
       "        vertical-align: middle;\n",
       "    }\n",
       "\n",
       "    .dataframe tbody tr th {\n",
       "        vertical-align: top;\n",
       "    }\n",
       "\n",
       "    .dataframe thead th {\n",
       "        text-align: right;\n",
       "    }\n",
       "</style>\n",
       "<table border=\"1\" class=\"dataframe\">\n",
       "  <thead>\n",
       "    <tr style=\"text-align: right;\">\n",
       "      <th></th>\n",
       "      <th>value</th>\n",
       "      <th>t-12</th>\n",
       "      <th>t-11</th>\n",
       "      <th>t-10</th>\n",
       "      <th>t-9</th>\n",
       "      <th>t-8</th>\n",
       "      <th>t-7</th>\n",
       "      <th>t-6</th>\n",
       "      <th>t-5</th>\n",
       "      <th>t-4</th>\n",
       "      <th>t-3</th>\n",
       "      <th>t-2</th>\n",
       "      <th>t-1</th>\n",
       "    </tr>\n",
       "    <tr>\n",
       "      <th>date</th>\n",
       "      <th></th>\n",
       "      <th></th>\n",
       "      <th></th>\n",
       "      <th></th>\n",
       "      <th></th>\n",
       "      <th></th>\n",
       "      <th></th>\n",
       "      <th></th>\n",
       "      <th></th>\n",
       "      <th></th>\n",
       "      <th></th>\n",
       "      <th></th>\n",
       "      <th></th>\n",
       "    </tr>\n",
       "  </thead>\n",
       "  <tbody>\n",
       "    <tr>\n",
       "      <th>1950-01-01</th>\n",
       "      <td>4.744932</td>\n",
       "      <td>4.718499</td>\n",
       "      <td>4.770685</td>\n",
       "      <td>4.882802</td>\n",
       "      <td>4.859812</td>\n",
       "      <td>4.795791</td>\n",
       "      <td>4.905275</td>\n",
       "      <td>4.997212</td>\n",
       "      <td>4.997212</td>\n",
       "      <td>4.912655</td>\n",
       "      <td>4.779123</td>\n",
       "      <td>4.644391</td>\n",
       "      <td>4.770685</td>\n",
       "    </tr>\n",
       "    <tr>\n",
       "      <th>1950-02-01</th>\n",
       "      <td>4.836282</td>\n",
       "      <td>4.770685</td>\n",
       "      <td>4.882802</td>\n",
       "      <td>4.859812</td>\n",
       "      <td>4.795791</td>\n",
       "      <td>4.905275</td>\n",
       "      <td>4.997212</td>\n",
       "      <td>4.997212</td>\n",
       "      <td>4.912655</td>\n",
       "      <td>4.779123</td>\n",
       "      <td>4.644391</td>\n",
       "      <td>4.770685</td>\n",
       "      <td>4.744932</td>\n",
       "    </tr>\n",
       "    <tr>\n",
       "      <th>1950-03-01</th>\n",
       "      <td>4.948760</td>\n",
       "      <td>4.882802</td>\n",
       "      <td>4.859812</td>\n",
       "      <td>4.795791</td>\n",
       "      <td>4.905275</td>\n",
       "      <td>4.997212</td>\n",
       "      <td>4.997212</td>\n",
       "      <td>4.912655</td>\n",
       "      <td>4.779123</td>\n",
       "      <td>4.644391</td>\n",
       "      <td>4.770685</td>\n",
       "      <td>4.744932</td>\n",
       "      <td>4.836282</td>\n",
       "    </tr>\n",
       "    <tr>\n",
       "      <th>1950-04-01</th>\n",
       "      <td>4.905275</td>\n",
       "      <td>4.859812</td>\n",
       "      <td>4.795791</td>\n",
       "      <td>4.905275</td>\n",
       "      <td>4.997212</td>\n",
       "      <td>4.997212</td>\n",
       "      <td>4.912655</td>\n",
       "      <td>4.779123</td>\n",
       "      <td>4.644391</td>\n",
       "      <td>4.770685</td>\n",
       "      <td>4.744932</td>\n",
       "      <td>4.836282</td>\n",
       "      <td>4.948760</td>\n",
       "    </tr>\n",
       "    <tr>\n",
       "      <th>1950-05-01</th>\n",
       "      <td>4.828314</td>\n",
       "      <td>4.795791</td>\n",
       "      <td>4.905275</td>\n",
       "      <td>4.997212</td>\n",
       "      <td>4.997212</td>\n",
       "      <td>4.912655</td>\n",
       "      <td>4.779123</td>\n",
       "      <td>4.644391</td>\n",
       "      <td>4.770685</td>\n",
       "      <td>4.744932</td>\n",
       "      <td>4.836282</td>\n",
       "      <td>4.948760</td>\n",
       "      <td>4.905275</td>\n",
       "    </tr>\n",
       "    <tr>\n",
       "      <th>...</th>\n",
       "      <td>...</td>\n",
       "      <td>...</td>\n",
       "      <td>...</td>\n",
       "      <td>...</td>\n",
       "      <td>...</td>\n",
       "      <td>...</td>\n",
       "      <td>...</td>\n",
       "      <td>...</td>\n",
       "      <td>...</td>\n",
       "      <td>...</td>\n",
       "      <td>...</td>\n",
       "      <td>...</td>\n",
       "      <td>...</td>\n",
       "    </tr>\n",
       "    <tr>\n",
       "      <th>1960-08-01</th>\n",
       "      <td>6.406880</td>\n",
       "      <td>6.326149</td>\n",
       "      <td>6.137727</td>\n",
       "      <td>6.008813</td>\n",
       "      <td>5.891644</td>\n",
       "      <td>6.003887</td>\n",
       "      <td>6.033086</td>\n",
       "      <td>5.968708</td>\n",
       "      <td>6.037871</td>\n",
       "      <td>6.133398</td>\n",
       "      <td>6.156979</td>\n",
       "      <td>6.282267</td>\n",
       "      <td>6.432940</td>\n",
       "    </tr>\n",
       "    <tr>\n",
       "      <th>1960-09-01</th>\n",
       "      <td>6.230481</td>\n",
       "      <td>6.137727</td>\n",
       "      <td>6.008813</td>\n",
       "      <td>5.891644</td>\n",
       "      <td>6.003887</td>\n",
       "      <td>6.033086</td>\n",
       "      <td>5.968708</td>\n",
       "      <td>6.037871</td>\n",
       "      <td>6.133398</td>\n",
       "      <td>6.156979</td>\n",
       "      <td>6.282267</td>\n",
       "      <td>6.432940</td>\n",
       "      <td>6.406880</td>\n",
       "    </tr>\n",
       "    <tr>\n",
       "      <th>1960-10-01</th>\n",
       "      <td>6.133398</td>\n",
       "      <td>6.008813</td>\n",
       "      <td>5.891644</td>\n",
       "      <td>6.003887</td>\n",
       "      <td>6.033086</td>\n",
       "      <td>5.968708</td>\n",
       "      <td>6.037871</td>\n",
       "      <td>6.133398</td>\n",
       "      <td>6.156979</td>\n",
       "      <td>6.282267</td>\n",
       "      <td>6.432940</td>\n",
       "      <td>6.406880</td>\n",
       "      <td>6.230481</td>\n",
       "    </tr>\n",
       "    <tr>\n",
       "      <th>1960-11-01</th>\n",
       "      <td>5.966147</td>\n",
       "      <td>5.891644</td>\n",
       "      <td>6.003887</td>\n",
       "      <td>6.033086</td>\n",
       "      <td>5.968708</td>\n",
       "      <td>6.037871</td>\n",
       "      <td>6.133398</td>\n",
       "      <td>6.156979</td>\n",
       "      <td>6.282267</td>\n",
       "      <td>6.432940</td>\n",
       "      <td>6.406880</td>\n",
       "      <td>6.230481</td>\n",
       "      <td>6.133398</td>\n",
       "    </tr>\n",
       "    <tr>\n",
       "      <th>1960-12-01</th>\n",
       "      <td>6.068426</td>\n",
       "      <td>6.003887</td>\n",
       "      <td>6.033086</td>\n",
       "      <td>5.968708</td>\n",
       "      <td>6.037871</td>\n",
       "      <td>6.133398</td>\n",
       "      <td>6.156979</td>\n",
       "      <td>6.282267</td>\n",
       "      <td>6.432940</td>\n",
       "      <td>6.406880</td>\n",
       "      <td>6.230481</td>\n",
       "      <td>6.133398</td>\n",
       "      <td>5.966147</td>\n",
       "    </tr>\n",
       "  </tbody>\n",
       "</table>\n",
       "<p>132 rows × 13 columns</p>\n",
       "</div>"
      ],
      "text/plain": [
       "               value      t-12      t-11      t-10       t-9       t-8  \\\n",
       "date                                                                     \n",
       "1950-01-01  4.744932  4.718499  4.770685  4.882802  4.859812  4.795791   \n",
       "1950-02-01  4.836282  4.770685  4.882802  4.859812  4.795791  4.905275   \n",
       "1950-03-01  4.948760  4.882802  4.859812  4.795791  4.905275  4.997212   \n",
       "1950-04-01  4.905275  4.859812  4.795791  4.905275  4.997212  4.997212   \n",
       "1950-05-01  4.828314  4.795791  4.905275  4.997212  4.997212  4.912655   \n",
       "...              ...       ...       ...       ...       ...       ...   \n",
       "1960-08-01  6.406880  6.326149  6.137727  6.008813  5.891644  6.003887   \n",
       "1960-09-01  6.230481  6.137727  6.008813  5.891644  6.003887  6.033086   \n",
       "1960-10-01  6.133398  6.008813  5.891644  6.003887  6.033086  5.968708   \n",
       "1960-11-01  5.966147  5.891644  6.003887  6.033086  5.968708  6.037871   \n",
       "1960-12-01  6.068426  6.003887  6.033086  5.968708  6.037871  6.133398   \n",
       "\n",
       "                 t-7       t-6       t-5       t-4       t-3       t-2  \\\n",
       "date                                                                     \n",
       "1950-01-01  4.905275  4.997212  4.997212  4.912655  4.779123  4.644391   \n",
       "1950-02-01  4.997212  4.997212  4.912655  4.779123  4.644391  4.770685   \n",
       "1950-03-01  4.997212  4.912655  4.779123  4.644391  4.770685  4.744932   \n",
       "1950-04-01  4.912655  4.779123  4.644391  4.770685  4.744932  4.836282   \n",
       "1950-05-01  4.779123  4.644391  4.770685  4.744932  4.836282  4.948760   \n",
       "...              ...       ...       ...       ...       ...       ...   \n",
       "1960-08-01  6.033086  5.968708  6.037871  6.133398  6.156979  6.282267   \n",
       "1960-09-01  5.968708  6.037871  6.133398  6.156979  6.282267  6.432940   \n",
       "1960-10-01  6.037871  6.133398  6.156979  6.282267  6.432940  6.406880   \n",
       "1960-11-01  6.133398  6.156979  6.282267  6.432940  6.406880  6.230481   \n",
       "1960-12-01  6.156979  6.282267  6.432940  6.406880  6.230481  6.133398   \n",
       "\n",
       "                 t-1  \n",
       "date                  \n",
       "1950-01-01  4.770685  \n",
       "1950-02-01  4.744932  \n",
       "1950-03-01  4.836282  \n",
       "1950-04-01  4.948760  \n",
       "1950-05-01  4.905275  \n",
       "...              ...  \n",
       "1960-08-01  6.432940  \n",
       "1960-09-01  6.406880  \n",
       "1960-10-01  6.230481  \n",
       "1960-11-01  6.133398  \n",
       "1960-12-01  5.966147  \n",
       "\n",
       "[132 rows x 13 columns]"
      ]
     },
     "execution_count": 98,
     "metadata": {},
     "output_type": "execute_result"
    }
   ],
   "source": [
    "# Transforma el df para poder usarlo con otros módelos"
   ]
  },
  {
   "cell_type": "code",
   "execution_count": null,
   "metadata": {},
   "outputs": [
    {
     "name": "stdout",
     "output_type": "stream",
     "text": [
      "(112, 12)\n",
      "(20, 12)\n",
      "(112,)\n",
      "(20,)\n"
     ]
    }
   ],
   "source": [
    "# Divide en X e y, en train/test y muestra los shapes obtenidos"
   ]
  },
  {
   "cell_type": "code",
   "execution_count": 107,
   "metadata": {},
   "outputs": [
    {
     "data": {
      "text/html": [
       "<div>\n",
       "<style scoped>\n",
       "    .dataframe tbody tr th:only-of-type {\n",
       "        vertical-align: middle;\n",
       "    }\n",
       "\n",
       "    .dataframe tbody tr th {\n",
       "        vertical-align: top;\n",
       "    }\n",
       "\n",
       "    .dataframe thead th {\n",
       "        text-align: right;\n",
       "    }\n",
       "</style>\n",
       "<table border=\"1\" class=\"dataframe\">\n",
       "  <thead>\n",
       "    <tr style=\"text-align: right;\">\n",
       "      <th></th>\n",
       "      <th>t-12</th>\n",
       "      <th>t-11</th>\n",
       "      <th>t-10</th>\n",
       "      <th>t-9</th>\n",
       "      <th>t-8</th>\n",
       "      <th>t-7</th>\n",
       "      <th>t-6</th>\n",
       "      <th>t-5</th>\n",
       "      <th>t-4</th>\n",
       "      <th>t-3</th>\n",
       "      <th>t-2</th>\n",
       "      <th>t-1</th>\n",
       "    </tr>\n",
       "    <tr>\n",
       "      <th>date</th>\n",
       "      <th></th>\n",
       "      <th></th>\n",
       "      <th></th>\n",
       "      <th></th>\n",
       "      <th></th>\n",
       "      <th></th>\n",
       "      <th></th>\n",
       "      <th></th>\n",
       "      <th></th>\n",
       "      <th></th>\n",
       "      <th></th>\n",
       "      <th></th>\n",
       "    </tr>\n",
       "  </thead>\n",
       "  <tbody>\n",
       "    <tr>\n",
       "      <th>1959-05-01</th>\n",
       "      <td>5.894403</td>\n",
       "      <td>6.075346</td>\n",
       "      <td>6.196444</td>\n",
       "      <td>6.224558</td>\n",
       "      <td>6.001415</td>\n",
       "      <td>5.883322</td>\n",
       "      <td>5.736572</td>\n",
       "      <td>5.820083</td>\n",
       "      <td>5.886104</td>\n",
       "      <td>5.834811</td>\n",
       "      <td>6.006353</td>\n",
       "      <td>5.981414</td>\n",
       "    </tr>\n",
       "    <tr>\n",
       "      <th>1959-06-01</th>\n",
       "      <td>6.075346</td>\n",
       "      <td>6.196444</td>\n",
       "      <td>6.224558</td>\n",
       "      <td>6.001415</td>\n",
       "      <td>5.883322</td>\n",
       "      <td>5.736572</td>\n",
       "      <td>5.820083</td>\n",
       "      <td>5.886104</td>\n",
       "      <td>5.834811</td>\n",
       "      <td>6.006353</td>\n",
       "      <td>5.981414</td>\n",
       "      <td>6.040255</td>\n",
       "    </tr>\n",
       "    <tr>\n",
       "      <th>1959-07-01</th>\n",
       "      <td>6.196444</td>\n",
       "      <td>6.224558</td>\n",
       "      <td>6.001415</td>\n",
       "      <td>5.883322</td>\n",
       "      <td>5.736572</td>\n",
       "      <td>5.820083</td>\n",
       "      <td>5.886104</td>\n",
       "      <td>5.834811</td>\n",
       "      <td>6.006353</td>\n",
       "      <td>5.981414</td>\n",
       "      <td>6.040255</td>\n",
       "      <td>6.156979</td>\n",
       "    </tr>\n",
       "    <tr>\n",
       "      <th>1959-08-01</th>\n",
       "      <td>6.224558</td>\n",
       "      <td>6.001415</td>\n",
       "      <td>5.883322</td>\n",
       "      <td>5.736572</td>\n",
       "      <td>5.820083</td>\n",
       "      <td>5.886104</td>\n",
       "      <td>5.834811</td>\n",
       "      <td>6.006353</td>\n",
       "      <td>5.981414</td>\n",
       "      <td>6.040255</td>\n",
       "      <td>6.156979</td>\n",
       "      <td>6.306275</td>\n",
       "    </tr>\n",
       "    <tr>\n",
       "      <th>1959-09-01</th>\n",
       "      <td>6.001415</td>\n",
       "      <td>5.883322</td>\n",
       "      <td>5.736572</td>\n",
       "      <td>5.820083</td>\n",
       "      <td>5.886104</td>\n",
       "      <td>5.834811</td>\n",
       "      <td>6.006353</td>\n",
       "      <td>5.981414</td>\n",
       "      <td>6.040255</td>\n",
       "      <td>6.156979</td>\n",
       "      <td>6.306275</td>\n",
       "      <td>6.326149</td>\n",
       "    </tr>\n",
       "    <tr>\n",
       "      <th>1959-10-01</th>\n",
       "      <td>5.883322</td>\n",
       "      <td>5.736572</td>\n",
       "      <td>5.820083</td>\n",
       "      <td>5.886104</td>\n",
       "      <td>5.834811</td>\n",
       "      <td>6.006353</td>\n",
       "      <td>5.981414</td>\n",
       "      <td>6.040255</td>\n",
       "      <td>6.156979</td>\n",
       "      <td>6.306275</td>\n",
       "      <td>6.326149</td>\n",
       "      <td>6.137727</td>\n",
       "    </tr>\n",
       "    <tr>\n",
       "      <th>1959-11-01</th>\n",
       "      <td>5.736572</td>\n",
       "      <td>5.820083</td>\n",
       "      <td>5.886104</td>\n",
       "      <td>5.834811</td>\n",
       "      <td>6.006353</td>\n",
       "      <td>5.981414</td>\n",
       "      <td>6.040255</td>\n",
       "      <td>6.156979</td>\n",
       "      <td>6.306275</td>\n",
       "      <td>6.326149</td>\n",
       "      <td>6.137727</td>\n",
       "      <td>6.008813</td>\n",
       "    </tr>\n",
       "    <tr>\n",
       "      <th>1959-12-01</th>\n",
       "      <td>5.820083</td>\n",
       "      <td>5.886104</td>\n",
       "      <td>5.834811</td>\n",
       "      <td>6.006353</td>\n",
       "      <td>5.981414</td>\n",
       "      <td>6.040255</td>\n",
       "      <td>6.156979</td>\n",
       "      <td>6.306275</td>\n",
       "      <td>6.326149</td>\n",
       "      <td>6.137727</td>\n",
       "      <td>6.008813</td>\n",
       "      <td>5.891644</td>\n",
       "    </tr>\n",
       "    <tr>\n",
       "      <th>1960-01-01</th>\n",
       "      <td>5.886104</td>\n",
       "      <td>5.834811</td>\n",
       "      <td>6.006353</td>\n",
       "      <td>5.981414</td>\n",
       "      <td>6.040255</td>\n",
       "      <td>6.156979</td>\n",
       "      <td>6.306275</td>\n",
       "      <td>6.326149</td>\n",
       "      <td>6.137727</td>\n",
       "      <td>6.008813</td>\n",
       "      <td>5.891644</td>\n",
       "      <td>6.003887</td>\n",
       "    </tr>\n",
       "    <tr>\n",
       "      <th>1960-02-01</th>\n",
       "      <td>5.834811</td>\n",
       "      <td>6.006353</td>\n",
       "      <td>5.981414</td>\n",
       "      <td>6.040255</td>\n",
       "      <td>6.156979</td>\n",
       "      <td>6.306275</td>\n",
       "      <td>6.326149</td>\n",
       "      <td>6.137727</td>\n",
       "      <td>6.008813</td>\n",
       "      <td>5.891644</td>\n",
       "      <td>6.003887</td>\n",
       "      <td>6.033086</td>\n",
       "    </tr>\n",
       "    <tr>\n",
       "      <th>1960-03-01</th>\n",
       "      <td>6.006353</td>\n",
       "      <td>5.981414</td>\n",
       "      <td>6.040255</td>\n",
       "      <td>6.156979</td>\n",
       "      <td>6.306275</td>\n",
       "      <td>6.326149</td>\n",
       "      <td>6.137727</td>\n",
       "      <td>6.008813</td>\n",
       "      <td>5.891644</td>\n",
       "      <td>6.003887</td>\n",
       "      <td>6.033086</td>\n",
       "      <td>5.968708</td>\n",
       "    </tr>\n",
       "    <tr>\n",
       "      <th>1960-04-01</th>\n",
       "      <td>5.981414</td>\n",
       "      <td>6.040255</td>\n",
       "      <td>6.156979</td>\n",
       "      <td>6.306275</td>\n",
       "      <td>6.326149</td>\n",
       "      <td>6.137727</td>\n",
       "      <td>6.008813</td>\n",
       "      <td>5.891644</td>\n",
       "      <td>6.003887</td>\n",
       "      <td>6.033086</td>\n",
       "      <td>5.968708</td>\n",
       "      <td>6.037871</td>\n",
       "    </tr>\n",
       "    <tr>\n",
       "      <th>1960-05-01</th>\n",
       "      <td>6.040255</td>\n",
       "      <td>6.156979</td>\n",
       "      <td>6.306275</td>\n",
       "      <td>6.326149</td>\n",
       "      <td>6.137727</td>\n",
       "      <td>6.008813</td>\n",
       "      <td>5.891644</td>\n",
       "      <td>6.003887</td>\n",
       "      <td>6.033086</td>\n",
       "      <td>5.968708</td>\n",
       "      <td>6.037871</td>\n",
       "      <td>6.133398</td>\n",
       "    </tr>\n",
       "    <tr>\n",
       "      <th>1960-06-01</th>\n",
       "      <td>6.156979</td>\n",
       "      <td>6.306275</td>\n",
       "      <td>6.326149</td>\n",
       "      <td>6.137727</td>\n",
       "      <td>6.008813</td>\n",
       "      <td>5.891644</td>\n",
       "      <td>6.003887</td>\n",
       "      <td>6.033086</td>\n",
       "      <td>5.968708</td>\n",
       "      <td>6.037871</td>\n",
       "      <td>6.133398</td>\n",
       "      <td>6.156979</td>\n",
       "    </tr>\n",
       "    <tr>\n",
       "      <th>1960-07-01</th>\n",
       "      <td>6.306275</td>\n",
       "      <td>6.326149</td>\n",
       "      <td>6.137727</td>\n",
       "      <td>6.008813</td>\n",
       "      <td>5.891644</td>\n",
       "      <td>6.003887</td>\n",
       "      <td>6.033086</td>\n",
       "      <td>5.968708</td>\n",
       "      <td>6.037871</td>\n",
       "      <td>6.133398</td>\n",
       "      <td>6.156979</td>\n",
       "      <td>6.282267</td>\n",
       "    </tr>\n",
       "    <tr>\n",
       "      <th>1960-08-01</th>\n",
       "      <td>6.326149</td>\n",
       "      <td>6.137727</td>\n",
       "      <td>6.008813</td>\n",
       "      <td>5.891644</td>\n",
       "      <td>6.003887</td>\n",
       "      <td>6.033086</td>\n",
       "      <td>5.968708</td>\n",
       "      <td>6.037871</td>\n",
       "      <td>6.133398</td>\n",
       "      <td>6.156979</td>\n",
       "      <td>6.282267</td>\n",
       "      <td>6.432940</td>\n",
       "    </tr>\n",
       "    <tr>\n",
       "      <th>1960-09-01</th>\n",
       "      <td>6.137727</td>\n",
       "      <td>6.008813</td>\n",
       "      <td>5.891644</td>\n",
       "      <td>6.003887</td>\n",
       "      <td>6.033086</td>\n",
       "      <td>5.968708</td>\n",
       "      <td>6.037871</td>\n",
       "      <td>6.133398</td>\n",
       "      <td>6.156979</td>\n",
       "      <td>6.282267</td>\n",
       "      <td>6.432940</td>\n",
       "      <td>6.406880</td>\n",
       "    </tr>\n",
       "    <tr>\n",
       "      <th>1960-10-01</th>\n",
       "      <td>6.008813</td>\n",
       "      <td>5.891644</td>\n",
       "      <td>6.003887</td>\n",
       "      <td>6.033086</td>\n",
       "      <td>5.968708</td>\n",
       "      <td>6.037871</td>\n",
       "      <td>6.133398</td>\n",
       "      <td>6.156979</td>\n",
       "      <td>6.282267</td>\n",
       "      <td>6.432940</td>\n",
       "      <td>6.406880</td>\n",
       "      <td>6.230481</td>\n",
       "    </tr>\n",
       "    <tr>\n",
       "      <th>1960-11-01</th>\n",
       "      <td>5.891644</td>\n",
       "      <td>6.003887</td>\n",
       "      <td>6.033086</td>\n",
       "      <td>5.968708</td>\n",
       "      <td>6.037871</td>\n",
       "      <td>6.133398</td>\n",
       "      <td>6.156979</td>\n",
       "      <td>6.282267</td>\n",
       "      <td>6.432940</td>\n",
       "      <td>6.406880</td>\n",
       "      <td>6.230481</td>\n",
       "      <td>6.133398</td>\n",
       "    </tr>\n",
       "    <tr>\n",
       "      <th>1960-12-01</th>\n",
       "      <td>6.003887</td>\n",
       "      <td>6.033086</td>\n",
       "      <td>5.968708</td>\n",
       "      <td>6.037871</td>\n",
       "      <td>6.133398</td>\n",
       "      <td>6.156979</td>\n",
       "      <td>6.282267</td>\n",
       "      <td>6.432940</td>\n",
       "      <td>6.406880</td>\n",
       "      <td>6.230481</td>\n",
       "      <td>6.133398</td>\n",
       "      <td>5.966147</td>\n",
       "    </tr>\n",
       "  </tbody>\n",
       "</table>\n",
       "</div>"
      ],
      "text/plain": [
       "                t-12      t-11      t-10       t-9       t-8       t-7  \\\n",
       "date                                                                     \n",
       "1959-05-01  5.894403  6.075346  6.196444  6.224558  6.001415  5.883322   \n",
       "1959-06-01  6.075346  6.196444  6.224558  6.001415  5.883322  5.736572   \n",
       "1959-07-01  6.196444  6.224558  6.001415  5.883322  5.736572  5.820083   \n",
       "1959-08-01  6.224558  6.001415  5.883322  5.736572  5.820083  5.886104   \n",
       "1959-09-01  6.001415  5.883322  5.736572  5.820083  5.886104  5.834811   \n",
       "1959-10-01  5.883322  5.736572  5.820083  5.886104  5.834811  6.006353   \n",
       "1959-11-01  5.736572  5.820083  5.886104  5.834811  6.006353  5.981414   \n",
       "1959-12-01  5.820083  5.886104  5.834811  6.006353  5.981414  6.040255   \n",
       "1960-01-01  5.886104  5.834811  6.006353  5.981414  6.040255  6.156979   \n",
       "1960-02-01  5.834811  6.006353  5.981414  6.040255  6.156979  6.306275   \n",
       "1960-03-01  6.006353  5.981414  6.040255  6.156979  6.306275  6.326149   \n",
       "1960-04-01  5.981414  6.040255  6.156979  6.306275  6.326149  6.137727   \n",
       "1960-05-01  6.040255  6.156979  6.306275  6.326149  6.137727  6.008813   \n",
       "1960-06-01  6.156979  6.306275  6.326149  6.137727  6.008813  5.891644   \n",
       "1960-07-01  6.306275  6.326149  6.137727  6.008813  5.891644  6.003887   \n",
       "1960-08-01  6.326149  6.137727  6.008813  5.891644  6.003887  6.033086   \n",
       "1960-09-01  6.137727  6.008813  5.891644  6.003887  6.033086  5.968708   \n",
       "1960-10-01  6.008813  5.891644  6.003887  6.033086  5.968708  6.037871   \n",
       "1960-11-01  5.891644  6.003887  6.033086  5.968708  6.037871  6.133398   \n",
       "1960-12-01  6.003887  6.033086  5.968708  6.037871  6.133398  6.156979   \n",
       "\n",
       "                 t-6       t-5       t-4       t-3       t-2       t-1  \n",
       "date                                                                    \n",
       "1959-05-01  5.736572  5.820083  5.886104  5.834811  6.006353  5.981414  \n",
       "1959-06-01  5.820083  5.886104  5.834811  6.006353  5.981414  6.040255  \n",
       "1959-07-01  5.886104  5.834811  6.006353  5.981414  6.040255  6.156979  \n",
       "1959-08-01  5.834811  6.006353  5.981414  6.040255  6.156979  6.306275  \n",
       "1959-09-01  6.006353  5.981414  6.040255  6.156979  6.306275  6.326149  \n",
       "1959-10-01  5.981414  6.040255  6.156979  6.306275  6.326149  6.137727  \n",
       "1959-11-01  6.040255  6.156979  6.306275  6.326149  6.137727  6.008813  \n",
       "1959-12-01  6.156979  6.306275  6.326149  6.137727  6.008813  5.891644  \n",
       "1960-01-01  6.306275  6.326149  6.137727  6.008813  5.891644  6.003887  \n",
       "1960-02-01  6.326149  6.137727  6.008813  5.891644  6.003887  6.033086  \n",
       "1960-03-01  6.137727  6.008813  5.891644  6.003887  6.033086  5.968708  \n",
       "1960-04-01  6.008813  5.891644  6.003887  6.033086  5.968708  6.037871  \n",
       "1960-05-01  5.891644  6.003887  6.033086  5.968708  6.037871  6.133398  \n",
       "1960-06-01  6.003887  6.033086  5.968708  6.037871  6.133398  6.156979  \n",
       "1960-07-01  6.033086  5.968708  6.037871  6.133398  6.156979  6.282267  \n",
       "1960-08-01  5.968708  6.037871  6.133398  6.156979  6.282267  6.432940  \n",
       "1960-09-01  6.037871  6.133398  6.156979  6.282267  6.432940  6.406880  \n",
       "1960-10-01  6.133398  6.156979  6.282267  6.432940  6.406880  6.230481  \n",
       "1960-11-01  6.156979  6.282267  6.432940  6.406880  6.230481  6.133398  \n",
       "1960-12-01  6.282267  6.432940  6.406880  6.230481  6.133398  5.966147  "
      ]
     },
     "execution_count": 107,
     "metadata": {},
     "output_type": "execute_result"
    }
   ],
   "source": [
    "X_test"
   ]
  },
  {
   "cell_type": "code",
   "execution_count": 106,
   "metadata": {},
   "outputs": [
    {
     "data": {
      "text/plain": [
       "date\n",
       "1959-05-01    6.040255\n",
       "1959-06-01    6.156979\n",
       "1959-07-01    6.306275\n",
       "1959-08-01    6.326149\n",
       "1959-09-01    6.137727\n",
       "1959-10-01    6.008813\n",
       "1959-11-01    5.891644\n",
       "1959-12-01    6.003887\n",
       "1960-01-01    6.033086\n",
       "1960-02-01    5.968708\n",
       "1960-03-01    6.037871\n",
       "1960-04-01    6.133398\n",
       "1960-05-01    6.156979\n",
       "1960-06-01    6.282267\n",
       "1960-07-01    6.432940\n",
       "1960-08-01    6.406880\n",
       "1960-09-01    6.230481\n",
       "1960-10-01    6.133398\n",
       "1960-11-01    5.966147\n",
       "1960-12-01    6.068426\n",
       "Name: value, dtype: float64"
      ]
     },
     "execution_count": 106,
     "metadata": {},
     "output_type": "execute_result"
    }
   ],
   "source": [
    "y_test"
   ]
  },
  {
   "cell_type": "code",
   "execution_count": 102,
   "metadata": {},
   "outputs": [],
   "source": [
    "from sklearn.ensemble import RandomForestRegressor"
   ]
  },
  {
   "cell_type": "code",
   "execution_count": 104,
   "metadata": {},
   "outputs": [
    {
     "data": {
      "text/plain": [
       "0.013769863496171658"
      ]
     },
     "execution_count": 104,
     "metadata": {},
     "output_type": "execute_result"
    }
   ],
   "source": [
    "# entrena el random forest\n",
    "\n",
    "# muestra el mean_absolute_percentage_error de test"
   ]
  },
  {
   "cell_type": "code",
   "execution_count": 109,
   "metadata": {},
   "outputs": [
    {
     "data": {
      "image/png": "[encoded data removed]",
      "text/plain": [
       "<Figure size 432x288 with 1 Axes>"
      ]
     },
     "metadata": {
      "needs_background": "light"
     },
     "output_type": "display_data"
    }
   ],
   "source": []
  },
  {
   "cell_type": "code",
   "execution_count": 111,
   "metadata": {},
   "outputs": [
    {
     "data": {
      "text/plain": [
       "array([0.89574548, 0.01420781, 0.00129769, 0.00172738, 0.00228326,\n",
       "       0.00155955, 0.00120087, 0.00176066, 0.00192478, 0.00514753,\n",
       "       0.00241009, 0.07073491])"
      ]
     },
     "execution_count": 111,
     "metadata": {},
     "output_type": "execute_result"
    }
   ],
   "source": [
    "# feature_importances_"
   ]
  },
  {
   "cell_type": "markdown",
   "metadata": {},
   "source": [
    "Prueba otro enfoque, esta vez que la fecha NO sea el índice"
   ]
  },
  {
   "cell_type": "code",
   "execution_count": 114,
   "metadata": {},
   "outputs": [
    {
     "data": {
      "text/html": [
       "<div>\n",
       "<style scoped>\n",
       "    .dataframe tbody tr th:only-of-type {\n",
       "        vertical-align: middle;\n",
       "    }\n",
       "\n",
       "    .dataframe tbody tr th {\n",
       "        vertical-align: top;\n",
       "    }\n",
       "\n",
       "    .dataframe thead th {\n",
       "        text-align: right;\n",
       "    }\n",
       "</style>\n",
       "<table border=\"1\" class=\"dataframe\">\n",
       "  <thead>\n",
       "    <tr style=\"text-align: right;\">\n",
       "      <th></th>\n",
       "      <th>date</th>\n",
       "      <th>value</th>\n",
       "      <th>t-1</th>\n",
       "      <th>t-11</th>\n",
       "      <th>t-12</th>\n",
       "      <th>t-13</th>\n",
       "    </tr>\n",
       "  </thead>\n",
       "  <tbody>\n",
       "    <tr>\n",
       "      <th>0</th>\n",
       "      <td>1949-01-01</td>\n",
       "      <td>4.718499</td>\n",
       "      <td>NaN</td>\n",
       "      <td>NaN</td>\n",
       "      <td>NaN</td>\n",
       "      <td>NaN</td>\n",
       "    </tr>\n",
       "    <tr>\n",
       "      <th>1</th>\n",
       "      <td>1949-02-01</td>\n",
       "      <td>4.770685</td>\n",
       "      <td>4.718499</td>\n",
       "      <td>NaN</td>\n",
       "      <td>NaN</td>\n",
       "      <td>NaN</td>\n",
       "    </tr>\n",
       "    <tr>\n",
       "      <th>2</th>\n",
       "      <td>1949-03-01</td>\n",
       "      <td>4.882802</td>\n",
       "      <td>4.770685</td>\n",
       "      <td>NaN</td>\n",
       "      <td>NaN</td>\n",
       "      <td>NaN</td>\n",
       "    </tr>\n",
       "    <tr>\n",
       "      <th>3</th>\n",
       "      <td>1949-04-01</td>\n",
       "      <td>4.859812</td>\n",
       "      <td>4.882802</td>\n",
       "      <td>NaN</td>\n",
       "      <td>NaN</td>\n",
       "      <td>NaN</td>\n",
       "    </tr>\n",
       "    <tr>\n",
       "      <th>4</th>\n",
       "      <td>1949-05-01</td>\n",
       "      <td>4.795791</td>\n",
       "      <td>4.859812</td>\n",
       "      <td>NaN</td>\n",
       "      <td>NaN</td>\n",
       "      <td>NaN</td>\n",
       "    </tr>\n",
       "    <tr>\n",
       "      <th>...</th>\n",
       "      <td>...</td>\n",
       "      <td>...</td>\n",
       "      <td>...</td>\n",
       "      <td>...</td>\n",
       "      <td>...</td>\n",
       "      <td>...</td>\n",
       "    </tr>\n",
       "    <tr>\n",
       "      <th>139</th>\n",
       "      <td>1960-08-01</td>\n",
       "      <td>6.406880</td>\n",
       "      <td>6.432940</td>\n",
       "      <td>6.137727</td>\n",
       "      <td>6.326149</td>\n",
       "      <td>6.306275</td>\n",
       "    </tr>\n",
       "    <tr>\n",
       "      <th>140</th>\n",
       "      <td>1960-09-01</td>\n",
       "      <td>6.230481</td>\n",
       "      <td>6.406880</td>\n",
       "      <td>6.008813</td>\n",
       "      <td>6.137727</td>\n",
       "      <td>6.326149</td>\n",
       "    </tr>\n",
       "    <tr>\n",
       "      <th>141</th>\n",
       "      <td>1960-10-01</td>\n",
       "      <td>6.133398</td>\n",
       "      <td>6.230481</td>\n",
       "      <td>5.891644</td>\n",
       "      <td>6.008813</td>\n",
       "      <td>6.137727</td>\n",
       "    </tr>\n",
       "    <tr>\n",
       "      <th>142</th>\n",
       "      <td>1960-11-01</td>\n",
       "      <td>5.966147</td>\n",
       "      <td>6.133398</td>\n",
       "      <td>6.003887</td>\n",
       "      <td>5.891644</td>\n",
       "      <td>6.008813</td>\n",
       "    </tr>\n",
       "    <tr>\n",
       "      <th>143</th>\n",
       "      <td>1960-12-01</td>\n",
       "      <td>6.068426</td>\n",
       "      <td>5.966147</td>\n",
       "      <td>6.033086</td>\n",
       "      <td>6.003887</td>\n",
       "      <td>5.891644</td>\n",
       "    </tr>\n",
       "  </tbody>\n",
       "</table>\n",
       "<p>144 rows × 6 columns</p>\n",
       "</div>"
      ],
      "text/plain": [
       "           date     value       t-1      t-11      t-12      t-13\n",
       "0    1949-01-01  4.718499       NaN       NaN       NaN       NaN\n",
       "1    1949-02-01  4.770685  4.718499       NaN       NaN       NaN\n",
       "2    1949-03-01  4.882802  4.770685       NaN       NaN       NaN\n",
       "3    1949-04-01  4.859812  4.882802       NaN       NaN       NaN\n",
       "4    1949-05-01  4.795791  4.859812       NaN       NaN       NaN\n",
       "..          ...       ...       ...       ...       ...       ...\n",
       "139  1960-08-01  6.406880  6.432940  6.137727  6.326149  6.306275\n",
       "140  1960-09-01  6.230481  6.406880  6.008813  6.137727  6.326149\n",
       "141  1960-10-01  6.133398  6.230481  5.891644  6.008813  6.137727\n",
       "142  1960-11-01  5.966147  6.133398  6.003887  5.891644  6.008813\n",
       "143  1960-12-01  6.068426  5.966147  6.033086  6.003887  5.891644\n",
       "\n",
       "[144 rows x 6 columns]"
      ]
     },
     "execution_count": 114,
     "metadata": {},
     "output_type": "execute_result"
    }
   ],
   "source": [
    "# Crea nuevas columnas con shifts de 1, 11, 12, 13"
   ]
  },
  {
   "cell_type": "code",
   "execution_count": 120,
   "metadata": {},
   "outputs": [
    {
     "name": "stdout",
     "output_type": "stream",
     "text": [
      "(112, 4)\n",
      "(19, 4)\n",
      "(112,)\n",
      "(19,)\n"
     ]
    }
   ],
   "source": [
    "# Divide en X e y, en train/test y muestra los shapes obtenidos"
   ]
  },
  {
   "cell_type": "code",
   "execution_count": 128,
   "metadata": {},
   "outputs": [
    {
     "name": "stdout",
     "output_type": "stream",
     "text": [
      "0.01174169752011279\n",
      "0.0035352065840446485\n"
     ]
    }
   ],
   "source": [
    "# entrena el random forest\n",
    "\n",
    "# muestra el mean_absolute_percentage_error de test y train"
   ]
  },
  {
   "cell_type": "code",
   "execution_count": 122,
   "metadata": {},
   "outputs": [
    {
     "data": {
      "image/png": "[encoded data removed]",
      "text/plain": [
       "<Figure size 432x288 with 1 Axes>"
      ]
     },
     "metadata": {
      "needs_background": "light"
     },
     "output_type": "display_data"
    }
   ],
   "source": []
  },
  {
   "cell_type": "code",
   "execution_count": null,
   "metadata": {},
   "outputs": [],
   "source": []
  }
 ],
 "metadata": {
  "kernelspec": {
   "display_name": "Python 3",
   "language": "python",
   "name": "python3"
  },
  "language_info": {
   "codemirror_mode": {
    "name": "ipython",
    "version": 3
   },
   "file_extension": ".py",
   "mimetype": "text/x-python",
   "name": "python",
   "nbconvert_exporter": "python",
   "pygments_lexer": "ipython3",
   "version": "3.10.14"
  }
 },
 "nbformat": 4,
 "nbformat_minor": 4
}
