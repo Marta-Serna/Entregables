{
 "cells": [
  {
   "cell_type": "code",
   "execution_count": 1,
   "metadata": {},
   "outputs": [
    {
     "ename": "ModuleNotFoundError",
     "evalue": "No module named 'datos_dummy'",
     "output_type": "error",
     "traceback": [
      "\u001b[1;31m---------------------------------------------------------------------------\u001b[0m",
      "\u001b[1;31mModuleNotFoundError\u001b[0m                       Traceback (most recent call last)",
      "Cell \u001b[1;32mIn[1], line 2\u001b[0m\n\u001b[0;32m      1\u001b[0m \u001b[38;5;28;01mfrom\u001b[39;00m \u001b[38;5;21;01mflask\u001b[39;00m \u001b[38;5;28;01mimport\u001b[39;00m Flask, request, jsonify\n\u001b[1;32m----> 2\u001b[0m \u001b[38;5;28;01mfrom\u001b[39;00m \u001b[38;5;21;01mdatos_dummy\u001b[39;00m \u001b[38;5;28;01mimport\u001b[39;00m books\n\u001b[0;32m      3\u001b[0m \u001b[38;5;28;01mimport\u001b[39;00m \u001b[38;5;21;01mpandas\u001b[39;00m \u001b[38;5;28;01mas\u001b[39;00m \u001b[38;5;21;01mpd\u001b[39;00m  \n\u001b[0;32m      4\u001b[0m \u001b[38;5;28;01mfrom\u001b[39;00m \u001b[38;5;21;01msqlalchemy\u001b[39;00m \u001b[38;5;28;01mimport\u001b[39;00m create_enigne\n",
      "\u001b[1;31mModuleNotFoundError\u001b[0m: No module named 'datos_dummy'"
     ]
    }
   ],
   "source": [
    "from flask import Flask, request, jsonify\n",
    "from datos_dummy import books\n",
    "import pandas as pd  \n",
    "from sqlalchemy import create_enigne\n",
    "import sqlite3\n"
   ]
  },
  {
   "cell_type": "code",
   "execution_count": null,
   "metadata": {},
   "outputs": [],
   "source": [
    "churro = \"sqlite:///libros.db\"\n",
    "engine = create_engine(churro)"
   ]
  },
  {
   "cell_type": "code",
   "execution_count": null,
   "metadata": {},
   "outputs": [],
   "source": [
    "df = pd.DataFrame(books)\n",
    "df.to_sql(\"libros\", con=engine, if_exists=\"replace\")"
   ]
  },
  {
   "cell_type": "code",
   "execution_count": null,
   "metadata": {},
   "outputs": [],
   "source": [
    "app = Flask(__name__)\n",
    "app.config[\"DEBUG\"] = True"
   ]
  },
  {
   "cell_type": "code",
   "execution_count": null,
   "metadata": {},
   "outputs": [],
   "source": [
    "@app.route('/', methods=['GET'])\n",
    "def home():\n",
    "    return \"Distant Reading ArchiveThis site is a prototype API for distant reading of science fiction novels.\"\n",
    "\n",
    "# 1.Ruta para obtener todos los libros\n",
    "@app.route('/api/v0/resources/books/all', methods=['GET'])\n",
    "def get_all():\n",
    "    return jsonify(books) # jsonify nos hace que la respuesta sea bonita, y no una lista fea\n",
    "\n",
    "# 2.Ruta para obtener un libro concreto mediante su id como parámetro en la llamada\n",
    "@app.route('/api/v0/resources/book', methods=['GET'])\n",
    "def book_id():\n",
    "    results = []\n",
    "    if 'id' in request.args:\n",
    "        id = int(request.args['id'])\n",
    "        for book in books:\n",
    "            if book['id']==id:\n",
    "                results.append(book)\n",
    "        if results == []:\n",
    "            return \"Book not found with the id requested\"    \n",
    "        else:\n",
    "            return jsonify(results)\n",
    "    else:\n",
    "        return \"No id field provided\""
   ]
  }
 ],
 "metadata": {
  "kernelspec": {
   "display_name": "flask-env",
   "language": "python",
   "name": "python3"
  },
  "language_info": {
   "codemirror_mode": {
    "name": "ipython",
    "version": 3
   },
   "file_extension": ".py",
   "mimetype": "text/x-python",
   "name": "python",
   "nbconvert_exporter": "python",
   "pygments_lexer": "ipython3",
   "version": "3.9.19"
  }
 },
 "nbformat": 4,
 "nbformat_minor": 2
}
