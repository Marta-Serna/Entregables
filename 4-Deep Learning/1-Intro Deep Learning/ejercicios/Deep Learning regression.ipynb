{
 "cells": [
  {
   "cell_type": "markdown",
   "metadata": {
    "id": "EIdT9iu_Z4Rb"
   },
   "source": [
    "# Regresion Basica: Predecir eficiencia de gasolina"
   ]
  },
  {
   "cell_type": "markdown",
   "metadata": {
    "id": "AHp3M9ZmrIxj"
   },
   "source": [
    "Este libro usa el set de datos clasico [Auto MPG](https://archive.ics.uci.edu/ml/datasets/auto+mpg) y construye un modelo para predecir el consumo de vehiculos de 1970 y 1980. Para hacer esto proveeremos el modelo con una descripcion de muchos automoviles de ese periodo. Esta descripcion incluye atributos como: Cilindros, desplazamiento, potencia y peso.\n",
    "\n",
    "El objetivo de este ejercicio es predecir el target miles per galon (MPG), que vendría a representar las millas por galón de combustible.\n",
    "\n",
    "Este ejemplo usa el API `tf.keras` , revise [Esta Guia](https://www.tensorflow.org/guide/keras) para obtener mas detalles."
   ]
  },
  {
   "cell_type": "code",
   "execution_count": 1,
   "metadata": {
    "id": "1rRo8oNqZ-Rj"
   },
   "outputs": [
    {
     "name": "stdout",
     "output_type": "stream",
     "text": [
      "2.16.1\n"
     ]
    }
   ],
   "source": [
    "import pathlib\n",
    "\n",
    "import matplotlib.pyplot as plt\n",
    "import pandas as pd\n",
    "import seaborn as sns\n",
    "\n",
    "import tensorflow as tf\n",
    "\n",
    "from tensorflow import keras\n",
    "from tensorflow.keras import layers\n",
    "\n",
    "print(tf.__version__)"
   ]
  },
  {
   "cell_type": "code",
   "execution_count": 2,
   "metadata": {},
   "outputs": [],
   "source": [
    "import numpy as np"
   ]
  },
  {
   "cell_type": "markdown",
   "metadata": {
    "id": "F_72b0LCNbjx"
   },
   "source": [
    "## El set de Datos de MPG\n",
    "\n",
    "El set de datos esta disponible de el siguiente repositorio [UCI Machine Learning Repository](https://archive.ics.uci.edu/ml/)."
   ]
  },
  {
   "cell_type": "markdown",
   "metadata": {
    "id": "gFh9ne3FZ-On"
   },
   "source": [
    "### Obtenga los datos\n",
    "Primero descargue el set de datos."
   ]
  },
  {
   "cell_type": "code",
   "execution_count": 3,
   "metadata": {},
   "outputs": [
    {
     "name": "stdout",
     "output_type": "stream",
     "text": [
      "Downloading data from http://archive.ics.uci.edu/ml/machine-learning-databases/auto-mpg/auto-mpg.data\n",
      "      0/Unknown \u001b[1m0s\u001b[0m 0s/step"
     ]
    },
    {
     "data": {
      "text/plain": [
       "'C:\\\\Users\\\\Usuario\\\\.keras\\\\datasets\\\\auto-mpg.data'"
      ]
     },
     "execution_count": 3,
     "metadata": {},
     "output_type": "execute_result"
    }
   ],
   "source": [
    "dataset_path = keras.utils.get_file(\"auto-mpg.data\",\n",
    "                                    \"http://archive.ics.uci.edu/ml/machine-learning-databases/auto-mpg/auto-mpg.data\")\n",
    "dataset_path"
   ]
  },
  {
   "cell_type": "code",
   "execution_count": 4,
   "metadata": {},
   "outputs": [
    {
     "data": {
      "text/html": [
       "<div>\n",
       "<style scoped>\n",
       "    .dataframe tbody tr th:only-of-type {\n",
       "        vertical-align: middle;\n",
       "    }\n",
       "\n",
       "    .dataframe tbody tr th {\n",
       "        vertical-align: top;\n",
       "    }\n",
       "\n",
       "    .dataframe thead th {\n",
       "        text-align: right;\n",
       "    }\n",
       "</style>\n",
       "<table border=\"1\" class=\"dataframe\">\n",
       "  <thead>\n",
       "    <tr style=\"text-align: right;\">\n",
       "      <th></th>\n",
       "      <th>18.0   8   307.0      130.0      3504.      12.0   70  1</th>\n",
       "      <th>chevrolet chevelle malibu</th>\n",
       "    </tr>\n",
       "  </thead>\n",
       "  <tbody>\n",
       "    <tr>\n",
       "      <th>0</th>\n",
       "      <td>15.0   8   350.0      165.0      3693.      11...</td>\n",
       "      <td>buick skylark 320</td>\n",
       "    </tr>\n",
       "    <tr>\n",
       "      <th>1</th>\n",
       "      <td>18.0   8   318.0      150.0      3436.      11...</td>\n",
       "      <td>plymouth satellite</td>\n",
       "    </tr>\n",
       "    <tr>\n",
       "      <th>2</th>\n",
       "      <td>16.0   8   304.0      150.0      3433.      12...</td>\n",
       "      <td>amc rebel sst</td>\n",
       "    </tr>\n",
       "    <tr>\n",
       "      <th>3</th>\n",
       "      <td>17.0   8   302.0      140.0      3449.      10...</td>\n",
       "      <td>ford torino</td>\n",
       "    </tr>\n",
       "    <tr>\n",
       "      <th>4</th>\n",
       "      <td>15.0   8   429.0      198.0      4341.      10...</td>\n",
       "      <td>ford galaxie 500</td>\n",
       "    </tr>\n",
       "    <tr>\n",
       "      <th>...</th>\n",
       "      <td>...</td>\n",
       "      <td>...</td>\n",
       "    </tr>\n",
       "    <tr>\n",
       "      <th>392</th>\n",
       "      <td>27.0   4   140.0      86.00      2790.      15...</td>\n",
       "      <td>ford mustang gl</td>\n",
       "    </tr>\n",
       "    <tr>\n",
       "      <th>393</th>\n",
       "      <td>44.0   4   97.00      52.00      2130.      24...</td>\n",
       "      <td>vw pickup</td>\n",
       "    </tr>\n",
       "    <tr>\n",
       "      <th>394</th>\n",
       "      <td>32.0   4   135.0      84.00      2295.      11...</td>\n",
       "      <td>dodge rampage</td>\n",
       "    </tr>\n",
       "    <tr>\n",
       "      <th>395</th>\n",
       "      <td>28.0   4   120.0      79.00      2625.      18...</td>\n",
       "      <td>ford ranger</td>\n",
       "    </tr>\n",
       "    <tr>\n",
       "      <th>396</th>\n",
       "      <td>31.0   4   119.0      82.00      2720.      19...</td>\n",
       "      <td>chevy s-10</td>\n",
       "    </tr>\n",
       "  </tbody>\n",
       "</table>\n",
       "<p>397 rows × 2 columns</p>\n",
       "</div>"
      ],
      "text/plain": [
       "    18.0   8   307.0      130.0      3504.      12.0   70  1  \\\n",
       "0    15.0   8   350.0      165.0      3693.      11...         \n",
       "1    18.0   8   318.0      150.0      3436.      11...         \n",
       "2    16.0   8   304.0      150.0      3433.      12...         \n",
       "3    17.0   8   302.0      140.0      3449.      10...         \n",
       "4    15.0   8   429.0      198.0      4341.      10...         \n",
       "..                                                 ...         \n",
       "392  27.0   4   140.0      86.00      2790.      15...         \n",
       "393  44.0   4   97.00      52.00      2130.      24...         \n",
       "394  32.0   4   135.0      84.00      2295.      11...         \n",
       "395  28.0   4   120.0      79.00      2625.      18...         \n",
       "396  31.0   4   119.0      82.00      2720.      19...         \n",
       "\n",
       "    chevrolet chevelle malibu  \n",
       "0           buick skylark 320  \n",
       "1          plymouth satellite  \n",
       "2               amc rebel sst  \n",
       "3                 ford torino  \n",
       "4            ford galaxie 500  \n",
       "..                        ...  \n",
       "392           ford mustang gl  \n",
       "393                 vw pickup  \n",
       "394             dodge rampage  \n",
       "395               ford ranger  \n",
       "396                chevy s-10  \n",
       "\n",
       "[397 rows x 2 columns]"
      ]
     },
     "execution_count": 4,
     "metadata": {},
     "output_type": "execute_result"
    }
   ],
   "source": [
    "pd.read_csv(\"http://archive.ics.uci.edu/ml/machine-learning-databases/auto-mpg/auto-mpg.data\", sep=\"\\t\")"
   ]
  },
  {
   "cell_type": "markdown",
   "metadata": {
    "id": "nslsRLh7Zss4"
   },
   "source": [
    "Importelo usando pandas."
   ]
  },
  {
   "cell_type": "code",
   "execution_count": 5,
   "metadata": {
    "id": "CiX2FI4gZtTt"
   },
   "outputs": [],
   "source": [
    "column_names = ['MPG', 'Cylinders', 'Displacement', 'Horsepower', 'Weight', 'Acceleration', 'Model Year', 'Origin', 'Car Name']"
   ]
  },
  {
   "cell_type": "code",
   "execution_count": 16,
   "metadata": {},
   "outputs": [],
   "source": [
    "# raw_dataset = pd.read_csv(dataset_path, names = column_names, na_values='?', sep= ' ', comment = '\\t', skipinitialspace = True)\n",
    "# raw_dataset"
   ]
  },
  {
   "cell_type": "code",
   "execution_count": 6,
   "metadata": {},
   "outputs": [
    {
     "data": {
      "text/html": [
       "<div>\n",
       "<style scoped>\n",
       "    .dataframe tbody tr th:only-of-type {\n",
       "        vertical-align: middle;\n",
       "    }\n",
       "\n",
       "    .dataframe tbody tr th {\n",
       "        vertical-align: top;\n",
       "    }\n",
       "\n",
       "    .dataframe thead th {\n",
       "        text-align: right;\n",
       "    }\n",
       "</style>\n",
       "<table border=\"1\" class=\"dataframe\">\n",
       "  <thead>\n",
       "    <tr style=\"text-align: right;\">\n",
       "      <th></th>\n",
       "      <th>MPG</th>\n",
       "      <th>Cylinders</th>\n",
       "      <th>Displacement</th>\n",
       "      <th>Horsepower</th>\n",
       "      <th>Weight</th>\n",
       "      <th>Acceleration</th>\n",
       "      <th>Model Year</th>\n",
       "      <th>Origin</th>\n",
       "      <th>Car Name</th>\n",
       "    </tr>\n",
       "  </thead>\n",
       "  <tbody>\n",
       "    <tr>\n",
       "      <th>0</th>\n",
       "      <td>18.0</td>\n",
       "      <td>8</td>\n",
       "      <td>307.0</td>\n",
       "      <td>130.0</td>\n",
       "      <td>3504.0</td>\n",
       "      <td>12.0</td>\n",
       "      <td>70</td>\n",
       "      <td>1</td>\n",
       "      <td>\"chevrolet chevelle malibu\"</td>\n",
       "    </tr>\n",
       "    <tr>\n",
       "      <th>1</th>\n",
       "      <td>15.0</td>\n",
       "      <td>8</td>\n",
       "      <td>350.0</td>\n",
       "      <td>165.0</td>\n",
       "      <td>3693.0</td>\n",
       "      <td>11.5</td>\n",
       "      <td>70</td>\n",
       "      <td>1</td>\n",
       "      <td>\"buick skylark 320\"</td>\n",
       "    </tr>\n",
       "    <tr>\n",
       "      <th>2</th>\n",
       "      <td>18.0</td>\n",
       "      <td>8</td>\n",
       "      <td>318.0</td>\n",
       "      <td>150.0</td>\n",
       "      <td>3436.0</td>\n",
       "      <td>11.0</td>\n",
       "      <td>70</td>\n",
       "      <td>1</td>\n",
       "      <td>\"plymouth satellite\"</td>\n",
       "    </tr>\n",
       "    <tr>\n",
       "      <th>3</th>\n",
       "      <td>16.0</td>\n",
       "      <td>8</td>\n",
       "      <td>304.0</td>\n",
       "      <td>150.0</td>\n",
       "      <td>3433.0</td>\n",
       "      <td>12.0</td>\n",
       "      <td>70</td>\n",
       "      <td>1</td>\n",
       "      <td>\"amc rebel sst\"</td>\n",
       "    </tr>\n",
       "    <tr>\n",
       "      <th>4</th>\n",
       "      <td>17.0</td>\n",
       "      <td>8</td>\n",
       "      <td>302.0</td>\n",
       "      <td>140.0</td>\n",
       "      <td>3449.0</td>\n",
       "      <td>10.5</td>\n",
       "      <td>70</td>\n",
       "      <td>1</td>\n",
       "      <td>\"ford torino\"</td>\n",
       "    </tr>\n",
       "    <tr>\n",
       "      <th>...</th>\n",
       "      <td>...</td>\n",
       "      <td>...</td>\n",
       "      <td>...</td>\n",
       "      <td>...</td>\n",
       "      <td>...</td>\n",
       "      <td>...</td>\n",
       "      <td>...</td>\n",
       "      <td>...</td>\n",
       "      <td>...</td>\n",
       "    </tr>\n",
       "    <tr>\n",
       "      <th>393</th>\n",
       "      <td>27.0</td>\n",
       "      <td>4</td>\n",
       "      <td>140.0</td>\n",
       "      <td>86.00</td>\n",
       "      <td>2790.0</td>\n",
       "      <td>15.6</td>\n",
       "      <td>82</td>\n",
       "      <td>1</td>\n",
       "      <td>\"ford mustang gl\"</td>\n",
       "    </tr>\n",
       "    <tr>\n",
       "      <th>394</th>\n",
       "      <td>44.0</td>\n",
       "      <td>4</td>\n",
       "      <td>97.0</td>\n",
       "      <td>52.00</td>\n",
       "      <td>2130.0</td>\n",
       "      <td>24.6</td>\n",
       "      <td>82</td>\n",
       "      <td>2</td>\n",
       "      <td>\"vw pickup\"</td>\n",
       "    </tr>\n",
       "    <tr>\n",
       "      <th>395</th>\n",
       "      <td>32.0</td>\n",
       "      <td>4</td>\n",
       "      <td>135.0</td>\n",
       "      <td>84.00</td>\n",
       "      <td>2295.0</td>\n",
       "      <td>11.6</td>\n",
       "      <td>82</td>\n",
       "      <td>1</td>\n",
       "      <td>\"dodge rampage\"</td>\n",
       "    </tr>\n",
       "    <tr>\n",
       "      <th>396</th>\n",
       "      <td>28.0</td>\n",
       "      <td>4</td>\n",
       "      <td>120.0</td>\n",
       "      <td>79.00</td>\n",
       "      <td>2625.0</td>\n",
       "      <td>18.6</td>\n",
       "      <td>82</td>\n",
       "      <td>1</td>\n",
       "      <td>\"ford ranger\"</td>\n",
       "    </tr>\n",
       "    <tr>\n",
       "      <th>397</th>\n",
       "      <td>31.0</td>\n",
       "      <td>4</td>\n",
       "      <td>119.0</td>\n",
       "      <td>82.00</td>\n",
       "      <td>2720.0</td>\n",
       "      <td>19.4</td>\n",
       "      <td>82</td>\n",
       "      <td>1</td>\n",
       "      <td>\"chevy s-10\"</td>\n",
       "    </tr>\n",
       "  </tbody>\n",
       "</table>\n",
       "<p>398 rows × 9 columns</p>\n",
       "</div>"
      ],
      "text/plain": [
       "      MPG  Cylinders  Displacement Horsepower  Weight  Acceleration  \\\n",
       "0    18.0          8         307.0      130.0  3504.0          12.0   \n",
       "1    15.0          8         350.0      165.0  3693.0          11.5   \n",
       "2    18.0          8         318.0      150.0  3436.0          11.0   \n",
       "3    16.0          8         304.0      150.0  3433.0          12.0   \n",
       "4    17.0          8         302.0      140.0  3449.0          10.5   \n",
       "..    ...        ...           ...        ...     ...           ...   \n",
       "393  27.0          4         140.0      86.00  2790.0          15.6   \n",
       "394  44.0          4          97.0      52.00  2130.0          24.6   \n",
       "395  32.0          4         135.0      84.00  2295.0          11.6   \n",
       "396  28.0          4         120.0      79.00  2625.0          18.6   \n",
       "397  31.0          4         119.0      82.00  2720.0          19.4   \n",
       "\n",
       "     Model Year  Origin                     Car Name  \n",
       "0            70       1  \"chevrolet chevelle malibu\"  \n",
       "1            70       1          \"buick skylark 320\"  \n",
       "2            70       1         \"plymouth satellite\"  \n",
       "3            70       1              \"amc rebel sst\"  \n",
       "4            70       1                \"ford torino\"  \n",
       "..          ...     ...                          ...  \n",
       "393          82       1            \"ford mustang gl\"  \n",
       "394          82       2                  \"vw pickup\"  \n",
       "395          82       1              \"dodge rampage\"  \n",
       "396          82       1                \"ford ranger\"  \n",
       "397          82       1                 \"chevy s-10\"  \n",
       "\n",
       "[398 rows x 9 columns]"
      ]
     },
     "execution_count": 6,
     "metadata": {},
     "output_type": "execute_result"
    }
   ],
   "source": [
    "raw_dataset = pd.read_fwf(dataset_path, names = column_names)\n",
    "raw_dataset"
   ]
  },
  {
   "cell_type": "code",
   "execution_count": 7,
   "metadata": {},
   "outputs": [],
   "source": [
    "dataset = raw_dataset.copy()"
   ]
  },
  {
   "cell_type": "code",
   "execution_count": 8,
   "metadata": {},
   "outputs": [
    {
     "name": "stdout",
     "output_type": "stream",
     "text": [
      "<class 'pandas.core.frame.DataFrame'>\n",
      "RangeIndex: 398 entries, 0 to 397\n",
      "Data columns (total 9 columns):\n",
      " #   Column        Non-Null Count  Dtype  \n",
      "---  ------        --------------  -----  \n",
      " 0   MPG           398 non-null    float64\n",
      " 1   Cylinders     398 non-null    int64  \n",
      " 2   Displacement  398 non-null    float64\n",
      " 3   Horsepower    398 non-null    object \n",
      " 4   Weight        398 non-null    float64\n",
      " 5   Acceleration  398 non-null    float64\n",
      " 6   Model Year    398 non-null    int64  \n",
      " 7   Origin        398 non-null    int64  \n",
      " 8   Car Name      398 non-null    object \n",
      "dtypes: float64(4), int64(3), object(2)\n",
      "memory usage: 28.1+ KB\n"
     ]
    }
   ],
   "source": [
    "dataset.info()"
   ]
  },
  {
   "cell_type": "code",
   "execution_count": 9,
   "metadata": {},
   "outputs": [
    {
     "data": {
      "text/html": [
       "<div>\n",
       "<style scoped>\n",
       "    .dataframe tbody tr th:only-of-type {\n",
       "        vertical-align: middle;\n",
       "    }\n",
       "\n",
       "    .dataframe tbody tr th {\n",
       "        vertical-align: top;\n",
       "    }\n",
       "\n",
       "    .dataframe thead th {\n",
       "        text-align: right;\n",
       "    }\n",
       "</style>\n",
       "<table border=\"1\" class=\"dataframe\">\n",
       "  <thead>\n",
       "    <tr style=\"text-align: right;\">\n",
       "      <th></th>\n",
       "      <th>MPG</th>\n",
       "      <th>Cylinders</th>\n",
       "      <th>Displacement</th>\n",
       "      <th>Weight</th>\n",
       "      <th>Acceleration</th>\n",
       "      <th>Model Year</th>\n",
       "      <th>Origin</th>\n",
       "    </tr>\n",
       "  </thead>\n",
       "  <tbody>\n",
       "    <tr>\n",
       "      <th>count</th>\n",
       "      <td>398.000000</td>\n",
       "      <td>398.000000</td>\n",
       "      <td>398.000000</td>\n",
       "      <td>398.000000</td>\n",
       "      <td>398.000000</td>\n",
       "      <td>398.000000</td>\n",
       "      <td>398.000000</td>\n",
       "    </tr>\n",
       "    <tr>\n",
       "      <th>mean</th>\n",
       "      <td>23.514573</td>\n",
       "      <td>5.454774</td>\n",
       "      <td>193.425879</td>\n",
       "      <td>2970.424623</td>\n",
       "      <td>15.568090</td>\n",
       "      <td>76.010050</td>\n",
       "      <td>1.572864</td>\n",
       "    </tr>\n",
       "    <tr>\n",
       "      <th>std</th>\n",
       "      <td>7.815984</td>\n",
       "      <td>1.701004</td>\n",
       "      <td>104.269838</td>\n",
       "      <td>846.841774</td>\n",
       "      <td>2.757689</td>\n",
       "      <td>3.697627</td>\n",
       "      <td>0.802055</td>\n",
       "    </tr>\n",
       "    <tr>\n",
       "      <th>min</th>\n",
       "      <td>9.000000</td>\n",
       "      <td>3.000000</td>\n",
       "      <td>68.000000</td>\n",
       "      <td>1613.000000</td>\n",
       "      <td>8.000000</td>\n",
       "      <td>70.000000</td>\n",
       "      <td>1.000000</td>\n",
       "    </tr>\n",
       "    <tr>\n",
       "      <th>25%</th>\n",
       "      <td>17.500000</td>\n",
       "      <td>4.000000</td>\n",
       "      <td>104.250000</td>\n",
       "      <td>2223.750000</td>\n",
       "      <td>13.825000</td>\n",
       "      <td>73.000000</td>\n",
       "      <td>1.000000</td>\n",
       "    </tr>\n",
       "    <tr>\n",
       "      <th>50%</th>\n",
       "      <td>23.000000</td>\n",
       "      <td>4.000000</td>\n",
       "      <td>148.500000</td>\n",
       "      <td>2803.500000</td>\n",
       "      <td>15.500000</td>\n",
       "      <td>76.000000</td>\n",
       "      <td>1.000000</td>\n",
       "    </tr>\n",
       "    <tr>\n",
       "      <th>75%</th>\n",
       "      <td>29.000000</td>\n",
       "      <td>8.000000</td>\n",
       "      <td>262.000000</td>\n",
       "      <td>3608.000000</td>\n",
       "      <td>17.175000</td>\n",
       "      <td>79.000000</td>\n",
       "      <td>2.000000</td>\n",
       "    </tr>\n",
       "    <tr>\n",
       "      <th>max</th>\n",
       "      <td>46.600000</td>\n",
       "      <td>8.000000</td>\n",
       "      <td>455.000000</td>\n",
       "      <td>5140.000000</td>\n",
       "      <td>24.800000</td>\n",
       "      <td>82.000000</td>\n",
       "      <td>3.000000</td>\n",
       "    </tr>\n",
       "  </tbody>\n",
       "</table>\n",
       "</div>"
      ],
      "text/plain": [
       "              MPG   Cylinders  Displacement       Weight  Acceleration  \\\n",
       "count  398.000000  398.000000    398.000000   398.000000    398.000000   \n",
       "mean    23.514573    5.454774    193.425879  2970.424623     15.568090   \n",
       "std      7.815984    1.701004    104.269838   846.841774      2.757689   \n",
       "min      9.000000    3.000000     68.000000  1613.000000      8.000000   \n",
       "25%     17.500000    4.000000    104.250000  2223.750000     13.825000   \n",
       "50%     23.000000    4.000000    148.500000  2803.500000     15.500000   \n",
       "75%     29.000000    8.000000    262.000000  3608.000000     17.175000   \n",
       "max     46.600000    8.000000    455.000000  5140.000000     24.800000   \n",
       "\n",
       "       Model Year      Origin  \n",
       "count  398.000000  398.000000  \n",
       "mean    76.010050    1.572864  \n",
       "std      3.697627    0.802055  \n",
       "min     70.000000    1.000000  \n",
       "25%     73.000000    1.000000  \n",
       "50%     76.000000    1.000000  \n",
       "75%     79.000000    2.000000  \n",
       "max     82.000000    3.000000  "
      ]
     },
     "execution_count": 9,
     "metadata": {},
     "output_type": "execute_result"
    }
   ],
   "source": [
    "# describe include all\n",
    "dataset.describe() "
   ]
  },
  {
   "cell_type": "markdown",
   "metadata": {
    "id": "3MWuJTKEDM-f"
   },
   "source": [
    "### Limpia los datos\n",
    "\n",
    "Trata los missings y variables categóricas"
   ]
  },
  {
   "cell_type": "code",
   "execution_count": 26,
   "metadata": {
    "id": "JEJHhN65a2VV"
   },
   "outputs": [
    {
     "data": {
      "text/plain": [
       "MPG             0\n",
       "Cylinders       0\n",
       "Displacement    0\n",
       "Horsepower      0\n",
       "Weight          0\n",
       "Acceleration    0\n",
       "Model Year      0\n",
       "Car Name        0\n",
       "USA             0\n",
       "Europe          0\n",
       "Japan           0\n",
       "dtype: int64"
      ]
     },
     "execution_count": 26,
     "metadata": {},
     "output_type": "execute_result"
    }
   ],
   "source": [
    "# suma de los nans\n",
    "nan_count = dataset.isna().sum()\n",
    "nan_count"
   ]
  },
  {
   "cell_type": "code",
   "execution_count": 27,
   "metadata": {},
   "outputs": [
    {
     "data": {
      "text/plain": [
       "MPG   Cylinders  Displacement  Horsepower  Weight  Acceleration  Model Year  Car Name                            USA  Europe  Japan\n",
       "9.0   8          304.0         193.0       4732.0  18.5          70          \"hi 1200d\"                          1    0       0        1\n",
       "27.0  4          151.0         90.00       2950.0  17.3          82          \"chevrolet camaro\"                  1    0       0        1\n",
       "                 140.0         86.00       2790.0  15.6          82          \"ford mustang gl\"                   1    0       0        1\n",
       "                 112.0         88.00       2640.0  18.6          82          \"chevrolet cavalier wagon\"          1    0       0        1\n",
       "                 101.0         83.00       2202.0  15.3          76          \"renault 12tl\"                      0    1       0        1\n",
       "                                                                                                                                      ..\n",
       "18.6  6          225.0         110.0       3620.0  18.7          78          \"dodge aspen\"                       1    0       0        1\n",
       "18.5  8          360.0         150.0       3940.0  13.0          79          \"chrysler lebaron town @ country (  1    0       0        1\n",
       "      6          250.0         98.00       3525.0  19.0          77          \"ford granada\"                      1    0       0        1\n",
       "                               110.0       3645.0  16.2          76          \"pontiac ventura sj\"                1    0       0        1\n",
       "46.6  4          86.0          65.00       2110.0  17.9          80          \"mazda glc\"                         0    0       1        1\n",
       "Name: count, Length: 398, dtype: int64"
      ]
     },
     "execution_count": 27,
     "metadata": {},
     "output_type": "execute_result"
    }
   ],
   "source": [
    "# buscar el valor anomalo en la columna Horsepower\n",
    "dataset.value_counts() # nos da igual el nombre porque va a overfittear SIEMPRE al ser un nombre, hay que quitarlo"
   ]
  },
  {
   "cell_type": "code",
   "execution_count": 36,
   "metadata": {},
   "outputs": [
    {
     "data": {
      "text/html": [
       "<div>\n",
       "<style scoped>\n",
       "    .dataframe tbody tr th:only-of-type {\n",
       "        vertical-align: middle;\n",
       "    }\n",
       "\n",
       "    .dataframe tbody tr th {\n",
       "        vertical-align: top;\n",
       "    }\n",
       "\n",
       "    .dataframe thead th {\n",
       "        text-align: right;\n",
       "    }\n",
       "</style>\n",
       "<table border=\"1\" class=\"dataframe\">\n",
       "  <thead>\n",
       "    <tr style=\"text-align: right;\">\n",
       "      <th></th>\n",
       "      <th>MPG</th>\n",
       "      <th>Cylinders</th>\n",
       "      <th>Displacement</th>\n",
       "      <th>Horsepower</th>\n",
       "      <th>Weight</th>\n",
       "      <th>Acceleration</th>\n",
       "      <th>Model Year</th>\n",
       "      <th>Car Name</th>\n",
       "      <th>USA</th>\n",
       "      <th>Europe</th>\n",
       "      <th>Japan</th>\n",
       "    </tr>\n",
       "  </thead>\n",
       "  <tbody>\n",
       "    <tr>\n",
       "      <th>0</th>\n",
       "      <td>18.0</td>\n",
       "      <td>8</td>\n",
       "      <td>307.0</td>\n",
       "      <td>130.0</td>\n",
       "      <td>3504.0</td>\n",
       "      <td>12.0</td>\n",
       "      <td>70</td>\n",
       "      <td>\"chevrolet chevelle malibu\"</td>\n",
       "      <td>1</td>\n",
       "      <td>0</td>\n",
       "      <td>0</td>\n",
       "    </tr>\n",
       "    <tr>\n",
       "      <th>1</th>\n",
       "      <td>15.0</td>\n",
       "      <td>8</td>\n",
       "      <td>350.0</td>\n",
       "      <td>165.0</td>\n",
       "      <td>3693.0</td>\n",
       "      <td>11.5</td>\n",
       "      <td>70</td>\n",
       "      <td>\"buick skylark 320\"</td>\n",
       "      <td>1</td>\n",
       "      <td>0</td>\n",
       "      <td>0</td>\n",
       "    </tr>\n",
       "    <tr>\n",
       "      <th>2</th>\n",
       "      <td>18.0</td>\n",
       "      <td>8</td>\n",
       "      <td>318.0</td>\n",
       "      <td>150.0</td>\n",
       "      <td>3436.0</td>\n",
       "      <td>11.0</td>\n",
       "      <td>70</td>\n",
       "      <td>\"plymouth satellite\"</td>\n",
       "      <td>1</td>\n",
       "      <td>0</td>\n",
       "      <td>0</td>\n",
       "    </tr>\n",
       "    <tr>\n",
       "      <th>3</th>\n",
       "      <td>16.0</td>\n",
       "      <td>8</td>\n",
       "      <td>304.0</td>\n",
       "      <td>150.0</td>\n",
       "      <td>3433.0</td>\n",
       "      <td>12.0</td>\n",
       "      <td>70</td>\n",
       "      <td>\"amc rebel sst\"</td>\n",
       "      <td>1</td>\n",
       "      <td>0</td>\n",
       "      <td>0</td>\n",
       "    </tr>\n",
       "    <tr>\n",
       "      <th>4</th>\n",
       "      <td>17.0</td>\n",
       "      <td>8</td>\n",
       "      <td>302.0</td>\n",
       "      <td>140.0</td>\n",
       "      <td>3449.0</td>\n",
       "      <td>10.5</td>\n",
       "      <td>70</td>\n",
       "      <td>\"ford torino\"</td>\n",
       "      <td>1</td>\n",
       "      <td>0</td>\n",
       "      <td>0</td>\n",
       "    </tr>\n",
       "    <tr>\n",
       "      <th>...</th>\n",
       "      <td>...</td>\n",
       "      <td>...</td>\n",
       "      <td>...</td>\n",
       "      <td>...</td>\n",
       "      <td>...</td>\n",
       "      <td>...</td>\n",
       "      <td>...</td>\n",
       "      <td>...</td>\n",
       "      <td>...</td>\n",
       "      <td>...</td>\n",
       "      <td>...</td>\n",
       "    </tr>\n",
       "    <tr>\n",
       "      <th>393</th>\n",
       "      <td>27.0</td>\n",
       "      <td>4</td>\n",
       "      <td>140.0</td>\n",
       "      <td>86.00</td>\n",
       "      <td>2790.0</td>\n",
       "      <td>15.6</td>\n",
       "      <td>82</td>\n",
       "      <td>\"ford mustang gl\"</td>\n",
       "      <td>1</td>\n",
       "      <td>0</td>\n",
       "      <td>0</td>\n",
       "    </tr>\n",
       "    <tr>\n",
       "      <th>394</th>\n",
       "      <td>44.0</td>\n",
       "      <td>4</td>\n",
       "      <td>97.0</td>\n",
       "      <td>52.00</td>\n",
       "      <td>2130.0</td>\n",
       "      <td>24.6</td>\n",
       "      <td>82</td>\n",
       "      <td>\"vw pickup\"</td>\n",
       "      <td>0</td>\n",
       "      <td>1</td>\n",
       "      <td>0</td>\n",
       "    </tr>\n",
       "    <tr>\n",
       "      <th>395</th>\n",
       "      <td>32.0</td>\n",
       "      <td>4</td>\n",
       "      <td>135.0</td>\n",
       "      <td>84.00</td>\n",
       "      <td>2295.0</td>\n",
       "      <td>11.6</td>\n",
       "      <td>82</td>\n",
       "      <td>\"dodge rampage\"</td>\n",
       "      <td>1</td>\n",
       "      <td>0</td>\n",
       "      <td>0</td>\n",
       "    </tr>\n",
       "    <tr>\n",
       "      <th>396</th>\n",
       "      <td>28.0</td>\n",
       "      <td>4</td>\n",
       "      <td>120.0</td>\n",
       "      <td>79.00</td>\n",
       "      <td>2625.0</td>\n",
       "      <td>18.6</td>\n",
       "      <td>82</td>\n",
       "      <td>\"ford ranger\"</td>\n",
       "      <td>1</td>\n",
       "      <td>0</td>\n",
       "      <td>0</td>\n",
       "    </tr>\n",
       "    <tr>\n",
       "      <th>397</th>\n",
       "      <td>31.0</td>\n",
       "      <td>4</td>\n",
       "      <td>119.0</td>\n",
       "      <td>82.00</td>\n",
       "      <td>2720.0</td>\n",
       "      <td>19.4</td>\n",
       "      <td>82</td>\n",
       "      <td>\"chevy s-10\"</td>\n",
       "      <td>1</td>\n",
       "      <td>0</td>\n",
       "      <td>0</td>\n",
       "    </tr>\n",
       "  </tbody>\n",
       "</table>\n",
       "<p>392 rows × 11 columns</p>\n",
       "</div>"
      ],
      "text/plain": [
       "      MPG  Cylinders  Displacement Horsepower  Weight  Acceleration  \\\n",
       "0    18.0          8         307.0      130.0  3504.0          12.0   \n",
       "1    15.0          8         350.0      165.0  3693.0          11.5   \n",
       "2    18.0          8         318.0      150.0  3436.0          11.0   \n",
       "3    16.0          8         304.0      150.0  3433.0          12.0   \n",
       "4    17.0          8         302.0      140.0  3449.0          10.5   \n",
       "..    ...        ...           ...        ...     ...           ...   \n",
       "393  27.0          4         140.0      86.00  2790.0          15.6   \n",
       "394  44.0          4          97.0      52.00  2130.0          24.6   \n",
       "395  32.0          4         135.0      84.00  2295.0          11.6   \n",
       "396  28.0          4         120.0      79.00  2625.0          18.6   \n",
       "397  31.0          4         119.0      82.00  2720.0          19.4   \n",
       "\n",
       "     Model Year                     Car Name  USA  Europe  Japan  \n",
       "0            70  \"chevrolet chevelle malibu\"    1       0      0  \n",
       "1            70          \"buick skylark 320\"    1       0      0  \n",
       "2            70         \"plymouth satellite\"    1       0      0  \n",
       "3            70              \"amc rebel sst\"    1       0      0  \n",
       "4            70                \"ford torino\"    1       0      0  \n",
       "..          ...                          ...  ...     ...    ...  \n",
       "393          82            \"ford mustang gl\"    1       0      0  \n",
       "394          82                  \"vw pickup\"    0       1      0  \n",
       "395          82              \"dodge rampage\"    1       0      0  \n",
       "396          82                \"ford ranger\"    1       0      0  \n",
       "397          82                 \"chevy s-10\"    1       0      0  \n",
       "\n",
       "[392 rows x 11 columns]"
      ]
     },
     "execution_count": 36,
     "metadata": {},
     "output_type": "execute_result"
    }
   ],
   "source": [
    "dataset['Horsepower'] = dataset['Horsepower'].replace('?', np.nan)\n",
    "dataset\n",
    "\n",
    "dataset[dataset['Horsepower'].isna()]\n",
    "\n",
    "\n",
    "dataset.dropna(subset=['Horsepower'])"
   ]
  },
  {
   "cell_type": "code",
   "execution_count": 38,
   "metadata": {
    "collapsed": true,
    "jupyter": {
     "outputs_hidden": true
    },
    "tags": []
   },
   "outputs": [],
   "source": [
    "# eliminar las columnas con este valor anomalo y conviertela a float\n",
    "dataset.dropna(subset=['Horsepower'])\n",
    "\n",
    "\n",
    "dataset['Horsepower'] = dataset['Horsepower'].astype(float)"
   ]
  },
  {
   "cell_type": "code",
   "execution_count": 39,
   "metadata": {},
   "outputs": [
    {
     "name": "stdout",
     "output_type": "stream",
     "text": [
      "<class 'pandas.core.frame.DataFrame'>\n",
      "RangeIndex: 398 entries, 0 to 397\n",
      "Data columns (total 11 columns):\n",
      " #   Column        Non-Null Count  Dtype  \n",
      "---  ------        --------------  -----  \n",
      " 0   MPG           398 non-null    float64\n",
      " 1   Cylinders     398 non-null    int64  \n",
      " 2   Displacement  398 non-null    float64\n",
      " 3   Horsepower    392 non-null    float64\n",
      " 4   Weight        398 non-null    float64\n",
      " 5   Acceleration  398 non-null    float64\n",
      " 6   Model Year    398 non-null    int64  \n",
      " 7   Car Name      398 non-null    object \n",
      " 8   USA           398 non-null    int32  \n",
      " 9   Europe        398 non-null    int32  \n",
      " 10  Japan         398 non-null    int32  \n",
      "dtypes: float64(5), int32(3), int64(2), object(1)\n",
      "memory usage: 29.7+ KB\n"
     ]
    }
   ],
   "source": [
    "dataset.info()"
   ]
  },
  {
   "cell_type": "code",
   "execution_count": 10,
   "metadata": {
    "collapsed": true,
    "jupyter": {
     "outputs_hidden": true
    },
    "tags": []
   },
   "outputs": [],
   "source": [
    "# drop car name, el name no suele ser buena columna...\n",
    "df = dataset.drop(columns=['Car Name'])"
   ]
  },
  {
   "cell_type": "code",
   "execution_count": 11,
   "metadata": {},
   "outputs": [],
   "source": [
    "origin = dataset.pop('Origin')\n"
   ]
  },
  {
   "cell_type": "code",
   "execution_count": 12,
   "metadata": {},
   "outputs": [
    {
     "data": {
      "text/plain": [
       "0       True\n",
       "1       True\n",
       "2       True\n",
       "3       True\n",
       "4       True\n",
       "       ...  \n",
       "393     True\n",
       "394    False\n",
       "395     True\n",
       "396     True\n",
       "397     True\n",
       "Name: Origin, Length: 398, dtype: bool"
      ]
     },
     "execution_count": 12,
     "metadata": {},
     "output_type": "execute_result"
    }
   ],
   "source": [
    "\n",
    "\n",
    "(origin == 1)"
   ]
  },
  {
   "cell_type": "code",
   "execution_count": 13,
   "metadata": {},
   "outputs": [],
   "source": [
    "# se puede hacer con get_dummies\n",
    "\n",
    "dataset['USA'] = (origin == 1).astype(\"int\")\n",
    "dataset['Europe'] = (origin == 2)*1\n",
    "dataset['Japan'] = (origin == 3)*1"
   ]
  },
  {
   "cell_type": "code",
   "execution_count": 14,
   "metadata": {},
   "outputs": [
    {
     "data": {
      "text/plain": [
       "array([8, 4, 6, 3, 5], dtype=int64)"
      ]
     },
     "execution_count": 14,
     "metadata": {},
     "output_type": "execute_result"
    }
   ],
   "source": [
    "dataset.Cylinders.unique()"
   ]
  },
  {
   "cell_type": "code",
   "execution_count": 15,
   "metadata": {},
   "outputs": [
    {
     "data": {
      "text/html": [
       "<div>\n",
       "<style scoped>\n",
       "    .dataframe tbody tr th:only-of-type {\n",
       "        vertical-align: middle;\n",
       "    }\n",
       "\n",
       "    .dataframe tbody tr th {\n",
       "        vertical-align: top;\n",
       "    }\n",
       "\n",
       "    .dataframe thead th {\n",
       "        text-align: right;\n",
       "    }\n",
       "</style>\n",
       "<table border=\"1\" class=\"dataframe\">\n",
       "  <thead>\n",
       "    <tr style=\"text-align: right;\">\n",
       "      <th></th>\n",
       "      <th>MPG</th>\n",
       "      <th>Cylinders</th>\n",
       "      <th>Displacement</th>\n",
       "      <th>Horsepower</th>\n",
       "      <th>Weight</th>\n",
       "      <th>Acceleration</th>\n",
       "      <th>Model Year</th>\n",
       "      <th>Car Name</th>\n",
       "      <th>USA</th>\n",
       "      <th>Europe</th>\n",
       "      <th>Japan</th>\n",
       "    </tr>\n",
       "  </thead>\n",
       "  <tbody>\n",
       "    <tr>\n",
       "      <th>0</th>\n",
       "      <td>18.0</td>\n",
       "      <td>8</td>\n",
       "      <td>307.0</td>\n",
       "      <td>130.0</td>\n",
       "      <td>3504.0</td>\n",
       "      <td>12.0</td>\n",
       "      <td>70</td>\n",
       "      <td>\"chevrolet chevelle malibu\"</td>\n",
       "      <td>1</td>\n",
       "      <td>0</td>\n",
       "      <td>0</td>\n",
       "    </tr>\n",
       "    <tr>\n",
       "      <th>1</th>\n",
       "      <td>15.0</td>\n",
       "      <td>8</td>\n",
       "      <td>350.0</td>\n",
       "      <td>165.0</td>\n",
       "      <td>3693.0</td>\n",
       "      <td>11.5</td>\n",
       "      <td>70</td>\n",
       "      <td>\"buick skylark 320\"</td>\n",
       "      <td>1</td>\n",
       "      <td>0</td>\n",
       "      <td>0</td>\n",
       "    </tr>\n",
       "    <tr>\n",
       "      <th>2</th>\n",
       "      <td>18.0</td>\n",
       "      <td>8</td>\n",
       "      <td>318.0</td>\n",
       "      <td>150.0</td>\n",
       "      <td>3436.0</td>\n",
       "      <td>11.0</td>\n",
       "      <td>70</td>\n",
       "      <td>\"plymouth satellite\"</td>\n",
       "      <td>1</td>\n",
       "      <td>0</td>\n",
       "      <td>0</td>\n",
       "    </tr>\n",
       "    <tr>\n",
       "      <th>3</th>\n",
       "      <td>16.0</td>\n",
       "      <td>8</td>\n",
       "      <td>304.0</td>\n",
       "      <td>150.0</td>\n",
       "      <td>3433.0</td>\n",
       "      <td>12.0</td>\n",
       "      <td>70</td>\n",
       "      <td>\"amc rebel sst\"</td>\n",
       "      <td>1</td>\n",
       "      <td>0</td>\n",
       "      <td>0</td>\n",
       "    </tr>\n",
       "    <tr>\n",
       "      <th>4</th>\n",
       "      <td>17.0</td>\n",
       "      <td>8</td>\n",
       "      <td>302.0</td>\n",
       "      <td>140.0</td>\n",
       "      <td>3449.0</td>\n",
       "      <td>10.5</td>\n",
       "      <td>70</td>\n",
       "      <td>\"ford torino\"</td>\n",
       "      <td>1</td>\n",
       "      <td>0</td>\n",
       "      <td>0</td>\n",
       "    </tr>\n",
       "  </tbody>\n",
       "</table>\n",
       "</div>"
      ],
      "text/plain": [
       "    MPG  Cylinders  Displacement Horsepower  Weight  Acceleration  Model Year  \\\n",
       "0  18.0          8         307.0      130.0  3504.0          12.0          70   \n",
       "1  15.0          8         350.0      165.0  3693.0          11.5          70   \n",
       "2  18.0          8         318.0      150.0  3436.0          11.0          70   \n",
       "3  16.0          8         304.0      150.0  3433.0          12.0          70   \n",
       "4  17.0          8         302.0      140.0  3449.0          10.5          70   \n",
       "\n",
       "                      Car Name  USA  Europe  Japan  \n",
       "0  \"chevrolet chevelle malibu\"    1       0      0  \n",
       "1          \"buick skylark 320\"    1       0      0  \n",
       "2         \"plymouth satellite\"    1       0      0  \n",
       "3              \"amc rebel sst\"    1       0      0  \n",
       "4                \"ford torino\"    1       0      0  "
      ]
     },
     "execution_count": 15,
     "metadata": {},
     "output_type": "execute_result"
    }
   ],
   "source": [
    "dataset.head()"
   ]
  },
  {
   "cell_type": "markdown",
   "metadata": {
    "id": "Cuym4yvk76vU"
   },
   "source": [
    "### Divide los datos en train y test\n",
    "\n",
    "Ahora divida el set de datos en un set de entrenamiento y otro de pruebas. 80% para entrenamiento\n",
    "\n",
    "Usaremos el set de pruebas en la evaluacion final de nuestro modelo.\n",
    "\n",
    "NOTA: El resultado tienen que ser dos datasets"
   ]
  },
  {
   "cell_type": "code",
   "execution_count": 16,
   "metadata": {
    "id": "qn-IGhUE7_1H"
   },
   "outputs": [],
   "source": [
    "train_dataset = dataset.sample(frac=0.8, random_state = 0)\n",
    "test_dataset = dataset.drop(train_dataset.index)"
   ]
  },
  {
   "cell_type": "code",
   "execution_count": 17,
   "metadata": {},
   "outputs": [],
   "source": [
    "from sklearn.model_selection import train_test_split"
   ]
  },
  {
   "cell_type": "code",
   "execution_count": 18,
   "metadata": {},
   "outputs": [],
   "source": [
    "X_train, X_test, y_train, y_test = train_test_split(train_dataset.iloc[:, 1:], test_dataset.iloc[:, 0])"
   ]
  },
  {
   "cell_type": "code",
   "execution_count": 19,
   "metadata": {},
   "outputs": [
    {
     "data": {
      "text/plain": [
       "7      14.0\n",
       "37     18.0\n",
       "28      9.0\n",
       "128    15.0\n",
       "187    17.5\n",
       "       ... \n",
       "348    37.7\n",
       "115    15.0\n",
       "385    38.0\n",
       "238    33.5\n",
       "20     25.0\n",
       "Name: MPG, Length: 298, dtype: float64"
      ]
     },
     "execution_count": 19,
     "metadata": {},
     "output_type": "execute_result"
    }
   ],
   "source": [
    "y_train"
   ]
  },
  {
   "cell_type": "markdown",
   "metadata": {
    "id": "J4ubs136WLNp"
   },
   "source": [
    "### Inspecciona los datos\n",
    "\n",
    "Revise rapidamente la distribucion conjunta del dataset de entrenamiento mediante un grid de gráficos"
   ]
  },
  {
   "cell_type": "code",
   "execution_count": 21,
   "metadata": {},
   "outputs": [
    {
     "data": {
      "text/plain": [
       "Index(['Cylinders', 'Displacement', 'Horsepower', 'Weight', 'Acceleration',\n",
       "       'Model Year', 'Car Name', 'USA', 'Europe', 'Japan'],\n",
       "      dtype='object')"
      ]
     },
     "execution_count": 21,
     "metadata": {},
     "output_type": "execute_result"
    }
   ],
   "source": [
    "X_train.columns"
   ]
  },
  {
   "cell_type": "code",
   "execution_count": null,
   "metadata": {},
   "outputs": [],
   "source": [
    "pairplot , diag_kind = 'kde'"
   ]
  },
  {
   "cell_type": "markdown",
   "metadata": {
    "id": "gavKO_6DWRMP"
   },
   "source": [
    "Tambien revise las estadisticas generales:"
   ]
  },
  {
   "cell_type": "code",
   "execution_count": 42,
   "metadata": {
    "id": "yi2FzC3T21jR"
   },
   "outputs": [
    {
     "data": {
      "text/html": [
       "<div>\n",
       "<style scoped>\n",
       "    .dataframe tbody tr th:only-of-type {\n",
       "        vertical-align: middle;\n",
       "    }\n",
       "\n",
       "    .dataframe tbody tr th {\n",
       "        vertical-align: top;\n",
       "    }\n",
       "\n",
       "    .dataframe thead th {\n",
       "        text-align: right;\n",
       "    }\n",
       "</style>\n",
       "<table border=\"1\" class=\"dataframe\">\n",
       "  <thead>\n",
       "    <tr style=\"text-align: right;\">\n",
       "      <th></th>\n",
       "      <th>Cylinders</th>\n",
       "      <th>Displacement</th>\n",
       "      <th>Weight</th>\n",
       "      <th>Acceleration</th>\n",
       "      <th>Model Year</th>\n",
       "      <th>USA</th>\n",
       "      <th>Europe</th>\n",
       "      <th>Japan</th>\n",
       "    </tr>\n",
       "  </thead>\n",
       "  <tbody>\n",
       "    <tr>\n",
       "      <th>count</th>\n",
       "      <td>318.000000</td>\n",
       "      <td>318.000000</td>\n",
       "      <td>318.000000</td>\n",
       "      <td>318.000000</td>\n",
       "      <td>318.000000</td>\n",
       "      <td>318.000000</td>\n",
       "      <td>318.000000</td>\n",
       "      <td>318.000000</td>\n",
       "    </tr>\n",
       "    <tr>\n",
       "      <th>mean</th>\n",
       "      <td>5.427673</td>\n",
       "      <td>193.061321</td>\n",
       "      <td>2963.823899</td>\n",
       "      <td>15.595912</td>\n",
       "      <td>75.946541</td>\n",
       "      <td>0.641509</td>\n",
       "      <td>0.163522</td>\n",
       "      <td>0.194969</td>\n",
       "    </tr>\n",
       "    <tr>\n",
       "      <th>std</th>\n",
       "      <td>1.682941</td>\n",
       "      <td>103.812742</td>\n",
       "      <td>844.749805</td>\n",
       "      <td>2.796282</td>\n",
       "      <td>3.705266</td>\n",
       "      <td>0.480313</td>\n",
       "      <td>0.370424</td>\n",
       "      <td>0.396801</td>\n",
       "    </tr>\n",
       "    <tr>\n",
       "      <th>min</th>\n",
       "      <td>3.000000</td>\n",
       "      <td>70.000000</td>\n",
       "      <td>1613.000000</td>\n",
       "      <td>8.000000</td>\n",
       "      <td>70.000000</td>\n",
       "      <td>0.000000</td>\n",
       "      <td>0.000000</td>\n",
       "      <td>0.000000</td>\n",
       "    </tr>\n",
       "    <tr>\n",
       "      <th>25%</th>\n",
       "      <td>4.000000</td>\n",
       "      <td>100.250000</td>\n",
       "      <td>2219.250000</td>\n",
       "      <td>13.900000</td>\n",
       "      <td>73.000000</td>\n",
       "      <td>0.000000</td>\n",
       "      <td>0.000000</td>\n",
       "      <td>0.000000</td>\n",
       "    </tr>\n",
       "    <tr>\n",
       "      <th>50%</th>\n",
       "      <td>4.000000</td>\n",
       "      <td>151.000000</td>\n",
       "      <td>2792.500000</td>\n",
       "      <td>15.500000</td>\n",
       "      <td>76.000000</td>\n",
       "      <td>1.000000</td>\n",
       "      <td>0.000000</td>\n",
       "      <td>0.000000</td>\n",
       "    </tr>\n",
       "    <tr>\n",
       "      <th>75%</th>\n",
       "      <td>6.000000</td>\n",
       "      <td>259.500000</td>\n",
       "      <td>3571.250000</td>\n",
       "      <td>17.300000</td>\n",
       "      <td>79.000000</td>\n",
       "      <td>1.000000</td>\n",
       "      <td>0.000000</td>\n",
       "      <td>0.000000</td>\n",
       "    </tr>\n",
       "    <tr>\n",
       "      <th>max</th>\n",
       "      <td>8.000000</td>\n",
       "      <td>455.000000</td>\n",
       "      <td>5140.000000</td>\n",
       "      <td>24.800000</td>\n",
       "      <td>82.000000</td>\n",
       "      <td>1.000000</td>\n",
       "      <td>1.000000</td>\n",
       "      <td>1.000000</td>\n",
       "    </tr>\n",
       "  </tbody>\n",
       "</table>\n",
       "</div>"
      ],
      "text/plain": [
       "        Cylinders  Displacement       Weight  Acceleration  Model Year  \\\n",
       "count  318.000000    318.000000   318.000000    318.000000  318.000000   \n",
       "mean     5.427673    193.061321  2963.823899     15.595912   75.946541   \n",
       "std      1.682941    103.812742   844.749805      2.796282    3.705266   \n",
       "min      3.000000     70.000000  1613.000000      8.000000   70.000000   \n",
       "25%      4.000000    100.250000  2219.250000     13.900000   73.000000   \n",
       "50%      4.000000    151.000000  2792.500000     15.500000   76.000000   \n",
       "75%      6.000000    259.500000  3571.250000     17.300000   79.000000   \n",
       "max      8.000000    455.000000  5140.000000     24.800000   82.000000   \n",
       "\n",
       "              USA      Europe       Japan  \n",
       "count  318.000000  318.000000  318.000000  \n",
       "mean     0.641509    0.163522    0.194969  \n",
       "std      0.480313    0.370424    0.396801  \n",
       "min      0.000000    0.000000    0.000000  \n",
       "25%      0.000000    0.000000    0.000000  \n",
       "50%      1.000000    0.000000    0.000000  \n",
       "75%      1.000000    0.000000    0.000000  \n",
       "max      1.000000    1.000000    1.000000  "
      ]
     },
     "execution_count": 42,
     "metadata": {},
     "output_type": "execute_result"
    }
   ],
   "source": [
    "train_dataset.describe()"
   ]
  },
  {
   "cell_type": "code",
   "execution_count": 44,
   "metadata": {},
   "outputs": [
    {
     "data": {
      "text/html": [
       "<div>\n",
       "<style scoped>\n",
       "    .dataframe tbody tr th:only-of-type {\n",
       "        vertical-align: middle;\n",
       "    }\n",
       "\n",
       "    .dataframe tbody tr th {\n",
       "        vertical-align: top;\n",
       "    }\n",
       "\n",
       "    .dataframe thead th {\n",
       "        text-align: right;\n",
       "    }\n",
       "</style>\n",
       "<table border=\"1\" class=\"dataframe\">\n",
       "  <thead>\n",
       "    <tr style=\"text-align: right;\">\n",
       "      <th></th>\n",
       "      <th>count</th>\n",
       "      <th>mean</th>\n",
       "      <th>std</th>\n",
       "      <th>min</th>\n",
       "      <th>25%</th>\n",
       "      <th>50%</th>\n",
       "      <th>75%</th>\n",
       "      <th>max</th>\n",
       "    </tr>\n",
       "  </thead>\n",
       "  <tbody>\n",
       "    <tr>\n",
       "      <th>Cylinders</th>\n",
       "      <td>318.0</td>\n",
       "      <td>5.427673</td>\n",
       "      <td>1.682941</td>\n",
       "      <td>3.0</td>\n",
       "      <td>4.00</td>\n",
       "      <td>4.0</td>\n",
       "      <td>6.00</td>\n",
       "      <td>8.0</td>\n",
       "    </tr>\n",
       "    <tr>\n",
       "      <th>Displacement</th>\n",
       "      <td>318.0</td>\n",
       "      <td>193.061321</td>\n",
       "      <td>103.812742</td>\n",
       "      <td>70.0</td>\n",
       "      <td>100.25</td>\n",
       "      <td>151.0</td>\n",
       "      <td>259.50</td>\n",
       "      <td>455.0</td>\n",
       "    </tr>\n",
       "    <tr>\n",
       "      <th>Weight</th>\n",
       "      <td>318.0</td>\n",
       "      <td>2963.823899</td>\n",
       "      <td>844.749805</td>\n",
       "      <td>1613.0</td>\n",
       "      <td>2219.25</td>\n",
       "      <td>2792.5</td>\n",
       "      <td>3571.25</td>\n",
       "      <td>5140.0</td>\n",
       "    </tr>\n",
       "    <tr>\n",
       "      <th>Acceleration</th>\n",
       "      <td>318.0</td>\n",
       "      <td>15.595912</td>\n",
       "      <td>2.796282</td>\n",
       "      <td>8.0</td>\n",
       "      <td>13.90</td>\n",
       "      <td>15.5</td>\n",
       "      <td>17.30</td>\n",
       "      <td>24.8</td>\n",
       "    </tr>\n",
       "    <tr>\n",
       "      <th>Model Year</th>\n",
       "      <td>318.0</td>\n",
       "      <td>75.946541</td>\n",
       "      <td>3.705266</td>\n",
       "      <td>70.0</td>\n",
       "      <td>73.00</td>\n",
       "      <td>76.0</td>\n",
       "      <td>79.00</td>\n",
       "      <td>82.0</td>\n",
       "    </tr>\n",
       "    <tr>\n",
       "      <th>USA</th>\n",
       "      <td>318.0</td>\n",
       "      <td>0.641509</td>\n",
       "      <td>0.480313</td>\n",
       "      <td>0.0</td>\n",
       "      <td>0.00</td>\n",
       "      <td>1.0</td>\n",
       "      <td>1.00</td>\n",
       "      <td>1.0</td>\n",
       "    </tr>\n",
       "    <tr>\n",
       "      <th>Europe</th>\n",
       "      <td>318.0</td>\n",
       "      <td>0.163522</td>\n",
       "      <td>0.370424</td>\n",
       "      <td>0.0</td>\n",
       "      <td>0.00</td>\n",
       "      <td>0.0</td>\n",
       "      <td>0.00</td>\n",
       "      <td>1.0</td>\n",
       "    </tr>\n",
       "    <tr>\n",
       "      <th>Japan</th>\n",
       "      <td>318.0</td>\n",
       "      <td>0.194969</td>\n",
       "      <td>0.396801</td>\n",
       "      <td>0.0</td>\n",
       "      <td>0.00</td>\n",
       "      <td>0.0</td>\n",
       "      <td>0.00</td>\n",
       "      <td>1.0</td>\n",
       "    </tr>\n",
       "  </tbody>\n",
       "</table>\n",
       "</div>"
      ],
      "text/plain": [
       "              count         mean         std     min      25%     50%  \\\n",
       "Cylinders     318.0     5.427673    1.682941     3.0     4.00     4.0   \n",
       "Displacement  318.0   193.061321  103.812742    70.0   100.25   151.0   \n",
       "Weight        318.0  2963.823899  844.749805  1613.0  2219.25  2792.5   \n",
       "Acceleration  318.0    15.595912    2.796282     8.0    13.90    15.5   \n",
       "Model Year    318.0    75.946541    3.705266    70.0    73.00    76.0   \n",
       "USA           318.0     0.641509    0.480313     0.0     0.00     1.0   \n",
       "Europe        318.0     0.163522    0.370424     0.0     0.00     0.0   \n",
       "Japan         318.0     0.194969    0.396801     0.0     0.00     0.0   \n",
       "\n",
       "                  75%     max  \n",
       "Cylinders        6.00     8.0  \n",
       "Displacement   259.50   455.0  \n",
       "Weight        3571.25  5140.0  \n",
       "Acceleration    17.30    24.8  \n",
       "Model Year      79.00    82.0  \n",
       "USA              1.00     1.0  \n",
       "Europe           0.00     1.0  \n",
       "Japan            0.00     1.0  "
      ]
     },
     "execution_count": 44,
     "metadata": {},
     "output_type": "execute_result"
    }
   ],
   "source": [
    "train_stats = train_dataset.describe()º\n",
    "# train_stats.pop(\"MPG\")\n",
    "train_stats = train_stats.T\n",
    "train_stats"
   ]
  },
  {
   "cell_type": "markdown",
   "metadata": {
    "id": "Db7Auq1yXUvh"
   },
   "source": [
    "### Separa las features del target\n",
    "\n",
    "Separe el target de las features."
   ]
  },
  {
   "cell_type": "code",
   "execution_count": 45,
   "metadata": {
    "id": "t2sluJdCW7jN"
   },
   "outputs": [],
   "source": [
    "train_labels = train_dataset\n",
    "test_labels = test_dataset"
   ]
  },
  {
   "cell_type": "code",
   "execution_count": 51,
   "metadata": {},
   "outputs": [
    {
     "data": {
      "text/html": [
       "<div>\n",
       "<style scoped>\n",
       "    .dataframe tbody tr th:only-of-type {\n",
       "        vertical-align: middle;\n",
       "    }\n",
       "\n",
       "    .dataframe tbody tr th {\n",
       "        vertical-align: top;\n",
       "    }\n",
       "\n",
       "    .dataframe thead th {\n",
       "        text-align: right;\n",
       "    }\n",
       "</style>\n",
       "<table border=\"1\" class=\"dataframe\">\n",
       "  <thead>\n",
       "    <tr style=\"text-align: right;\">\n",
       "      <th></th>\n",
       "      <th>Cylinders</th>\n",
       "      <th>Displacement</th>\n",
       "      <th>Horsepower</th>\n",
       "      <th>Weight</th>\n",
       "      <th>Acceleration</th>\n",
       "      <th>Model Year</th>\n",
       "      <th>Car Name</th>\n",
       "      <th>USA</th>\n",
       "      <th>Europe</th>\n",
       "      <th>Japan</th>\n",
       "    </tr>\n",
       "  </thead>\n",
       "  <tbody>\n",
       "    <tr>\n",
       "      <th>65</th>\n",
       "      <td>8</td>\n",
       "      <td>351.0</td>\n",
       "      <td>153.0</td>\n",
       "      <td>4129.0</td>\n",
       "      <td>13.0</td>\n",
       "      <td>72</td>\n",
       "      <td>\"ford galaxie 500\"</td>\n",
       "      <td>1</td>\n",
       "      <td>0</td>\n",
       "      <td>0</td>\n",
       "    </tr>\n",
       "    <tr>\n",
       "      <th>132</th>\n",
       "      <td>4</td>\n",
       "      <td>140.0</td>\n",
       "      <td>75.00</td>\n",
       "      <td>2542.0</td>\n",
       "      <td>17.0</td>\n",
       "      <td>74</td>\n",
       "      <td>\"chevrolet vega\"</td>\n",
       "      <td>1</td>\n",
       "      <td>0</td>\n",
       "      <td>0</td>\n",
       "    </tr>\n",
       "    <tr>\n",
       "      <th>74</th>\n",
       "      <td>8</td>\n",
       "      <td>302.0</td>\n",
       "      <td>140.0</td>\n",
       "      <td>4294.0</td>\n",
       "      <td>16.0</td>\n",
       "      <td>72</td>\n",
       "      <td>\"ford gran torino (sw)\"</td>\n",
       "      <td>1</td>\n",
       "      <td>0</td>\n",
       "      <td>0</td>\n",
       "    </tr>\n",
       "    <tr>\n",
       "      <th>78</th>\n",
       "      <td>4</td>\n",
       "      <td>120.0</td>\n",
       "      <td>87.00</td>\n",
       "      <td>2979.0</td>\n",
       "      <td>19.5</td>\n",
       "      <td>72</td>\n",
       "      <td>\"peugeot 504 (sw)\"</td>\n",
       "      <td>0</td>\n",
       "      <td>1</td>\n",
       "      <td>0</td>\n",
       "    </tr>\n",
       "    <tr>\n",
       "      <th>37</th>\n",
       "      <td>6</td>\n",
       "      <td>232.0</td>\n",
       "      <td>100.0</td>\n",
       "      <td>3288.0</td>\n",
       "      <td>15.5</td>\n",
       "      <td>71</td>\n",
       "      <td>\"amc matador\"</td>\n",
       "      <td>1</td>\n",
       "      <td>0</td>\n",
       "      <td>0</td>\n",
       "    </tr>\n",
       "    <tr>\n",
       "      <th>...</th>\n",
       "      <td>...</td>\n",
       "      <td>...</td>\n",
       "      <td>...</td>\n",
       "      <td>...</td>\n",
       "      <td>...</td>\n",
       "      <td>...</td>\n",
       "      <td>...</td>\n",
       "      <td>...</td>\n",
       "      <td>...</td>\n",
       "      <td>...</td>\n",
       "    </tr>\n",
       "    <tr>\n",
       "      <th>207</th>\n",
       "      <td>4</td>\n",
       "      <td>130.0</td>\n",
       "      <td>102.0</td>\n",
       "      <td>3150.0</td>\n",
       "      <td>15.7</td>\n",
       "      <td>76</td>\n",
       "      <td>\"volvo 245\"</td>\n",
       "      <td>0</td>\n",
       "      <td>1</td>\n",
       "      <td>0</td>\n",
       "    </tr>\n",
       "    <tr>\n",
       "      <th>279</th>\n",
       "      <td>4</td>\n",
       "      <td>98.0</td>\n",
       "      <td>68.00</td>\n",
       "      <td>2135.0</td>\n",
       "      <td>16.6</td>\n",
       "      <td>78</td>\n",
       "      <td>\"honda accord lx\"</td>\n",
       "      <td>0</td>\n",
       "      <td>0</td>\n",
       "      <td>1</td>\n",
       "    </tr>\n",
       "    <tr>\n",
       "      <th>227</th>\n",
       "      <td>6</td>\n",
       "      <td>225.0</td>\n",
       "      <td>100.0</td>\n",
       "      <td>3630.0</td>\n",
       "      <td>17.7</td>\n",
       "      <td>77</td>\n",
       "      <td>\"plymouth volare custom\"</td>\n",
       "      <td>1</td>\n",
       "      <td>0</td>\n",
       "      <td>0</td>\n",
       "    </tr>\n",
       "    <tr>\n",
       "      <th>148</th>\n",
       "      <td>4</td>\n",
       "      <td>116.0</td>\n",
       "      <td>75.00</td>\n",
       "      <td>2246.0</td>\n",
       "      <td>14.0</td>\n",
       "      <td>74</td>\n",
       "      <td>\"fiat 124 tc\"</td>\n",
       "      <td>0</td>\n",
       "      <td>1</td>\n",
       "      <td>0</td>\n",
       "    </tr>\n",
       "    <tr>\n",
       "      <th>143</th>\n",
       "      <td>4</td>\n",
       "      <td>97.0</td>\n",
       "      <td>78.00</td>\n",
       "      <td>2300.0</td>\n",
       "      <td>14.5</td>\n",
       "      <td>74</td>\n",
       "      <td>\"opel manta\"</td>\n",
       "      <td>0</td>\n",
       "      <td>1</td>\n",
       "      <td>0</td>\n",
       "    </tr>\n",
       "  </tbody>\n",
       "</table>\n",
       "<p>313 rows × 10 columns</p>\n",
       "</div>"
      ],
      "text/plain": [
       "     Cylinders  Displacement Horsepower  Weight  Acceleration  Model Year  \\\n",
       "65           8         351.0      153.0  4129.0          13.0          72   \n",
       "132          4         140.0      75.00  2542.0          17.0          74   \n",
       "74           8         302.0      140.0  4294.0          16.0          72   \n",
       "78           4         120.0      87.00  2979.0          19.5          72   \n",
       "37           6         232.0      100.0  3288.0          15.5          71   \n",
       "..         ...           ...        ...     ...           ...         ...   \n",
       "207          4         130.0      102.0  3150.0          15.7          76   \n",
       "279          4          98.0      68.00  2135.0          16.6          78   \n",
       "227          6         225.0      100.0  3630.0          17.7          77   \n",
       "148          4         116.0      75.00  2246.0          14.0          74   \n",
       "143          4          97.0      78.00  2300.0          14.5          74   \n",
       "\n",
       "                     Car Name  USA  Europe  Japan  \n",
       "65         \"ford galaxie 500\"    1       0      0  \n",
       "132          \"chevrolet vega\"    1       0      0  \n",
       "74    \"ford gran torino (sw)\"    1       0      0  \n",
       "78         \"peugeot 504 (sw)\"    0       1      0  \n",
       "37              \"amc matador\"    1       0      0  \n",
       "..                        ...  ...     ...    ...  \n",
       "207               \"volvo 245\"    0       1      0  \n",
       "279         \"honda accord lx\"    0       0      1  \n",
       "227  \"plymouth volare custom\"    1       0      0  \n",
       "148             \"fiat 124 tc\"    0       1      0  \n",
       "143              \"opel manta\"    0       1      0  \n",
       "\n",
       "[313 rows x 10 columns]"
      ]
     },
     "execution_count": 51,
     "metadata": {},
     "output_type": "execute_result"
    }
   ],
   "source": [
    "\n",
    "\n",
    "train_dataset['Horsepower'] = train_dataset['Horsepower'].replace('?', np.nan)\n",
    "train_dataset\n",
    "\n",
    "train_dataset[train_dataset['Horsepower'].isna()]\n",
    "\n",
    "\n",
    "train_dataset.dropna(subset=['Horsepower'])"
   ]
  },
  {
   "cell_type": "code",
   "execution_count": 53,
   "metadata": {},
   "outputs": [
    {
     "data": {
      "text/html": [
       "<div>\n",
       "<style scoped>\n",
       "    .dataframe tbody tr th:only-of-type {\n",
       "        vertical-align: middle;\n",
       "    }\n",
       "\n",
       "    .dataframe tbody tr th {\n",
       "        vertical-align: top;\n",
       "    }\n",
       "\n",
       "    .dataframe thead th {\n",
       "        text-align: right;\n",
       "    }\n",
       "</style>\n",
       "<table border=\"1\" class=\"dataframe\">\n",
       "  <thead>\n",
       "    <tr style=\"text-align: right;\">\n",
       "      <th></th>\n",
       "      <th>Cylinders</th>\n",
       "      <th>Displacement</th>\n",
       "      <th>Horsepower</th>\n",
       "      <th>Weight</th>\n",
       "      <th>Acceleration</th>\n",
       "      <th>Model Year</th>\n",
       "      <th>Car Name</th>\n",
       "      <th>USA</th>\n",
       "      <th>Europe</th>\n",
       "      <th>Japan</th>\n",
       "    </tr>\n",
       "  </thead>\n",
       "  <tbody>\n",
       "    <tr>\n",
       "      <th>9</th>\n",
       "      <td>8</td>\n",
       "      <td>390.0</td>\n",
       "      <td>190.0</td>\n",
       "      <td>3850.0</td>\n",
       "      <td>8.5</td>\n",
       "      <td>70</td>\n",
       "      <td>\"amc ambassador dpl\"</td>\n",
       "      <td>1</td>\n",
       "      <td>0</td>\n",
       "      <td>0</td>\n",
       "    </tr>\n",
       "    <tr>\n",
       "      <th>25</th>\n",
       "      <td>8</td>\n",
       "      <td>360.0</td>\n",
       "      <td>215.0</td>\n",
       "      <td>4615.0</td>\n",
       "      <td>14.0</td>\n",
       "      <td>70</td>\n",
       "      <td>\"ford f250\"</td>\n",
       "      <td>1</td>\n",
       "      <td>0</td>\n",
       "      <td>0</td>\n",
       "    </tr>\n",
       "    <tr>\n",
       "      <th>28</th>\n",
       "      <td>8</td>\n",
       "      <td>304.0</td>\n",
       "      <td>193.0</td>\n",
       "      <td>4732.0</td>\n",
       "      <td>18.5</td>\n",
       "      <td>70</td>\n",
       "      <td>\"hi 1200d\"</td>\n",
       "      <td>1</td>\n",
       "      <td>0</td>\n",
       "      <td>0</td>\n",
       "    </tr>\n",
       "    <tr>\n",
       "      <th>31</th>\n",
       "      <td>4</td>\n",
       "      <td>113.0</td>\n",
       "      <td>95.00</td>\n",
       "      <td>2228.0</td>\n",
       "      <td>14.0</td>\n",
       "      <td>71</td>\n",
       "      <td>\"toyota corona\"</td>\n",
       "      <td>0</td>\n",
       "      <td>0</td>\n",
       "      <td>1</td>\n",
       "    </tr>\n",
       "    <tr>\n",
       "      <th>38</th>\n",
       "      <td>8</td>\n",
       "      <td>350.0</td>\n",
       "      <td>165.0</td>\n",
       "      <td>4209.0</td>\n",
       "      <td>12.0</td>\n",
       "      <td>71</td>\n",
       "      <td>\"chevrolet impala\"</td>\n",
       "      <td>1</td>\n",
       "      <td>0</td>\n",
       "      <td>0</td>\n",
       "    </tr>\n",
       "    <tr>\n",
       "      <th>...</th>\n",
       "      <td>...</td>\n",
       "      <td>...</td>\n",
       "      <td>...</td>\n",
       "      <td>...</td>\n",
       "      <td>...</td>\n",
       "      <td>...</td>\n",
       "      <td>...</td>\n",
       "      <td>...</td>\n",
       "      <td>...</td>\n",
       "      <td>...</td>\n",
       "    </tr>\n",
       "    <tr>\n",
       "      <th>368</th>\n",
       "      <td>4</td>\n",
       "      <td>112.0</td>\n",
       "      <td>88.00</td>\n",
       "      <td>2640.0</td>\n",
       "      <td>18.6</td>\n",
       "      <td>82</td>\n",
       "      <td>\"chevrolet cavalier wagon\"</td>\n",
       "      <td>1</td>\n",
       "      <td>0</td>\n",
       "      <td>0</td>\n",
       "    </tr>\n",
       "    <tr>\n",
       "      <th>370</th>\n",
       "      <td>4</td>\n",
       "      <td>112.0</td>\n",
       "      <td>85.00</td>\n",
       "      <td>2575.0</td>\n",
       "      <td>16.2</td>\n",
       "      <td>82</td>\n",
       "      <td>\"pontiac j2000 se hatchback\"</td>\n",
       "      <td>1</td>\n",
       "      <td>0</td>\n",
       "      <td>0</td>\n",
       "    </tr>\n",
       "    <tr>\n",
       "      <th>382</th>\n",
       "      <td>4</td>\n",
       "      <td>108.0</td>\n",
       "      <td>70.00</td>\n",
       "      <td>2245.0</td>\n",
       "      <td>16.9</td>\n",
       "      <td>82</td>\n",
       "      <td>\"toyota corolla\"</td>\n",
       "      <td>0</td>\n",
       "      <td>0</td>\n",
       "      <td>1</td>\n",
       "    </tr>\n",
       "    <tr>\n",
       "      <th>384</th>\n",
       "      <td>4</td>\n",
       "      <td>91.0</td>\n",
       "      <td>67.00</td>\n",
       "      <td>1965.0</td>\n",
       "      <td>15.7</td>\n",
       "      <td>82</td>\n",
       "      <td>\"honda civic (auto)\"</td>\n",
       "      <td>0</td>\n",
       "      <td>0</td>\n",
       "      <td>1</td>\n",
       "    </tr>\n",
       "    <tr>\n",
       "      <th>396</th>\n",
       "      <td>4</td>\n",
       "      <td>120.0</td>\n",
       "      <td>79.00</td>\n",
       "      <td>2625.0</td>\n",
       "      <td>18.6</td>\n",
       "      <td>82</td>\n",
       "      <td>\"ford ranger\"</td>\n",
       "      <td>1</td>\n",
       "      <td>0</td>\n",
       "      <td>0</td>\n",
       "    </tr>\n",
       "  </tbody>\n",
       "</table>\n",
       "<p>79 rows × 10 columns</p>\n",
       "</div>"
      ],
      "text/plain": [
       "     Cylinders  Displacement Horsepower  Weight  Acceleration  Model Year  \\\n",
       "9            8         390.0      190.0  3850.0           8.5          70   \n",
       "25           8         360.0      215.0  4615.0          14.0          70   \n",
       "28           8         304.0      193.0  4732.0          18.5          70   \n",
       "31           4         113.0      95.00  2228.0          14.0          71   \n",
       "38           8         350.0      165.0  4209.0          12.0          71   \n",
       "..         ...           ...        ...     ...           ...         ...   \n",
       "368          4         112.0      88.00  2640.0          18.6          82   \n",
       "370          4         112.0      85.00  2575.0          16.2          82   \n",
       "382          4         108.0      70.00  2245.0          16.9          82   \n",
       "384          4          91.0      67.00  1965.0          15.7          82   \n",
       "396          4         120.0      79.00  2625.0          18.6          82   \n",
       "\n",
       "                         Car Name  USA  Europe  Japan  \n",
       "9            \"amc ambassador dpl\"    1       0      0  \n",
       "25                    \"ford f250\"    1       0      0  \n",
       "28                     \"hi 1200d\"    1       0      0  \n",
       "31                \"toyota corona\"    0       0      1  \n",
       "38             \"chevrolet impala\"    1       0      0  \n",
       "..                            ...  ...     ...    ...  \n",
       "368    \"chevrolet cavalier wagon\"    1       0      0  \n",
       "370  \"pontiac j2000 se hatchback\"    1       0      0  \n",
       "382              \"toyota corolla\"    0       0      1  \n",
       "384          \"honda civic (auto)\"    0       0      1  \n",
       "396                 \"ford ranger\"    1       0      0  \n",
       "\n",
       "[79 rows x 10 columns]"
      ]
     },
     "execution_count": 53,
     "metadata": {},
     "output_type": "execute_result"
    }
   ],
   "source": [
    "test_dataset['Horsepower'] = test_dataset['Horsepower'].replace('?', np.nan)\n",
    "test_dataset\n",
    "\n",
    "test_dataset[test_dataset['Horsepower'].isna()]\n",
    "\n",
    "\n",
    "test_dataset.dropna(subset=['Horsepower'])"
   ]
  },
  {
   "cell_type": "markdown",
   "metadata": {
    "id": "mRklxK5s388r"
   },
   "source": [
    "### Estandariza los datos"
   ]
  },
  {
   "cell_type": "markdown",
   "metadata": {
    "id": "-ywmerQ6dSox"
   },
   "source": [
    "Es una buena práctica estandarizar funciones que utilizan diferentes escalas y rangos. Aunque el modelo podría converger sin estandarizar, dificulta el entrenamiento y hace que el modelo resultante dependa de la elección de las unidades utilizadas en la entrada."
   ]
  },
  {
   "cell_type": "code",
   "execution_count": null,
   "metadata": {
    "id": "JlC5ooJrgjQF"
   },
   "outputs": [],
   "source": [
    "def norm(x):\n",
    "    return (x - train_stats['mean'])/train_stats['std']\n",
    "\n",
    "from sklearn.preprocessing import StandardScaler\n",
    "\n",
    "st_scaler = StandardScaler()\n",
    "st_scaler.fit(train_dataset)\n",
    "\n",
    "normed_train_data = st_scaler.transform(train_dataset)\n",
    "normed_test_data = st_scaler.transform(test_dataset)\n",
    "\n",
    "#normed_train_data = norm(train_dataset)\n",
    "#normed_test_data = norm(test_dataset)\n",
    "\n",
    "print(normed_train_data.shape)\n",
    "print(normed_test_data.shape)\n",
    "\n",
    "# Podemos utilizar scalados de sklearn"
   ]
  },
  {
   "cell_type": "code",
   "execution_count": 33,
   "metadata": {},
   "outputs": [
    {
     "data": {
      "text/plain": [
       "array([[ 0.60773543, -0.87073567, -1.01107037, ...,  0.77591289,\n",
       "        -0.46589083, -0.49601587],\n",
       "       [-0.13095718, -0.87073567, -0.53106418, ...,  0.77591289,\n",
       "        -0.46589083, -0.49601587],\n",
       "       [-1.4657877 ,  1.48625572,  1.48496183, ...,  0.77591289,\n",
       "        -0.46589083, -0.49601587],\n",
       "       ...,\n",
       "       [ 0.34854504, -0.87073567, -0.83826814, ..., -1.28880447,\n",
       "        -0.46589083,  2.01606452],\n",
       "       [ 1.12611622, -0.87073567, -1.07827123, ..., -1.28880447,\n",
       "        -0.46589083,  2.01606452],\n",
       "       [ 0.60773543, -0.87073567, -0.84786826, ..., -1.28880447,\n",
       "         2.1464256 , -0.49601587]])"
      ]
     },
     "execution_count": 33,
     "metadata": {},
     "output_type": "execute_result"
    }
   ],
   "source": [
    "normed_train_data"
   ]
  },
  {
   "cell_type": "markdown",
   "metadata": {
    "id": "BuiClDk45eS4"
   },
   "source": [
    "Estos datos estandarizados es lo que usaremos para entrenar el modelo."
   ]
  },
  {
   "cell_type": "markdown",
   "metadata": {
    "id": "SmjdzxKzEu1-"
   },
   "source": [
    "## El modelo"
   ]
  },
  {
   "cell_type": "markdown",
   "metadata": {
    "id": "6SWtkIjhrZwa"
   },
   "source": [
    "### Construye el modelo\n",
    "\n",
    "Construyamos nuestro modelo. Aquí, utilizaremos un modelo `secuencial` con dos capas ocultas densamente conectadas y una capa de salida que devuelve un único valor continuo.\n",
    "\n",
    "Por tanto, tendrá tres capas. Una de entrada con activación relu. Otra hidden layer con activación relu y la de salida de regresión, que se compondrá de una única neurona. Pon las neuronas que consideres para las dos primeras capas.\n",
    "\n",
    "Para el compile utiliza un loss='mse'.\n",
    "\n",
    "optimizer = `tf.keras.optimizers.RMSprop(0.001)`\n",
    "\n",
    "Y en metrics añade en una lista el `mae` y `mse`."
   ]
  },
  {
   "cell_type": "code",
   "execution_count": 32,
   "metadata": {},
   "outputs": [
    {
     "data": {
      "text/html": [
       "<div>\n",
       "<style scoped>\n",
       "    .dataframe tbody tr th:only-of-type {\n",
       "        vertical-align: middle;\n",
       "    }\n",
       "\n",
       "    .dataframe tbody tr th {\n",
       "        vertical-align: top;\n",
       "    }\n",
       "\n",
       "    .dataframe thead th {\n",
       "        text-align: right;\n",
       "    }\n",
       "</style>\n",
       "<table border=\"1\" class=\"dataframe\">\n",
       "  <thead>\n",
       "    <tr style=\"text-align: right;\">\n",
       "      <th></th>\n",
       "      <th>Cylinders</th>\n",
       "      <th>Displacement</th>\n",
       "      <th>Horsepower</th>\n",
       "      <th>Weight</th>\n",
       "      <th>Acceleration</th>\n",
       "      <th>Model Year</th>\n",
       "      <th>USA</th>\n",
       "      <th>Europe</th>\n",
       "      <th>Japan</th>\n",
       "    </tr>\n",
       "  </thead>\n",
       "  <tbody>\n",
       "    <tr>\n",
       "      <th>146</th>\n",
       "      <td>-0.869348</td>\n",
       "      <td>-1.009459</td>\n",
       "      <td>-0.784052</td>\n",
       "      <td>-1.025303</td>\n",
       "      <td>-0.379759</td>\n",
       "      <td>-0.516397</td>\n",
       "      <td>0.774676</td>\n",
       "      <td>-0.465148</td>\n",
       "      <td>-0.495225</td>\n",
       "    </tr>\n",
       "    <tr>\n",
       "      <th>282</th>\n",
       "      <td>-0.869348</td>\n",
       "      <td>-0.530218</td>\n",
       "      <td>-0.442811</td>\n",
       "      <td>-0.118796</td>\n",
       "      <td>0.624102</td>\n",
       "      <td>0.843910</td>\n",
       "      <td>0.774676</td>\n",
       "      <td>-0.465148</td>\n",
       "      <td>-0.495225</td>\n",
       "    </tr>\n",
       "    <tr>\n",
       "      <th>69</th>\n",
       "      <td>1.483887</td>\n",
       "      <td>1.482595</td>\n",
       "      <td>1.447140</td>\n",
       "      <td>1.736877</td>\n",
       "      <td>-0.738281</td>\n",
       "      <td>-1.060519</td>\n",
       "      <td>0.774676</td>\n",
       "      <td>-0.465148</td>\n",
       "      <td>-0.495225</td>\n",
       "    </tr>\n",
       "    <tr>\n",
       "      <th>378</th>\n",
       "      <td>-0.869348</td>\n",
       "      <td>-0.865687</td>\n",
       "      <td>-1.099044</td>\n",
       "      <td>-1.025303</td>\n",
       "      <td>-0.308055</td>\n",
       "      <td>1.660094</td>\n",
       "      <td>0.774676</td>\n",
       "      <td>-0.465148</td>\n",
       "      <td>-0.495225</td>\n",
       "    </tr>\n",
       "    <tr>\n",
       "      <th>331</th>\n",
       "      <td>-0.869348</td>\n",
       "      <td>-0.942365</td>\n",
       "      <td>-0.994047</td>\n",
       "      <td>-1.001603</td>\n",
       "      <td>0.875068</td>\n",
       "      <td>1.115971</td>\n",
       "      <td>-1.286751</td>\n",
       "      <td>-0.465148</td>\n",
       "      <td>2.012852</td>\n",
       "    </tr>\n",
       "    <tr>\n",
       "      <th>...</th>\n",
       "      <td>...</td>\n",
       "      <td>...</td>\n",
       "      <td>...</td>\n",
       "      <td>...</td>\n",
       "      <td>...</td>\n",
       "      <td>...</td>\n",
       "      <td>...</td>\n",
       "      <td>...</td>\n",
       "      <td>...</td>\n",
       "    </tr>\n",
       "    <tr>\n",
       "      <th>281</th>\n",
       "      <td>0.307270</td>\n",
       "      <td>0.044872</td>\n",
       "      <td>-0.521559</td>\n",
       "      <td>-0.000298</td>\n",
       "      <td>0.946772</td>\n",
       "      <td>0.843910</td>\n",
       "      <td>0.774676</td>\n",
       "      <td>-0.465148</td>\n",
       "      <td>-0.495225</td>\n",
       "    </tr>\n",
       "    <tr>\n",
       "      <th>229</th>\n",
       "      <td>1.483887</td>\n",
       "      <td>1.961837</td>\n",
       "      <td>1.972127</td>\n",
       "      <td>1.457223</td>\n",
       "      <td>-1.598734</td>\n",
       "      <td>0.299787</td>\n",
       "      <td>0.774676</td>\n",
       "      <td>-0.465148</td>\n",
       "      <td>-0.495225</td>\n",
       "    </tr>\n",
       "    <tr>\n",
       "      <th>150</th>\n",
       "      <td>-0.869348</td>\n",
       "      <td>-0.836932</td>\n",
       "      <td>-0.311564</td>\n",
       "      <td>-0.710099</td>\n",
       "      <td>-0.021237</td>\n",
       "      <td>-0.516397</td>\n",
       "      <td>-1.286751</td>\n",
       "      <td>-0.465148</td>\n",
       "      <td>2.012852</td>\n",
       "    </tr>\n",
       "    <tr>\n",
       "      <th>145</th>\n",
       "      <td>-0.869348</td>\n",
       "      <td>-1.076553</td>\n",
       "      <td>-1.151543</td>\n",
       "      <td>-1.169870</td>\n",
       "      <td>1.233589</td>\n",
       "      <td>-0.516397</td>\n",
       "      <td>-1.286751</td>\n",
       "      <td>-0.465148</td>\n",
       "      <td>2.012852</td>\n",
       "    </tr>\n",
       "    <tr>\n",
       "      <th>182</th>\n",
       "      <td>-0.869348</td>\n",
       "      <td>-0.846517</td>\n",
       "      <td>-0.495310</td>\n",
       "      <td>-0.623596</td>\n",
       "      <td>-0.021237</td>\n",
       "      <td>0.027726</td>\n",
       "      <td>-1.286751</td>\n",
       "      <td>2.143005</td>\n",
       "      <td>-0.495225</td>\n",
       "    </tr>\n",
       "  </tbody>\n",
       "</table>\n",
       "<p>314 rows × 9 columns</p>\n",
       "</div>"
      ],
      "text/plain": [
       "     Cylinders  Displacement  Horsepower    Weight  Acceleration  Model Year  \\\n",
       "146  -0.869348     -1.009459   -0.784052 -1.025303     -0.379759   -0.516397   \n",
       "282  -0.869348     -0.530218   -0.442811 -0.118796      0.624102    0.843910   \n",
       "69    1.483887      1.482595    1.447140  1.736877     -0.738281   -1.060519   \n",
       "378  -0.869348     -0.865687   -1.099044 -1.025303     -0.308055    1.660094   \n",
       "331  -0.869348     -0.942365   -0.994047 -1.001603      0.875068    1.115971   \n",
       "..         ...           ...         ...       ...           ...         ...   \n",
       "281   0.307270      0.044872   -0.521559 -0.000298      0.946772    0.843910   \n",
       "229   1.483887      1.961837    1.972127  1.457223     -1.598734    0.299787   \n",
       "150  -0.869348     -0.836932   -0.311564 -0.710099     -0.021237   -0.516397   \n",
       "145  -0.869348     -1.076553   -1.151543 -1.169870      1.233589   -0.516397   \n",
       "182  -0.869348     -0.846517   -0.495310 -0.623596     -0.021237    0.027726   \n",
       "\n",
       "          USA    Europe     Japan  \n",
       "146  0.774676 -0.465148 -0.495225  \n",
       "282  0.774676 -0.465148 -0.495225  \n",
       "69   0.774676 -0.465148 -0.495225  \n",
       "378  0.774676 -0.465148 -0.495225  \n",
       "331 -1.286751 -0.465148  2.012852  \n",
       "..        ...       ...       ...  \n",
       "281  0.774676 -0.465148 -0.495225  \n",
       "229  0.774676 -0.465148 -0.495225  \n",
       "150 -1.286751 -0.465148  2.012852  \n",
       "145 -1.286751 -0.465148  2.012852  \n",
       "182 -1.286751  2.143005 -0.495225  \n",
       "\n",
       "[314 rows x 9 columns]"
      ]
     },
     "execution_count": 32,
     "metadata": {},
     "output_type": "execute_result"
    }
   ],
   "source": [
    "normed_train_data"
   ]
  },
  {
   "cell_type": "code",
   "execution_count": 36,
   "metadata": {},
   "outputs": [
    {
     "data": {
      "text/plain": [
       "(314, 10)"
      ]
     },
     "execution_count": 36,
     "metadata": {},
     "output_type": "execute_result"
    }
   ],
   "source": [
    "normed_train_data.shape #314 filas para shape y 10 para test\n",
    "normed_test_data.shape\n"
   ]
  },
  {
   "cell_type": "code",
   "execution_count": null,
   "metadata": {},
   "outputs": [],
   "source": [
    "# modelo secuencial\n",
    "\n",
    "# dos capas con 64 y una densa de salida para regresion\n",
    "\n",
    "# compilamos con mse, adam y metricas mae y mse\n",
    "model = keras.models.Sequential() # Instanciación, capa de inicio\n",
    "model.add(keras.layers.Dense(64, activation=\"relu\",input_shape=(9,))) # primera capa, te doy 9 columnas (se lo especificamos por ser la primera capa)\n",
    "model.add(keras.layers.Dense(64, activation=\"relu\")) # segunda capa\n",
    "\n",
    "\n",
    "model.add(keras.layers.Dense(units = 1,activation=None)) #porque tenemos 1 valor (1 bolita)"
   ]
  },
  {
   "cell_type": "code",
   "execution_count": null,
   "metadata": {},
   "outputs": [],
   "source": [
    "model.compile(\n",
    "    optimizer = \"adam\", \n",
    "    loss = \"MSE\",\n",
    "    metrics = [\"MAE\",\"MSE\"] \n",
    ")"
   ]
  },
  {
   "cell_type": "markdown",
   "metadata": {
    "id": "Sj49Og4YGULr"
   },
   "source": [
    "### Inspeccione el modelo\n",
    "\n",
    "Use el método `.summary` para imprimir una descripción simple del modelo"
   ]
  },
  {
   "cell_type": "code",
   "execution_count": 41,
   "metadata": {
    "id": "ReAD0n6MsFK-"
   },
   "outputs": [
    {
     "name": "stdout",
     "output_type": "stream",
     "text": [
      "Model: \"sequential\"\n",
      "_________________________________________________________________\n",
      " Layer (type)                Output Shape              Param #   \n",
      "=================================================================\n",
      " dense (Dense)               (None, 64)                640       \n",
      "                                                                 \n",
      " dense_1 (Dense)             (None, 64)                4160      \n",
      "                                                                 \n",
      " dense_2 (Dense)             (None, 1)                 65        \n",
      "                                                                 \n",
      "=================================================================\n",
      "Total params: 4,865\n",
      "Trainable params: 4,865\n",
      "Non-trainable params: 0\n",
      "_________________________________________________________________\n"
     ]
    }
   ],
   "source": [
    "model.summary()\n",
    "\n",
    "# son dos capas pequeñas y vemos que sale una barbaridad de cantidad de parámetros"
   ]
  },
  {
   "cell_type": "markdown",
   "metadata": {
    "id": "0-qWCsh6DlyH"
   },
   "source": [
    "### Entrenar el modelo\n",
    "\n",
    "Entrene el modelo para 1000 epochs y guarda los resultados del entrenamiento en una variable llamada `history`.\n",
    "Emplea en el entrenamiento un 20% de los datos para validación, mediante el argumento `validation_split`.\n",
    "\n",
    "NOTA: recuerda usar los datos normalizados."
   ]
  },
  {
   "cell_type": "code",
   "execution_count": null,
   "metadata": {},
   "outputs": [],
   "source": [
    "# model fit\n",
    "# con normed_train_data y train_labels, epocas 1000, validation_split 0.2"
   ]
  },
  {
   "cell_type": "code",
   "execution_count": 42,
   "metadata": {
    "id": "sD7qHCmNIOY0"
   },
   "outputs": [],
   "source": [
    "history = model.fit(normed_train_data,\n",
    "                    train_labels,\n",
    "                    epochs = 1000,\n",
    "                    validation_split = 0.2)"
   ]
  },
  {
   "cell_type": "markdown",
   "metadata": {
    "id": "tQm3pc0FYPQB"
   },
   "source": [
    "Visualice el progreso de entrenamiento del modelo usando las estadísticas almacenadas en el objeto `history`."
   ]
  },
  {
   "cell_type": "code",
   "execution_count": 43,
   "metadata": {
    "id": "4Xj91b-dymEy"
   },
   "outputs": [
    {
     "data": {
      "text/html": [
       "<div>\n",
       "<style scoped>\n",
       "    .dataframe tbody tr th:only-of-type {\n",
       "        vertical-align: middle;\n",
       "    }\n",
       "\n",
       "    .dataframe tbody tr th {\n",
       "        vertical-align: top;\n",
       "    }\n",
       "\n",
       "    .dataframe thead th {\n",
       "        text-align: right;\n",
       "    }\n",
       "</style>\n",
       "<table border=\"1\" class=\"dataframe\">\n",
       "  <thead>\n",
       "    <tr style=\"text-align: right;\">\n",
       "      <th></th>\n",
       "      <th>loss</th>\n",
       "      <th>mae</th>\n",
       "      <th>mse</th>\n",
       "      <th>val_loss</th>\n",
       "      <th>val_mae</th>\n",
       "      <th>val_mse</th>\n",
       "      <th>epoch</th>\n",
       "    </tr>\n",
       "  </thead>\n",
       "  <tbody>\n",
       "    <tr>\n",
       "      <th>0</th>\n",
       "      <td>565.652466</td>\n",
       "      <td>22.491453</td>\n",
       "      <td>565.652466</td>\n",
       "      <td>553.881348</td>\n",
       "      <td>22.185551</td>\n",
       "      <td>553.881348</td>\n",
       "      <td>0</td>\n",
       "    </tr>\n",
       "    <tr>\n",
       "      <th>1</th>\n",
       "      <td>509.057617</td>\n",
       "      <td>21.191240</td>\n",
       "      <td>509.057617</td>\n",
       "      <td>498.410400</td>\n",
       "      <td>20.862864</td>\n",
       "      <td>498.410400</td>\n",
       "      <td>1</td>\n",
       "    </tr>\n",
       "    <tr>\n",
       "      <th>2</th>\n",
       "      <td>455.075409</td>\n",
       "      <td>19.872574</td>\n",
       "      <td>455.075409</td>\n",
       "      <td>438.981781</td>\n",
       "      <td>19.377726</td>\n",
       "      <td>438.981781</td>\n",
       "      <td>2</td>\n",
       "    </tr>\n",
       "    <tr>\n",
       "      <th>3</th>\n",
       "      <td>397.133850</td>\n",
       "      <td>18.378845</td>\n",
       "      <td>397.133850</td>\n",
       "      <td>375.689667</td>\n",
       "      <td>17.681675</td>\n",
       "      <td>375.689667</td>\n",
       "      <td>3</td>\n",
       "    </tr>\n",
       "    <tr>\n",
       "      <th>4</th>\n",
       "      <td>335.297821</td>\n",
       "      <td>16.674166</td>\n",
       "      <td>335.297821</td>\n",
       "      <td>309.099396</td>\n",
       "      <td>15.825143</td>\n",
       "      <td>309.099396</td>\n",
       "      <td>4</td>\n",
       "    </tr>\n",
       "    <tr>\n",
       "      <th>...</th>\n",
       "      <td>...</td>\n",
       "      <td>...</td>\n",
       "      <td>...</td>\n",
       "      <td>...</td>\n",
       "      <td>...</td>\n",
       "      <td>...</td>\n",
       "      <td>...</td>\n",
       "    </tr>\n",
       "    <tr>\n",
       "      <th>995</th>\n",
       "      <td>2.547862</td>\n",
       "      <td>1.001326</td>\n",
       "      <td>2.547862</td>\n",
       "      <td>7.692602</td>\n",
       "      <td>2.160211</td>\n",
       "      <td>7.692602</td>\n",
       "      <td>995</td>\n",
       "    </tr>\n",
       "    <tr>\n",
       "      <th>996</th>\n",
       "      <td>2.421582</td>\n",
       "      <td>0.951458</td>\n",
       "      <td>2.421582</td>\n",
       "      <td>8.914474</td>\n",
       "      <td>2.346139</td>\n",
       "      <td>8.914474</td>\n",
       "      <td>996</td>\n",
       "    </tr>\n",
       "    <tr>\n",
       "      <th>997</th>\n",
       "      <td>2.289886</td>\n",
       "      <td>0.942840</td>\n",
       "      <td>2.289886</td>\n",
       "      <td>7.651024</td>\n",
       "      <td>2.177886</td>\n",
       "      <td>7.651024</td>\n",
       "      <td>997</td>\n",
       "    </tr>\n",
       "    <tr>\n",
       "      <th>998</th>\n",
       "      <td>2.409134</td>\n",
       "      <td>0.964620</td>\n",
       "      <td>2.409134</td>\n",
       "      <td>7.943138</td>\n",
       "      <td>2.196527</td>\n",
       "      <td>7.943138</td>\n",
       "      <td>998</td>\n",
       "    </tr>\n",
       "    <tr>\n",
       "      <th>999</th>\n",
       "      <td>2.290716</td>\n",
       "      <td>0.927392</td>\n",
       "      <td>2.290716</td>\n",
       "      <td>7.764339</td>\n",
       "      <td>2.177829</td>\n",
       "      <td>7.764339</td>\n",
       "      <td>999</td>\n",
       "    </tr>\n",
       "  </tbody>\n",
       "</table>\n",
       "<p>1000 rows × 7 columns</p>\n",
       "</div>"
      ],
      "text/plain": [
       "           loss        mae         mse    val_loss    val_mae     val_mse  \\\n",
       "0    565.652466  22.491453  565.652466  553.881348  22.185551  553.881348   \n",
       "1    509.057617  21.191240  509.057617  498.410400  20.862864  498.410400   \n",
       "2    455.075409  19.872574  455.075409  438.981781  19.377726  438.981781   \n",
       "3    397.133850  18.378845  397.133850  375.689667  17.681675  375.689667   \n",
       "4    335.297821  16.674166  335.297821  309.099396  15.825143  309.099396   \n",
       "..          ...        ...         ...         ...        ...         ...   \n",
       "995    2.547862   1.001326    2.547862    7.692602   2.160211    7.692602   \n",
       "996    2.421582   0.951458    2.421582    8.914474   2.346139    8.914474   \n",
       "997    2.289886   0.942840    2.289886    7.651024   2.177886    7.651024   \n",
       "998    2.409134   0.964620    2.409134    7.943138   2.196527    7.943138   \n",
       "999    2.290716   0.927392    2.290716    7.764339   2.177829    7.764339   \n",
       "\n",
       "     epoch  \n",
       "0        0  \n",
       "1        1  \n",
       "2        2  \n",
       "3        3  \n",
       "4        4  \n",
       "..     ...  \n",
       "995    995  \n",
       "996    996  \n",
       "997    997  \n",
       "998    998  \n",
       "999    999  \n",
       "\n",
       "[1000 rows x 7 columns]"
      ]
     },
     "execution_count": 43,
     "metadata": {},
     "output_type": "execute_result"
    }
   ],
   "source": [
    "df_hist = pd.DataFrame(history.history)\n",
    "df_hist['epoch'] = history.epoch\n",
    "df_hist"
   ]
  },
  {
   "cell_type": "code",
   "execution_count": 46,
   "metadata": {},
   "outputs": [
    {
     "data": {
      "text/html": [
       "<div>\n",
       "<style scoped>\n",
       "    .dataframe tbody tr th:only-of-type {\n",
       "        vertical-align: middle;\n",
       "    }\n",
       "\n",
       "    .dataframe tbody tr th {\n",
       "        vertical-align: top;\n",
       "    }\n",
       "\n",
       "    .dataframe thead th {\n",
       "        text-align: right;\n",
       "    }\n",
       "</style>\n",
       "<table border=\"1\" class=\"dataframe\">\n",
       "  <thead>\n",
       "    <tr style=\"text-align: right;\">\n",
       "      <th></th>\n",
       "      <th>loss</th>\n",
       "      <th>mae</th>\n",
       "      <th>mse</th>\n",
       "      <th>val_loss</th>\n",
       "      <th>val_mae</th>\n",
       "      <th>val_mse</th>\n",
       "      <th>epoch</th>\n",
       "    </tr>\n",
       "  </thead>\n",
       "  <tbody>\n",
       "    <tr>\n",
       "      <th>0</th>\n",
       "      <td>569.122498</td>\n",
       "      <td>22.563124</td>\n",
       "      <td>569.122498</td>\n",
       "      <td>566.598938</td>\n",
       "      <td>22.482384</td>\n",
       "      <td>566.598938</td>\n",
       "      <td>0</td>\n",
       "    </tr>\n",
       "    <tr>\n",
       "      <th>1</th>\n",
       "      <td>524.113647</td>\n",
       "      <td>21.601017</td>\n",
       "      <td>524.113647</td>\n",
       "      <td>522.281006</td>\n",
       "      <td>21.522329</td>\n",
       "      <td>522.281006</td>\n",
       "      <td>1</td>\n",
       "    </tr>\n",
       "    <tr>\n",
       "      <th>2</th>\n",
       "      <td>480.588593</td>\n",
       "      <td>20.634548</td>\n",
       "      <td>480.588593</td>\n",
       "      <td>473.464966</td>\n",
       "      <td>20.423933</td>\n",
       "      <td>473.464966</td>\n",
       "      <td>2</td>\n",
       "    </tr>\n",
       "    <tr>\n",
       "      <th>3</th>\n",
       "      <td>433.786835</td>\n",
       "      <td>19.544767</td>\n",
       "      <td>433.786835</td>\n",
       "      <td>420.279602</td>\n",
       "      <td>19.163000</td>\n",
       "      <td>420.279602</td>\n",
       "      <td>3</td>\n",
       "    </tr>\n",
       "    <tr>\n",
       "      <th>4</th>\n",
       "      <td>382.384491</td>\n",
       "      <td>18.279428</td>\n",
       "      <td>382.384491</td>\n",
       "      <td>363.167419</td>\n",
       "      <td>17.714977</td>\n",
       "      <td>363.167419</td>\n",
       "      <td>4</td>\n",
       "    </tr>\n",
       "    <tr>\n",
       "      <th>5</th>\n",
       "      <td>328.764801</td>\n",
       "      <td>16.852097</td>\n",
       "      <td>328.764801</td>\n",
       "      <td>304.017029</td>\n",
       "      <td>16.077837</td>\n",
       "      <td>304.017029</td>\n",
       "      <td>5</td>\n",
       "    </tr>\n",
       "    <tr>\n",
       "      <th>6</th>\n",
       "      <td>272.554016</td>\n",
       "      <td>15.214844</td>\n",
       "      <td>272.554016</td>\n",
       "      <td>243.336929</td>\n",
       "      <td>14.191138</td>\n",
       "      <td>243.336929</td>\n",
       "      <td>6</td>\n",
       "    </tr>\n",
       "    <tr>\n",
       "      <th>7</th>\n",
       "      <td>217.997543</td>\n",
       "      <td>13.415296</td>\n",
       "      <td>217.997543</td>\n",
       "      <td>186.486267</td>\n",
       "      <td>12.174171</td>\n",
       "      <td>186.486267</td>\n",
       "      <td>7</td>\n",
       "    </tr>\n",
       "    <tr>\n",
       "      <th>8</th>\n",
       "      <td>168.185883</td>\n",
       "      <td>11.566193</td>\n",
       "      <td>168.185883</td>\n",
       "      <td>138.032379</td>\n",
       "      <td>10.150662</td>\n",
       "      <td>138.032379</td>\n",
       "      <td>8</td>\n",
       "    </tr>\n",
       "    <tr>\n",
       "      <th>9</th>\n",
       "      <td>127.140526</td>\n",
       "      <td>9.731803</td>\n",
       "      <td>127.140526</td>\n",
       "      <td>100.463943</td>\n",
       "      <td>8.386301</td>\n",
       "      <td>100.463943</td>\n",
       "      <td>9</td>\n",
       "    </tr>\n",
       "    <tr>\n",
       "      <th>10</th>\n",
       "      <td>94.960655</td>\n",
       "      <td>8.090887</td>\n",
       "      <td>94.960655</td>\n",
       "      <td>73.627434</td>\n",
       "      <td>7.100873</td>\n",
       "      <td>73.627434</td>\n",
       "      <td>10</td>\n",
       "    </tr>\n",
       "    <tr>\n",
       "      <th>11</th>\n",
       "      <td>71.250313</td>\n",
       "      <td>6.939244</td>\n",
       "      <td>71.250313</td>\n",
       "      <td>55.924389</td>\n",
       "      <td>6.168549</td>\n",
       "      <td>55.924389</td>\n",
       "      <td>11</td>\n",
       "    </tr>\n",
       "    <tr>\n",
       "      <th>12</th>\n",
       "      <td>54.977596</td>\n",
       "      <td>6.060252</td>\n",
       "      <td>54.977596</td>\n",
       "      <td>45.078999</td>\n",
       "      <td>5.626180</td>\n",
       "      <td>45.078999</td>\n",
       "      <td>12</td>\n",
       "    </tr>\n",
       "    <tr>\n",
       "      <th>13</th>\n",
       "      <td>43.776405</td>\n",
       "      <td>5.394886</td>\n",
       "      <td>43.776405</td>\n",
       "      <td>38.517399</td>\n",
       "      <td>5.281280</td>\n",
       "      <td>38.517399</td>\n",
       "      <td>13</td>\n",
       "    </tr>\n",
       "    <tr>\n",
       "      <th>14</th>\n",
       "      <td>35.490582</td>\n",
       "      <td>4.794948</td>\n",
       "      <td>35.490582</td>\n",
       "      <td>33.719704</td>\n",
       "      <td>4.911541</td>\n",
       "      <td>33.719704</td>\n",
       "      <td>14</td>\n",
       "    </tr>\n",
       "    <tr>\n",
       "      <th>15</th>\n",
       "      <td>29.140924</td>\n",
       "      <td>4.288980</td>\n",
       "      <td>29.140924</td>\n",
       "      <td>29.190399</td>\n",
       "      <td>4.513299</td>\n",
       "      <td>29.190399</td>\n",
       "      <td>15</td>\n",
       "    </tr>\n",
       "    <tr>\n",
       "      <th>16</th>\n",
       "      <td>23.962942</td>\n",
       "      <td>3.783581</td>\n",
       "      <td>23.962942</td>\n",
       "      <td>25.764637</td>\n",
       "      <td>4.188116</td>\n",
       "      <td>25.764637</td>\n",
       "      <td>16</td>\n",
       "    </tr>\n",
       "    <tr>\n",
       "      <th>17</th>\n",
       "      <td>20.006355</td>\n",
       "      <td>3.447198</td>\n",
       "      <td>20.006355</td>\n",
       "      <td>22.915667</td>\n",
       "      <td>3.928195</td>\n",
       "      <td>22.915667</td>\n",
       "      <td>17</td>\n",
       "    </tr>\n",
       "    <tr>\n",
       "      <th>18</th>\n",
       "      <td>17.090248</td>\n",
       "      <td>3.194556</td>\n",
       "      <td>17.090248</td>\n",
       "      <td>20.835976</td>\n",
       "      <td>3.707214</td>\n",
       "      <td>20.835976</td>\n",
       "      <td>18</td>\n",
       "    </tr>\n",
       "    <tr>\n",
       "      <th>19</th>\n",
       "      <td>15.155558</td>\n",
       "      <td>2.982101</td>\n",
       "      <td>15.155558</td>\n",
       "      <td>18.995575</td>\n",
       "      <td>3.483443</td>\n",
       "      <td>18.995575</td>\n",
       "      <td>19</td>\n",
       "    </tr>\n",
       "    <tr>\n",
       "      <th>20</th>\n",
       "      <td>13.582705</td>\n",
       "      <td>2.834512</td>\n",
       "      <td>13.582705</td>\n",
       "      <td>17.127321</td>\n",
       "      <td>3.385510</td>\n",
       "      <td>17.127321</td>\n",
       "      <td>20</td>\n",
       "    </tr>\n",
       "    <tr>\n",
       "      <th>21</th>\n",
       "      <td>12.618172</td>\n",
       "      <td>2.687458</td>\n",
       "      <td>12.618172</td>\n",
       "      <td>15.977363</td>\n",
       "      <td>3.209317</td>\n",
       "      <td>15.977363</td>\n",
       "      <td>21</td>\n",
       "    </tr>\n",
       "    <tr>\n",
       "      <th>22</th>\n",
       "      <td>11.584881</td>\n",
       "      <td>2.584338</td>\n",
       "      <td>11.584881</td>\n",
       "      <td>15.089560</td>\n",
       "      <td>3.072879</td>\n",
       "      <td>15.089560</td>\n",
       "      <td>22</td>\n",
       "    </tr>\n",
       "    <tr>\n",
       "      <th>23</th>\n",
       "      <td>10.764821</td>\n",
       "      <td>2.474446</td>\n",
       "      <td>10.764821</td>\n",
       "      <td>13.675941</td>\n",
       "      <td>2.932909</td>\n",
       "      <td>13.675941</td>\n",
       "      <td>23</td>\n",
       "    </tr>\n",
       "    <tr>\n",
       "      <th>24</th>\n",
       "      <td>10.445756</td>\n",
       "      <td>2.387492</td>\n",
       "      <td>10.445756</td>\n",
       "      <td>12.843922</td>\n",
       "      <td>2.848064</td>\n",
       "      <td>12.843922</td>\n",
       "      <td>24</td>\n",
       "    </tr>\n",
       "    <tr>\n",
       "      <th>25</th>\n",
       "      <td>9.584524</td>\n",
       "      <td>2.275780</td>\n",
       "      <td>9.584524</td>\n",
       "      <td>12.187141</td>\n",
       "      <td>2.749679</td>\n",
       "      <td>12.187141</td>\n",
       "      <td>25</td>\n",
       "    </tr>\n",
       "    <tr>\n",
       "      <th>26</th>\n",
       "      <td>9.209656</td>\n",
       "      <td>2.241862</td>\n",
       "      <td>9.209656</td>\n",
       "      <td>11.524373</td>\n",
       "      <td>2.661974</td>\n",
       "      <td>11.524373</td>\n",
       "      <td>26</td>\n",
       "    </tr>\n",
       "    <tr>\n",
       "      <th>27</th>\n",
       "      <td>8.762495</td>\n",
       "      <td>2.179516</td>\n",
       "      <td>8.762495</td>\n",
       "      <td>11.611606</td>\n",
       "      <td>2.705482</td>\n",
       "      <td>11.611606</td>\n",
       "      <td>27</td>\n",
       "    </tr>\n",
       "    <tr>\n",
       "      <th>28</th>\n",
       "      <td>8.474413</td>\n",
       "      <td>2.084556</td>\n",
       "      <td>8.474413</td>\n",
       "      <td>11.197138</td>\n",
       "      <td>2.521818</td>\n",
       "      <td>11.197138</td>\n",
       "      <td>28</td>\n",
       "    </tr>\n",
       "    <tr>\n",
       "      <th>29</th>\n",
       "      <td>8.514034</td>\n",
       "      <td>2.131173</td>\n",
       "      <td>8.514034</td>\n",
       "      <td>10.779241</td>\n",
       "      <td>2.532446</td>\n",
       "      <td>10.779241</td>\n",
       "      <td>29</td>\n",
       "    </tr>\n",
       "    <tr>\n",
       "      <th>30</th>\n",
       "      <td>8.029154</td>\n",
       "      <td>2.081849</td>\n",
       "      <td>8.029154</td>\n",
       "      <td>10.445084</td>\n",
       "      <td>2.549840</td>\n",
       "      <td>10.445084</td>\n",
       "      <td>30</td>\n",
       "    </tr>\n",
       "    <tr>\n",
       "      <th>31</th>\n",
       "      <td>8.062692</td>\n",
       "      <td>2.029895</td>\n",
       "      <td>8.062692</td>\n",
       "      <td>10.069640</td>\n",
       "      <td>2.491876</td>\n",
       "      <td>10.069640</td>\n",
       "      <td>31</td>\n",
       "    </tr>\n",
       "    <tr>\n",
       "      <th>32</th>\n",
       "      <td>7.816077</td>\n",
       "      <td>2.032027</td>\n",
       "      <td>7.816077</td>\n",
       "      <td>9.939144</td>\n",
       "      <td>2.479778</td>\n",
       "      <td>9.939144</td>\n",
       "      <td>32</td>\n",
       "    </tr>\n",
       "    <tr>\n",
       "      <th>33</th>\n",
       "      <td>7.474840</td>\n",
       "      <td>1.949599</td>\n",
       "      <td>7.474840</td>\n",
       "      <td>9.561022</td>\n",
       "      <td>2.377217</td>\n",
       "      <td>9.561022</td>\n",
       "      <td>33</td>\n",
       "    </tr>\n",
       "    <tr>\n",
       "      <th>34</th>\n",
       "      <td>7.453897</td>\n",
       "      <td>2.004430</td>\n",
       "      <td>7.453897</td>\n",
       "      <td>9.522178</td>\n",
       "      <td>2.395133</td>\n",
       "      <td>9.522178</td>\n",
       "      <td>34</td>\n",
       "    </tr>\n",
       "    <tr>\n",
       "      <th>35</th>\n",
       "      <td>7.491459</td>\n",
       "      <td>1.938573</td>\n",
       "      <td>7.491459</td>\n",
       "      <td>9.577009</td>\n",
       "      <td>2.408905</td>\n",
       "      <td>9.577009</td>\n",
       "      <td>35</td>\n",
       "    </tr>\n",
       "    <tr>\n",
       "      <th>36</th>\n",
       "      <td>7.158424</td>\n",
       "      <td>1.909942</td>\n",
       "      <td>7.158424</td>\n",
       "      <td>9.292862</td>\n",
       "      <td>2.290817</td>\n",
       "      <td>9.292862</td>\n",
       "      <td>36</td>\n",
       "    </tr>\n",
       "    <tr>\n",
       "      <th>37</th>\n",
       "      <td>7.330018</td>\n",
       "      <td>1.961142</td>\n",
       "      <td>7.330018</td>\n",
       "      <td>9.117812</td>\n",
       "      <td>2.271136</td>\n",
       "      <td>9.117812</td>\n",
       "      <td>37</td>\n",
       "    </tr>\n",
       "    <tr>\n",
       "      <th>38</th>\n",
       "      <td>7.146741</td>\n",
       "      <td>1.925473</td>\n",
       "      <td>7.146741</td>\n",
       "      <td>9.050445</td>\n",
       "      <td>2.310820</td>\n",
       "      <td>9.050445</td>\n",
       "      <td>38</td>\n",
       "    </tr>\n",
       "    <tr>\n",
       "      <th>39</th>\n",
       "      <td>7.037216</td>\n",
       "      <td>1.903582</td>\n",
       "      <td>7.037216</td>\n",
       "      <td>9.055556</td>\n",
       "      <td>2.298960</td>\n",
       "      <td>9.055556</td>\n",
       "      <td>39</td>\n",
       "    </tr>\n",
       "    <tr>\n",
       "      <th>40</th>\n",
       "      <td>7.144908</td>\n",
       "      <td>1.929276</td>\n",
       "      <td>7.144908</td>\n",
       "      <td>8.915270</td>\n",
       "      <td>2.305109</td>\n",
       "      <td>8.915270</td>\n",
       "      <td>40</td>\n",
       "    </tr>\n",
       "    <tr>\n",
       "      <th>41</th>\n",
       "      <td>7.158686</td>\n",
       "      <td>1.887330</td>\n",
       "      <td>7.158686</td>\n",
       "      <td>9.097204</td>\n",
       "      <td>2.229217</td>\n",
       "      <td>9.097204</td>\n",
       "      <td>41</td>\n",
       "    </tr>\n",
       "    <tr>\n",
       "      <th>42</th>\n",
       "      <td>6.841960</td>\n",
       "      <td>1.885849</td>\n",
       "      <td>6.841960</td>\n",
       "      <td>8.884901</td>\n",
       "      <td>2.264737</td>\n",
       "      <td>8.884901</td>\n",
       "      <td>42</td>\n",
       "    </tr>\n",
       "    <tr>\n",
       "      <th>43</th>\n",
       "      <td>6.973292</td>\n",
       "      <td>1.876746</td>\n",
       "      <td>6.973292</td>\n",
       "      <td>8.759163</td>\n",
       "      <td>2.218024</td>\n",
       "      <td>8.759163</td>\n",
       "      <td>43</td>\n",
       "    </tr>\n",
       "    <tr>\n",
       "      <th>44</th>\n",
       "      <td>6.915140</td>\n",
       "      <td>1.882902</td>\n",
       "      <td>6.915140</td>\n",
       "      <td>8.714042</td>\n",
       "      <td>2.262129</td>\n",
       "      <td>8.714042</td>\n",
       "      <td>44</td>\n",
       "    </tr>\n",
       "    <tr>\n",
       "      <th>45</th>\n",
       "      <td>6.852654</td>\n",
       "      <td>1.860298</td>\n",
       "      <td>6.852654</td>\n",
       "      <td>8.928890</td>\n",
       "      <td>2.322346</td>\n",
       "      <td>8.928890</td>\n",
       "      <td>45</td>\n",
       "    </tr>\n",
       "    <tr>\n",
       "      <th>46</th>\n",
       "      <td>6.697294</td>\n",
       "      <td>1.844404</td>\n",
       "      <td>6.697294</td>\n",
       "      <td>8.757091</td>\n",
       "      <td>2.200766</td>\n",
       "      <td>8.757091</td>\n",
       "      <td>46</td>\n",
       "    </tr>\n",
       "    <tr>\n",
       "      <th>47</th>\n",
       "      <td>6.744717</td>\n",
       "      <td>1.876097</td>\n",
       "      <td>6.744717</td>\n",
       "      <td>8.518874</td>\n",
       "      <td>2.210751</td>\n",
       "      <td>8.518874</td>\n",
       "      <td>47</td>\n",
       "    </tr>\n",
       "    <tr>\n",
       "      <th>48</th>\n",
       "      <td>6.893813</td>\n",
       "      <td>1.869138</td>\n",
       "      <td>6.893813</td>\n",
       "      <td>8.707170</td>\n",
       "      <td>2.189507</td>\n",
       "      <td>8.707170</td>\n",
       "      <td>48</td>\n",
       "    </tr>\n",
       "    <tr>\n",
       "      <th>49</th>\n",
       "      <td>6.701165</td>\n",
       "      <td>1.853772</td>\n",
       "      <td>6.701165</td>\n",
       "      <td>8.723199</td>\n",
       "      <td>2.204489</td>\n",
       "      <td>8.723199</td>\n",
       "      <td>49</td>\n",
       "    </tr>\n",
       "  </tbody>\n",
       "</table>\n",
       "</div>"
      ],
      "text/plain": [
       "          loss        mae         mse    val_loss    val_mae     val_mse  \\\n",
       "0   569.122498  22.563124  569.122498  566.598938  22.482384  566.598938   \n",
       "1   524.113647  21.601017  524.113647  522.281006  21.522329  522.281006   \n",
       "2   480.588593  20.634548  480.588593  473.464966  20.423933  473.464966   \n",
       "3   433.786835  19.544767  433.786835  420.279602  19.163000  420.279602   \n",
       "4   382.384491  18.279428  382.384491  363.167419  17.714977  363.167419   \n",
       "5   328.764801  16.852097  328.764801  304.017029  16.077837  304.017029   \n",
       "6   272.554016  15.214844  272.554016  243.336929  14.191138  243.336929   \n",
       "7   217.997543  13.415296  217.997543  186.486267  12.174171  186.486267   \n",
       "8   168.185883  11.566193  168.185883  138.032379  10.150662  138.032379   \n",
       "9   127.140526   9.731803  127.140526  100.463943   8.386301  100.463943   \n",
       "10   94.960655   8.090887   94.960655   73.627434   7.100873   73.627434   \n",
       "11   71.250313   6.939244   71.250313   55.924389   6.168549   55.924389   \n",
       "12   54.977596   6.060252   54.977596   45.078999   5.626180   45.078999   \n",
       "13   43.776405   5.394886   43.776405   38.517399   5.281280   38.517399   \n",
       "14   35.490582   4.794948   35.490582   33.719704   4.911541   33.719704   \n",
       "15   29.140924   4.288980   29.140924   29.190399   4.513299   29.190399   \n",
       "16   23.962942   3.783581   23.962942   25.764637   4.188116   25.764637   \n",
       "17   20.006355   3.447198   20.006355   22.915667   3.928195   22.915667   \n",
       "18   17.090248   3.194556   17.090248   20.835976   3.707214   20.835976   \n",
       "19   15.155558   2.982101   15.155558   18.995575   3.483443   18.995575   \n",
       "20   13.582705   2.834512   13.582705   17.127321   3.385510   17.127321   \n",
       "21   12.618172   2.687458   12.618172   15.977363   3.209317   15.977363   \n",
       "22   11.584881   2.584338   11.584881   15.089560   3.072879   15.089560   \n",
       "23   10.764821   2.474446   10.764821   13.675941   2.932909   13.675941   \n",
       "24   10.445756   2.387492   10.445756   12.843922   2.848064   12.843922   \n",
       "25    9.584524   2.275780    9.584524   12.187141   2.749679   12.187141   \n",
       "26    9.209656   2.241862    9.209656   11.524373   2.661974   11.524373   \n",
       "27    8.762495   2.179516    8.762495   11.611606   2.705482   11.611606   \n",
       "28    8.474413   2.084556    8.474413   11.197138   2.521818   11.197138   \n",
       "29    8.514034   2.131173    8.514034   10.779241   2.532446   10.779241   \n",
       "30    8.029154   2.081849    8.029154   10.445084   2.549840   10.445084   \n",
       "31    8.062692   2.029895    8.062692   10.069640   2.491876   10.069640   \n",
       "32    7.816077   2.032027    7.816077    9.939144   2.479778    9.939144   \n",
       "33    7.474840   1.949599    7.474840    9.561022   2.377217    9.561022   \n",
       "34    7.453897   2.004430    7.453897    9.522178   2.395133    9.522178   \n",
       "35    7.491459   1.938573    7.491459    9.577009   2.408905    9.577009   \n",
       "36    7.158424   1.909942    7.158424    9.292862   2.290817    9.292862   \n",
       "37    7.330018   1.961142    7.330018    9.117812   2.271136    9.117812   \n",
       "38    7.146741   1.925473    7.146741    9.050445   2.310820    9.050445   \n",
       "39    7.037216   1.903582    7.037216    9.055556   2.298960    9.055556   \n",
       "40    7.144908   1.929276    7.144908    8.915270   2.305109    8.915270   \n",
       "41    7.158686   1.887330    7.158686    9.097204   2.229217    9.097204   \n",
       "42    6.841960   1.885849    6.841960    8.884901   2.264737    8.884901   \n",
       "43    6.973292   1.876746    6.973292    8.759163   2.218024    8.759163   \n",
       "44    6.915140   1.882902    6.915140    8.714042   2.262129    8.714042   \n",
       "45    6.852654   1.860298    6.852654    8.928890   2.322346    8.928890   \n",
       "46    6.697294   1.844404    6.697294    8.757091   2.200766    8.757091   \n",
       "47    6.744717   1.876097    6.744717    8.518874   2.210751    8.518874   \n",
       "48    6.893813   1.869138    6.893813    8.707170   2.189507    8.707170   \n",
       "49    6.701165   1.853772    6.701165    8.723199   2.204489    8.723199   \n",
       "\n",
       "    epoch  \n",
       "0       0  \n",
       "1       1  \n",
       "2       2  \n",
       "3       3  \n",
       "4       4  \n",
       "5       5  \n",
       "6       6  \n",
       "7       7  \n",
       "8       8  \n",
       "9       9  \n",
       "10     10  \n",
       "11     11  \n",
       "12     12  \n",
       "13     13  \n",
       "14     14  \n",
       "15     15  \n",
       "16     16  \n",
       "17     17  \n",
       "18     18  \n",
       "19     19  \n",
       "20     20  \n",
       "21     21  \n",
       "22     22  \n",
       "23     23  \n",
       "24     24  \n",
       "25     25  \n",
       "26     26  \n",
       "27     27  \n",
       "28     28  \n",
       "29     29  \n",
       "30     30  \n",
       "31     31  \n",
       "32     32  \n",
       "33     33  \n",
       "34     34  \n",
       "35     35  \n",
       "36     36  \n",
       "37     37  \n",
       "38     38  \n",
       "39     39  \n",
       "40     40  \n",
       "41     41  \n",
       "42     42  \n",
       "43     43  \n",
       "44     44  \n",
       "45     45  \n",
       "46     46  \n",
       "47     47  \n",
       "48     48  \n",
       "49     49  "
      ]
     },
     "execution_count": 46,
     "metadata": {},
     "output_type": "execute_result"
    }
   ],
   "source": [
    "df_hist.head(50)"
   ]
  },
  {
   "cell_type": "code",
   "execution_count": 44,
   "metadata": {
    "id": "B6XriGbVPh2t"
   },
   "outputs": [
    {
     "data": {
      "text/plain": [
       "<matplotlib.legend.Legend at 0x2810495c688>"
      ]
     },
     "execution_count": 44,
     "metadata": {},
     "output_type": "execute_result"
    },
    {
     "data": {
      "image/png": "[encoded data removed]",
      "text/plain": [
       "<Figure size 432x288 with 1 Axes>"
      ]
     },
     "metadata": {
      "needs_background": "light"
     },
     "output_type": "display_data"
    }
   ],
   "source": [
    "plt.figure()\n",
    "plt.xlabel('Epoch')\n",
    "plt.ylabel('MAE')\n",
    "plt.plot(df_hist['epoch'], df_hist['mae'], label=['Train Error'] )\n",
    "plt.plot(df_hist['epoch'], df_hist['val_mae'], label=['Val Error'] )\n",
    "plt.ylim([0,5])\n",
    "\n",
    "plt.legend()"
   ]
  },
  {
   "cell_type": "code",
   "execution_count": null,
   "metadata": {},
   "outputs": [],
   "source": [
    "# cortariamos a los 75-80 porque es donde deja de bajar. Si no, overfitteamos"
   ]
  },
  {
   "cell_type": "code",
   "execution_count": 48,
   "metadata": {},
   "outputs": [
    {
     "data": {
      "text/plain": [
       "<matplotlib.legend.Legend at 0x1a24d816988>"
      ]
     },
     "execution_count": 48,
     "metadata": {},
     "output_type": "execute_result"
    },
    {
     "data": {
      "image/png": "[encoded data removed]",
      "text/plain": [
       "<Figure size 432x288 with 1 Axes>"
      ]
     },
     "metadata": {
      "needs_background": "light"
     },
     "output_type": "display_data"
    }
   ],
   "source": [
    "plt.figure()\n",
    "plt.xlabel('Epoch')\n",
    "plt.ylabel('MSE')\n",
    "plt.plot(df_hist['epoch'], df_hist['mse'], label=['Train Error'] )\n",
    "plt.plot(df_hist['epoch'], df_hist['val_mse'], label=['Val Error'] )\n",
    "plt.ylim([0,20])\n",
    "plt.legend()\n",
    "\n",
    "#hazme el modelo de 100 epocas, en vez de 1000 porque ya hemos visto que overfittea"
   ]
  },
  {
   "cell_type": "code",
   "execution_count": 50,
   "metadata": {},
   "outputs": [],
   "source": [
    "def plot_history(history, ylim1=(0,20), ylim2=(0,20)):\n",
    "    df_hist = pd.DataFrame(history.history)\n",
    "    df_hist['epoch'] = history.epoch\n",
    "    plt.figure()\n",
    "    plt.xlabel('Epoch')\n",
    "    plt.ylabel('MAE')\n",
    "    plt.plot(df_hist['epoch'], df_hist['mae'], label=['Train Error'] )\n",
    "    plt.plot(df_hist['epoch'], df_hist['val_mae'], label=['Val Error'] )\n",
    "    plt.ylim(ylim1)\n",
    "    plt.legend()\n",
    "    plt.figure()\n",
    "    plt.xlabel('Epoch')\n",
    "    plt.ylabel('MSE')\n",
    "    plt.plot(df_hist['epoch'], df_hist['mse'], label=['Train Error'] )\n",
    "    plt.plot(df_hist['epoch'], df_hist['val_mse'], label=['Val Error'] )\n",
    "    plt.ylim(ylim2)\n",
    "    plt.legend()"
   ]
  },
  {
   "cell_type": "code",
   "execution_count": 51,
   "metadata": {},
   "outputs": [
    {
     "data": {
      "image/png": "[encoded data removed]",
      "text/plain": [
       "<Figure size 432x288 with 1 Axes>"
      ]
     },
     "metadata": {
      "needs_background": "light"
     },
     "output_type": "display_data"
    },
    {
     "data": {
      "image/png": "[encoded data removed]",
      "text/plain": [
       "<Figure size 432x288 with 1 Axes>"
      ]
     },
     "metadata": {
      "needs_background": "light"
     },
     "output_type": "display_data"
    }
   ],
   "source": [
    "plot_history(history, ylim1 = (0,5))"
   ]
  },
  {
   "cell_type": "markdown",
   "metadata": {},
   "source": [
    "¿Alguna conclusión respecto a este gráfico?"
   ]
  },
  {
   "cell_type": "raw",
   "metadata": {
    "id": "AqsuANc11FYv"
   },
   "source": [
    "Podemos observar que no conseguimos bajar el error en validación a partir de la epoch 50 aprox, y que por lo tanto podríamos estar ante un problema de overfitting.\n",
    "Lo interesante sería entrenar mi modelo con 50 epochs."
   ]
  },
  {
   "cell_type": "markdown",
   "metadata": {},
   "source": [
    "# BONUS TRACK!!\n",
    "Investigadme esto"
   ]
  },
  {
   "cell_type": "markdown",
   "metadata": {},
   "source": [
    "Añade un early stopping al modelo. Pon el argumento `callbacks=[keras.callbacks.EarlyStopping(monitor='val_loss', patience=10)]` dentro del fit().\n",
    "\n",
    "Después del entrenamiento utiliza la función del apartado anterior `plot_history(history)`."
   ]
  },
  {
   "cell_type": "code",
   "execution_count": 52,
   "metadata": {
    "id": "fdMZuhUgzMZ4",
    "tags": []
   },
   "outputs": [
    {
     "data": {
      "image/png": "[encoded data removed]",
      "text/plain": [
       "<Figure size 432x288 with 1 Axes>"
      ]
     },
     "metadata": {
      "needs_background": "light"
     },
     "output_type": "display_data"
    },
    {
     "data": {
      "image/png": "[encoded data removed]",
      "text/plain": [
       "<Figure size 432x288 with 1 Axes>"
      ]
     },
     "metadata": {
      "needs_background": "light"
     },
     "output_type": "display_data"
    }
   ],
   "source": [
    "# HAY QUE REPETIR EL MODELO PERO CON EARLY STOPPING Y  PATIENCE 10\n",
    "# [keras.callbacks.EarlyStopping(monitor='val_loss', patience=10)]\n",
    "plot_history(history)"
   ]
  },
  {
   "cell_type": "markdown",
   "metadata": {},
   "source": [
    "# SE ACABO EL BONUS TRACK, ESTO SI!!!"
   ]
  },
  {
   "cell_type": "markdown",
   "metadata": {},
   "source": [
    "Interpreta el gráfico"
   ]
  },
  {
   "cell_type": "raw",
   "metadata": {},
   "source": [
    "Como habíamos observado en el ejercicio anterior, como a partir aprox de la epoch 50 no baja su val loss, para de iterar."
   ]
  },
  {
   "cell_type": "markdown",
   "metadata": {
    "id": "3St8-DmrX8P4"
   },
   "source": [
    "Veamos qué tan bien generaliza el modelo al usar el conjunto de **test**. Esto nos dice qué tan bien podemos esperar que el modelo prediga cuándo lo usamos en el mundo real. Utiliza el método `evaluate` con los datos de test normalizados y sus labels.\n",
    "\n",
    "Con el método evaluate devolverá tres valores: loss, mae y mse."
   ]
  },
  {
   "cell_type": "code",
   "execution_count": 53,
   "metadata": {
    "id": "jl_yNr5n1kms"
   },
   "outputs": [
    {
     "name": "stdout",
     "output_type": "stream",
     "text": [
      "3/3 [==============================] - 0s 7ms/step - loss: 5.8860 - mae: 1.8805 - mse: 5.8860\n"
     ]
    },
    {
     "data": {
      "text/plain": [
       "1.8805148601531982"
      ]
     },
     "execution_count": 53,
     "metadata": {},
     "output_type": "execute_result"
    }
   ],
   "source": [
    "loss, mae, mse = model.evaluate(normed_test_data, test_labels)\n",
    "mae"
   ]
  },
  {
   "cell_type": "code",
   "execution_count": 54,
   "metadata": {},
   "outputs": [],
   "source": [
    "from sklearn.metrics import r2_score"
   ]
  },
  {
   "cell_type": "code",
   "execution_count": 56,
   "metadata": {},
   "outputs": [
    {
     "name": "stdout",
     "output_type": "stream",
     "text": [
      "3/3 [==============================] - 0s 16ms/step\n"
     ]
    },
    {
     "data": {
      "text/plain": [
       "0.9098707930246225"
      ]
     },
     "execution_count": 56,
     "metadata": {},
     "output_type": "execute_result"
    }
   ],
   "source": [
    "r2_score(test_labels, model.predict(normed_test_data))"
   ]
  },
  {
   "cell_type": "code",
   "execution_count": 57,
   "metadata": {},
   "outputs": [],
   "source": [
    "model.save(\"my_keras_model_MAE_1_96.h5\") #"
   ]
  },
  {
   "cell_type": "markdown",
   "metadata": {
    "id": "Vt6W50qGsJAL"
   },
   "source": [
    "Ahora prueba el modelo. Coge 10 ejemplos de train y llama a` model.predict`."
   ]
  },
  {
   "cell_type": "code",
   "execution_count": 58,
   "metadata": {
    "id": "-d-gBaVtGTSC"
   },
   "outputs": [
    {
     "name": "stdout",
     "output_type": "stream",
     "text": [
      "1/1 [==============================] - 0s 48ms/step\n"
     ]
    },
    {
     "data": {
      "text/plain": [
       "array([[28.6878  ],\n",
       "       [23.859838],\n",
       "       [12.288491],\n",
       "       [37.891945],\n",
       "       [35.145065],\n",
       "       [20.377728],\n",
       "       [37.250618],\n",
       "       [30.458727],\n",
       "       [18.288368],\n",
       "       [25.042332]], dtype=float32)"
      ]
     },
     "execution_count": 58,
     "metadata": {},
     "output_type": "execute_result"
    }
   ],
   "source": [
    "result_10 = model.predict(normed_train_data[:10])\n",
    "result_10"
   ]
  },
  {
   "cell_type": "code",
   "execution_count": null,
   "metadata": {},
   "outputs": [],
   "source": []
  },
  {
   "cell_type": "markdown",
   "metadata": {
    "id": "ft603OzXuEZC"
   },
   "source": [
    "### Haz Predicciones\n",
    "\n",
    "Dibuja en un scatter plot las predicciones de test vs sus true labels."
   ]
  },
  {
   "cell_type": "code",
   "execution_count": 59,
   "metadata": {
    "id": "Xe7RXH3N3CWU"
   },
   "outputs": [
    {
     "name": "stdout",
     "output_type": "stream",
     "text": [
      "3/3 [==============================] - 0s 17ms/step\n"
     ]
    },
    {
     "data": {
      "text/plain": [
       "<matplotlib.collections.PathCollection at 0x28108103448>"
      ]
     },
     "execution_count": 59,
     "metadata": {},
     "output_type": "execute_result"
    },
    {
     "data": {
      "image/png": "[encoded data removed]",
      "text/plain": [
       "<Figure size 432x288 with 1 Axes>"
      ]
     },
     "metadata": {
      "needs_background": "light"
     },
     "output_type": "display_data"
    }
   ],
   "source": [
    "test_predictions = # PREDICCIONES CON norm_test_data\n",
    "plt.scatter(test_labels, test_predictions)"
   ]
  },
  {
   "cell_type": "markdown",
   "metadata": {
    "id": "19wyogbOSU5t"
   },
   "source": [
    "Parece que nuestro modelo predice razonablemente bien. Echemos un vistazo a la distribución de errores.\n",
    "\n",
    "Representa los residuos en un histograma"
   ]
  },
  {
   "cell_type": "code",
   "execution_count": 60,
   "metadata": {
    "id": "f-OHX4DiXd8x"
   },
   "outputs": [
    {
     "data": {
      "text/plain": [
       "(array([ 2.,  1.,  5.,  7., 21., 15., 17.,  8.,  1.,  1.]),\n",
       " array([-7.08172379, -5.68148064, -4.28123749, -2.88099434, -1.48075119,\n",
       "        -0.08050804,  1.31973511,  2.71997826,  4.12022141,  5.52046455,\n",
       "         6.9207077 ]),\n",
       " <BarContainer object of 10 artists>)"
      ]
     },
     "execution_count": 60,
     "metadata": {},
     "output_type": "execute_result"
    },
    {
     "data": {
      "image/png": "[encoded data removed]",
      "text/plain": [
       "<Figure size 432x288 with 1 Axes>"
      ]
     },
     "metadata": {
      "needs_background": "light"
     },
     "output_type": "display_data"
    }
   ],
   "source": [
    "error = test_predictions - test_labels\n",
    "\n",
    "plt.hist(error)"
   ]
  },
  {
   "cell_type": "markdown",
   "metadata": {
    "id": "m0CB5tBjSU5w"
   },
   "source": [
    "No es del todo gaussiano, pero podríamos esperar eso porque el número de muestras es muy pequeño."
   ]
  },
  {
   "cell_type": "markdown",
   "metadata": {
    "id": "vgGQuV-yqYZH"
   },
   "source": [
    "## Conclusion\n",
    "\n",
    "Este cuaderno introdujo algunas técnicas para manejar un problema de regresión.\n",
    "\n",
    "* El error cuadrático medio (MSE) es una función de pérdida común utilizada para problemas de regresión (se utilizan diferentes funciones de pérdida para problemas de clasificación).\n",
    "* Del mismo modo, las métricas de evaluación utilizadas para la regresión difieren de la clasificación. Una métrica de regresión común es el error absoluto medio (MAE).\n",
    "* Cuando las características de datos de entrada numéricos tienen valores con diferentes rangos, cada característica debe escalarse independientemente al mismo rango.\n",
    "* Si no hay muchos datos de entrenamiento, una técnica es preferir una red pequeña con pocas capas ocultas para evitar el sobreajuste.\n",
    "* La detención temprana es una técnica útil para evitar el sobreajuste."
   ]
  },
  {
   "cell_type": "code",
   "execution_count": 58,
   "metadata": {},
   "outputs": [],
   "source": [
    "model_loaded = keras.models.load_model(\"my_keras_model_MAE_1_96.h5\")\n",
    "\n",
    "test_predictions = model_loaded.predict(normed_test_data).flatten()"
   ]
  },
  {
   "cell_type": "code",
   "execution_count": 59,
   "metadata": {},
   "outputs": [
    {
     "data": {
      "text/plain": [
       "array([15.724552 , 11.683048 , 12.47341  , 23.602165 , 21.050465 ,\n",
       "       13.462151 , 13.192361 , 13.379283 , 19.690887 , 30.02945  ,\n",
       "       25.153633 , 24.985764 , 14.308925 , 25.710617 , 12.290881 ,\n",
       "       13.581768 , 14.205824 , 13.1787195, 18.890953 , 12.687322 ,\n",
       "       12.934426 , 25.826237 , 19.114384 , 20.23384  , 30.077175 ,\n",
       "       23.496483 , 15.980178 , 23.140163 , 16.474903 , 20.652336 ,\n",
       "       28.213821 , 21.355206 , 18.866337 , 21.765427 , 26.150589 ,\n",
       "       15.740327 , 19.379036 , 32.69873  , 30.529648 , 17.15385  ,\n",
       "       31.238178 , 29.412548 , 15.778153 , 35.69676  , 34.388645 ,\n",
       "       35.85762  , 20.508686 , 22.531406 , 20.841087 , 26.521431 ,\n",
       "       30.363766 , 19.66843  , 32.53331  , 18.567234 , 17.504608 ,\n",
       "       17.673996 , 33.953976 , 35.18694  , 22.246986 , 24.395443 ,\n",
       "       38.045296 , 33.432056 , 28.231087 , 28.207329 , 32.5648   ,\n",
       "       39.756073 , 37.1423   , 36.268513 , 34.033016 , 29.40741  ,\n",
       "       22.342922 , 21.964573 , 29.8344   , 31.03479  , 36.114246 ,\n",
       "       36.348644 , 38.63989  , 30.715752 ], dtype=float32)"
      ]
     },
     "execution_count": 59,
     "metadata": {},
     "output_type": "execute_result"
    }
   ],
   "source": [
    "test_predictions"
   ]
  },
  {
   "cell_type": "code",
   "execution_count": null,
   "metadata": {},
   "outputs": [],
   "source": []
  }
 ],
 "metadata": {
  "colab": {
   "collapsed_sections": [],
   "name": "regression.ipynb",
   "toc_visible": true
  },
  "kernelspec": {
   "display_name": "Python 3.7.11 ('basic_ds')",
   "language": "python",
   "name": "python3"
  },
  "language_info": {
   "codemirror_mode": {
    "name": "ipython",
    "version": 3
   },
   "file_extension": ".py",
   "mimetype": "text/x-python",
   "name": "python",
   "nbconvert_exporter": "python",
   "pygments_lexer": "ipython3",
   "version": "3.10.14"
  },
  "vscode": {
   "interpreter": {
    "hash": "70dd3549dabd1ce49e5001f72f872ceffdb9455a9d169ec133c29fbc27295603"
   }
  }
 },
 "nbformat": 4,
 "nbformat_minor": 4
}
